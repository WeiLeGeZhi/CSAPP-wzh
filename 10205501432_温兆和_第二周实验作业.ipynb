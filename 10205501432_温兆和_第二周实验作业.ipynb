{
 "cells": [
  {
   "cell_type": "markdown",
   "id": "ae1a017f-f6bd-4164-8eb9-250381a0b40d",
   "metadata": {},
   "source": [
    "# 统计方法与机器学习-实验报告2\n",
    "\n",
    "温兆和 10205501432\n",
    "\n",
    "## 背景描述\n",
    "\n",
    "为了调查吃巧克力对心血管健康的影响，实验由三种类型的巧克力组成：100g的黑巧克力，含有200mg全脂牛奶的100g黑巧克力和200g的牛奶巧克力。12个实验对象：7女5男。在不同的天数里，每个实验对象将吃一种类型的巧克力，一个小时后测量他们血浆的总抗氧能力。\n",
    "\n",
    "## 数据描述\n",
    "\n",
    "实验次序本身具有随机性，无需再随机化。请使用Project_1.csv中的数据集。数据字典如下表所示。\n",
    "|变量名|变量含义|变量类型|变量取值范围|\n",
    "|-----|--------|-------|-----------|\n",
    "|Chocolate|巧克力类型|分类变量|$\\{1,2,3\\}$|\n",
    "|Capacity|血浆浓度|连续变量|$R$|\n",
    "\n",
    "显著性水平$α$取 0.05。\n",
    "\n",
    "## 实验过程\n",
    "\n",
    "- 用Bonferroni方法比较吃了 3 种巧克力后，一个小时的血浆总抗氧能力两两是否存在差异。\n",
    "\n",
    "在多重比较问题中，$\\mu_{i}-\\mu_{i'}$落入置信区间$$[(\\bar{y_{i.}}-\\bar{y_{i'.}})-t_{1-\\alpha/2}(n-a)\\hat{\\sigma}\\sqrt{\\frac{2}{m}},(\\bar{y_{i.}}-\\bar{y_{i'.}})+t_{1-\\alpha/2}(n-a)\\hat{\\sigma}\\sqrt{\\frac{2}{m}}]$$的概率为$1-\\alpha$，但所有$\\mu_{i}-\\mu_{i'}$都落入该置信区间的概率介于$1-a\\alpha$和$1-\\alpha$之间，这个值可能远小于$1-\\alpha$。在Bonferroni方法中，我们把置信水平$1-\\alpha$扩大为$1-\\frac{\\alpha}{a}$，从而保证所有$\\mu_{i}-\\mu_{i'}$都落入该置信区间的概率至少为$1-\\alpha$。\n",
    "\n",
    "我们首先引入本次实验所需的Python库，并用与上一次实验同样的方法对数据集进行处理，并设定好水平数、样本量、显著性水平等参数："
   ]
  },
  {
   "cell_type": "code",
   "execution_count": 18,
   "id": "89a3a53e-44a2-4b0f-a637-adff5067e785",
   "metadata": {},
   "outputs": [
    {
     "name": "stdout",
     "output_type": "stream",
     "text": [
      "   chokolate  capacity\n",
      "0          A     118.8\n",
      "1          A     122.6\n",
      "2          A     115.6\n",
      "3          A     113.6\n",
      "4          A     119.5\n",
      "5          A     115.9\n",
      "6          A     115.8\n",
      "7          A     115.1\n",
      "8          A     116.9\n",
      "9          A     115.4\n",
      "10         A     115.6\n",
      "11         A     107.9\n",
      "12         B     105.4\n",
      "13         B     101.1\n",
      "14         B     102.7\n",
      "15         B      97.1\n",
      "16         B     101.9\n",
      "17         B      98.9\n",
      "18         B     100.0\n",
      "19         B      99.8\n",
      "20         B     102.6\n",
      "21         B     100.9\n",
      "22         B     104.5\n",
      "23         B      93.5\n",
      "24         C     102.1\n",
      "25         C     105.8\n",
      "26         C      99.6\n",
      "27         C     102.7\n",
      "28         C      98.8\n",
      "29         C     100.9\n",
      "30         C     102.8\n",
      "31         C      98.7\n",
      "32         C      94.7\n",
      "33         C      97.8\n",
      "34         C      99.7\n",
      "35         C      98.6\n"
     ]
    },
    {
     "name": "stderr",
     "output_type": "stream",
     "text": [
      "/tmp/ipykernel_1457146/2750232432.py:39: SettingWithCopyWarning: \n",
      "A value is trying to be set on a copy of a slice from a DataFrame\n",
      "\n",
      "See the caveats in the documentation: https://pandas.pydata.org/pandas-docs/stable/user_guide/indexing.html#returning-a-view-versus-a-copy\n"
     ]
    }
   ],
   "source": [
    "import os # 修改工作目录\n",
    "\n",
    "import numpy as np\n",
    "import pandas as pd\n",
    "import random\n",
    "from numpy import random\n",
    "from statsmodels.stats.multicomp import pairwise_tukeyhsd\n",
    "import scipy.stats as stats # 统计函数\n",
    "import matplotlib.pyplot as plt\n",
    "from plotnine import * # ggplot 绘图\n",
    "from plotnine.data import mpg\n",
    "from jupyterquiz import display_quiz # Quiz\n",
    "\n",
    "#from ggplot import ggplot\n",
    "\n",
    "import math\n",
    "\n",
    "from statsmodels.formula.api import ols\n",
    "from statsmodels.stats.anova import anova_lm\n",
    "from scipy.stats import f\n",
    "from scipy.stats import t\n",
    "from statsmodels.stats.stattools import durbin_watson\n",
    "alpha = 0.05 # significant level\n",
    "a = 3 # number of levels\n",
    "m = 12 # number of replicates\n",
    "n = a*m # sample size\n",
    "def ChangeNumToLetter(a):\n",
    "    if a==1:\n",
    "        return 'A'\n",
    "    elif a==2:\n",
    "        return 'B'\n",
    "    else:\n",
    "        return 'C'\n",
    "Data = pd.read_csv(\"./Project/Project_1.csv\")\n",
    "## Construct a New Dataset\n",
    "Data = Data[['Chocolate','Capacity']] # select some columns from a dataset\n",
    "Data.columns = ['chokolate','capacity']\n",
    "for z in range(0,36):\n",
    "    Data['chokolate'][z]=ChangeNumToLetter(Data['chokolate'][z])\n",
    "print(Data)"
   ]
  },
  {
   "cell_type": "markdown",
   "id": "6c8d5a5e-9795-4160-81bb-e32cb3be5cea",
   "metadata": {},
   "source": [
    "由上周的实验可知，$MS_E=10.4335$。调整显著性水平,并求出三组样本各自的平均值和$t_{1-\\alpha/2a}(n-a)$："
   ]
  },
  {
   "cell_type": "code",
   "execution_count": 3,
   "id": "11e01114-af68-4b0b-9e7a-ad9cb5e590a7",
   "metadata": {},
   "outputs": [],
   "source": [
    "alphacomma = alpha/a\n",
    "MSE = 10.4335\n",
    "Aaverage = 0\n",
    "Baverage = 0\n",
    "Caverage = 0\n",
    "for z in range(0,36):\n",
    "    if Data['chokolate'][z]=='A':\n",
    "        Aaverage+=Data['capacity'][z]\n",
    "    elif Data['chokolate'][z]=='B':\n",
    "        Baverage+=Data['capacity'][z]\n",
    "    else:\n",
    "        Caverage+=Data['capacity'][z]\n",
    "Aaverage = Aaverage/m\n",
    "Baverage = Baverage/m\n",
    "Caverage = Caverage/m\n",
    "td=round(t.ppf(1-alphacomma/2,n-a),4)"
   ]
  },
  {
   "cell_type": "markdown",
   "id": "59eff14e-819d-4dc6-801b-5736233bb0de",
   "metadata": {},
   "source": [
    "用调整后的显著性水平比较A、B两种巧克力对心血管健康的影响："
   ]
  },
  {
   "cell_type": "code",
   "execution_count": 4,
   "id": "d12a9483-0786-4470-95bc-0c9b97362b6b",
   "metadata": {},
   "outputs": [
    {
     "name": "stdout",
     "output_type": "stream",
     "text": [
      "4.615127007390646\n",
      "26.10153965927605\n"
     ]
    }
   ],
   "source": [
    "lower1 = Aaverage-Baverage-td*MSE*((2/m)**0.5)\n",
    "upper1 = Aaverage-Baverage+td*MSE*((2/m)**0.5)\n",
    "print(lower1)\n",
    "print(upper1)"
   ]
  },
  {
   "cell_type": "markdown",
   "id": "5178dea3-c3e2-4c46-b73b-649e5021cef3",
   "metadata": {},
   "source": [
    "可见，0并没有落入置信区间。我们拒绝原假设，认为A、B两种巧克力对心血管健康的影响不同。\n",
    "\n",
    "下面，我们用同样的方法比较B、C两种巧克力对心血管健康的影响："
   ]
  },
  {
   "cell_type": "code",
   "execution_count": 5,
   "id": "e28778a3-746c-497d-b602-e9a90e1f7f99",
   "metadata": {},
   "outputs": [
    {
     "name": "stdout",
     "output_type": "stream",
     "text": [
      "-10.226539659276037\n",
      "11.259872992609369\n"
     ]
    }
   ],
   "source": [
    "lower2 = Baverage-Caverage-td*MSE*((2/m)**0.5)\n",
    "upper2 = Baverage-Caverage+td*MSE*((2/m)**0.5)\n",
    "print(lower2)\n",
    "print(upper2)"
   ]
  },
  {
   "cell_type": "markdown",
   "id": "e4a0f958-c661-4928-9115-427c6c703d77",
   "metadata": {},
   "source": [
    "可见，0落入了置信区间。我们接受原假设，认为B、C两种巧克力对心血管健康的影响不同。\n",
    "\n",
    "下面，我们用同样的方法比较A、C两种巧克力对心血管健康的影响："
   ]
  },
  {
   "cell_type": "code",
   "execution_count": 6,
   "id": "e5fe3bae-cf3a-46a6-8791-7e6e1fa2a769",
   "metadata": {},
   "outputs": [
    {
     "name": "stdout",
     "output_type": "stream",
     "text": [
      "5.131793674057311\n",
      "26.618206325942715\n"
     ]
    }
   ],
   "source": [
    "lower3 = Aaverage-Caverage-td*MSE*((2/m)**0.5)\n",
    "upper3 = Aaverage-Caverage+td*MSE*((2/m)**0.5)\n",
    "print(lower3)\n",
    "print(upper3)"
   ]
  },
  {
   "cell_type": "markdown",
   "id": "60ae7a19-8a80-42cd-b624-ebf6e75bf90e",
   "metadata": {},
   "source": [
    "可见，0并没有落入置信区间。我们拒绝原假设，认为A、C两种巧克力对心血管健康的影响不同。"
   ]
  },
  {
   "cell_type": "markdown",
   "id": "9e86f455-57c8-4226-92bb-18be6dd4d1b0",
   "metadata": {},
   "source": [
    "- 用Tukey方法比较吃了 3 种巧克力后，一个小时的血浆总抗氧能力两两是否存在差异。采用以下两种不同的方法来解决这个问题：\n",
    "    \n",
    "    1.直接调用python中现有函数；\n",
    "    \n",
    "    2.用蒙特卡洛随机模拟分布的方式，确定$t$化极差统计量的分位数$q_{1-α}(a,df)$,计算临界值(critical value)$c=q_{1-α}(a,df)\\frac{\\hat{\\sigma}}{m}$。"
   ]
  },
  {
   "cell_type": "markdown",
   "id": "4f5f143d-9bf1-4314-a6f0-1fc2e828592c",
   "metadata": {},
   "source": [
    "在多重比较问题中，我们同时比较所有的平均值组合。这其中至少一对平均值组合不相等就构成了拒绝域$$W=\\bigcup_{1\\leq i<i'\\leq a}\\{|\\bar{y_{i.}}-\\bar{y_{i'.}}|\\geq c_{ii'}\\}$$\n",
    "\n",
    "为了简化问题，我们假设$$对\\forall i,i'\\in\\{1\\leq i<i'\\leq a\\},c_{ii'}=c$$\n",
    "\n",
    "由于在原假设成立时诸$\\mu_{i}$都等于$\\mu$，易得$$P(W)=P(max_{i}\\frac{\\bar{y_{i.}}-\\mu}{\\frac{\\hat{\\sigma}}{\\sqrt{m}}}-min_{i}\\frac{\\bar{y_{i.}}-\\mu}{\\frac{\\hat{\\sigma}}{\\sqrt{m}}}\\geq\\frac{c}{\\frac{\\hat{\\sigma}}{\\sqrt{m}}})$$\n",
    "\n",
    "令$$q(a,df)=max_{i}\\frac{\\bar{y_{i.}}-\\mu}{\\frac{\\hat{\\sigma}}{\\sqrt{m}}}-min_{i}\\frac{\\bar{y_{i.}}-\\mu}{\\frac{\\hat{\\sigma}} {\\sqrt{m}}},df=n-a$$\n",
    "\n",
    "由于$$\\frac{\\bar{y_{i.}}-\\mu}{\\frac{\\hat{\\sigma}}{\\sqrt{m}}}\\sim t(n-a)$$\n",
    "\n",
    "所以我们可以把$q(a,df)$看成$a$个独立同分布的自由度为$df$的$t$分布的随机变量的极差。\n",
    "\n",
    "我们先用Python内置的函数来通过Tukey方法对数据集Data进行检验。"
   ]
  },
  {
   "cell_type": "code",
   "execution_count": 7,
   "id": "a349cdee-7163-4c00-8a06-6720c4839589",
   "metadata": {},
   "outputs": [
    {
     "name": "stdout",
     "output_type": "stream",
     "text": [
      " Multiple Comparison of Means - Tukey HSD, FWER=0.05  \n",
      "======================================================\n",
      "group1 group2 meandiff p-adj   lower    upper   reject\n",
      "------------------------------------------------------\n",
      "     A      B -15.3583    0.0 -18.5941 -12.1226   True\n",
      "     A      C  -15.875    0.0 -19.1108 -12.6392   True\n",
      "     B      C  -0.5167 0.9191  -3.7524   2.7191  False\n",
      "------------------------------------------------------\n"
     ]
    }
   ],
   "source": [
    "Tukey= pairwise_tukeyhsd(endog = Data[\"capacity\"], groups=Data[\"chokolate\"],alpha=alpha)\n",
    "print(Tukey)"
   ]
  },
  {
   "cell_type": "markdown",
   "id": "358c8456-745e-4021-8529-c2f5cf170d7f",
   "metadata": {},
   "source": [
    "可见，A巧克力与B巧克力、A巧克力与C巧克力对心血管健康的影响不同，而B巧克力与C巧克力对心血管健康的影响相同。\n",
    "\n",
    "接着，我们再使用蒙特卡洛方法得到$q(a,df)$的分布。在显著性水平$\\alpha$下，由于$$P(W)=P(q(a,df)\\geq\\frac{c}{\\frac{\\hat{\\sigma}}{\\sqrt{m}}})=\\alpha$$\n",
    "\n",
    "我们可以得到$$c=q_{1-\\alpha}(a,df)\\frac{\\hat{\\sigma}}{\\sqrt{m}}$$\n",
    "\n",
    "我们只要将不同水平下的样本均值两两作差并与临界值$c$比较，就可以做出判断了。\n",
    "\n",
    "在本实验中，水平数$a=3$，$t$分布的自由度为$n-a=33$，$\\bar{\\sigma}=MS_E=10.4335$，我们令重复次数$N=1000000$。"
   ]
  },
  {
   "cell_type": "code",
   "execution_count": 24,
   "id": "d3ddf973-1a40-4179-aefc-6c670e22b3a1",
   "metadata": {},
   "outputs": [
    {
     "name": "stdout",
     "output_type": "stream",
     "text": [
      "10.442934601227966\n"
     ]
    }
   ],
   "source": [
    "Q_N = []\n",
    "for z in range(0,1000000):\n",
    "    N_01 = [random.randn(),random.randn(),random.randn()]\n",
    "    N_01.sort()\n",
    "    chi = random.chisquare(n-a)\n",
    "    chi = chi/(n-a)\n",
    "    q_n = (N_01[2]-N_01[0])/(chi**0.5)\n",
    "    Q_N.append(q_n)\n",
    "Q_N.sort()\n",
    "# 1-α分位数为950000，方差的估计MSE=10.4335\n",
    "c_aim = Q_N[950000]*(10.4335/(m**0.5))\n",
    "print(c_aim)"
   ]
  },
  {
   "cell_type": "markdown",
   "id": "bbb61029-511c-4c65-bfc4-43278d43c98a",
   "metadata": {},
   "source": [
    "这时，我们就得到了这个多重比较问题拒绝域中的临界值$c$。下面，我们对三组样本的样本均值两两做差并与刚刚得到的临界值进行比较，并得出结论。"
   ]
  },
  {
   "cell_type": "code",
   "execution_count": 27,
   "id": "d3df0f88-150c-446a-b4f6-59978f49a0f2",
   "metadata": {},
   "outputs": [
    {
     "name": "stdout",
     "output_type": "stream",
     "text": [
      "15.358333333333348\n",
      "0.5166666666666657\n",
      "15.875000000000014\n"
     ]
    }
   ],
   "source": [
    "delta_AB = Aaverage - Baverage\n",
    "delta_BC = Baverage - Caverage\n",
    "delta_AC = Aaverage - Caverage\n",
    "print(delta_AB)\n",
    "print(delta_BC)\n",
    "print(delta_AC)"
   ]
  },
  {
   "cell_type": "markdown",
   "id": "c62855d6-f718-4633-92a9-8dcfa97d8bee",
   "metadata": {},
   "source": [
    "可见，巧克力A与巧克力B、巧克力A与巧克力C的样本均值之差大于我们刚才给定的临界值10.4429，所以我们拒绝原假设，认为巧克力A与巧克力B、巧克力A与巧克力C对心血管健康的影响不一样；而巧克力B与巧克力C的样本均值之差小于这个临界值，所以我们接受原假设，认为巧克力B与巧克力C对心血管健康的影响一样。这个结果与我们刚刚用Python内置的Tukey方法函数得到的结果是一致的。"
   ]
  },
  {
   "cell_type": "markdown",
   "id": "d758854d-60ee-4822-b5fa-65f6c8e90892",
   "metadata": {},
   "source": [
    "- 基于这个例子，请评述一下Bonferroni方法和Tukey方法的异同。"
   ]
  },
  {
   "cell_type": "markdown",
   "id": "6d3158ca-2fe8-4682-9e11-72d477e8e097",
   "metadata": {},
   "source": [
    "同：在这个实验中，Bonferroni方法和Tukey方法都是想在一整个数据集上（也就是巧克力A、B、C对心血管健康的影响）比较两个不同水平下的样本均值是否相等（也就是比较两种不同的巧克力对心血管健康的影响的异同）。当水平数为$a$时，我们要计算$O(a^2)$个拒绝域，但当原假设成立（三种巧克力对心血管健康影响一致）时，每一对水平的均值之差都落入接受域的概率会小于原有的显著性水平$1-\\alpha$。这两种方法也都是为了解决这个问题。\n",
    "\n",
    "异：Bonferroni方法先确定当原假设成立时，每一对水平的均值之差都落入接受域的概率介于$1-a\\alpha$和$1-\\alpha$之间，再把单对水平均值差（两种巧克力对心血管健康影响的均值之差）区间估计的置信水平升为$1-\\frac{\\alpha}{a}$，从而保证当原假设成立时，每一对水平的均值之差都落入接受域的概率为$1-\\alpha$。但这会导致单对水平均值差的置信区间变大，精度降低；\n",
    "\n",
    "Tukey方法则是将每一对水平（每两种巧克力）比较时拒绝域的临界值都设定为同一个值$c$，并证明当原假设成立时$c$与$t$分布极差统计量的分位数有关，再求$t$分布极差统计量的$1-\\alpha$分位数，从而保证当原假设成立（三种巧克力对心血管健康影响一致）时，每一对水平的均值之差都落入接受域的概率等于$1-\\alpha$。"
   ]
  }
 ],
 "metadata": {
  "kernelspec": {
   "display_name": "Python 3 (ipykernel)",
   "language": "python",
   "name": "python3"
  },
  "language_info": {
   "codemirror_mode": {
    "name": "ipython",
    "version": 3
   },
   "file_extension": ".py",
   "mimetype": "text/x-python",
   "name": "python",
   "nbconvert_exporter": "python",
   "pygments_lexer": "ipython3",
   "version": "3.9.12"
  }
 },
 "nbformat": 4,
 "nbformat_minor": 5
}
