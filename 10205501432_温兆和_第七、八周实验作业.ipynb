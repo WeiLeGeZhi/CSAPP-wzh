{
 "cells": [
  {
   "cell_type": "markdown",
   "id": "b9147cc1-363d-4118-8882-08caf803d5b2",
   "metadata": {},
   "source": [
    "# 统计方法与机器学习-实验报告6\n",
    "\n",
    "温兆和 10205501432\n",
    "\n",
    "## 数据预处理\n",
    "\n",
    "### 1.从scikit-learn包中载入数据集diabetes"
   ]
  },
  {
   "cell_type": "code",
   "execution_count": 11,
   "id": "3e794c23-9d2c-47c0-9105-317207e1034c",
   "metadata": {},
   "outputs": [],
   "source": [
    "#下载本次实验的Python包\n",
    "from sklearn.datasets import load_diabetes\n",
    "\n",
    "import os\n",
    "\n",
    "import pandas as pd\n",
    "import numpy as np\n",
    "import random\n",
    "import seaborn as sns\n",
    "import scipy.stats as stats\n",
    "import matplotlib.pyplot as plt\n",
    "import math\n",
    "\n",
    "from sklearn import preprocessing # Data Preprocessing\n",
    "import statsmodels.api as sm # LSE, Ridge Regression\n",
    "from statsmodels.stats.outliers_influence import variance_inflation_factor # VIF \n",
    "from statsmodels.multivariate.pca import PCA # PCR\n",
    "#下载Python内置的数据集diabetes\n",
    "Data = load_diabetes()"
   ]
  },
  {
   "cell_type": "markdown",
   "id": "13052856-a018-484c-a7a3-6640ce533542",
   "metadata": {},
   "source": [
    "### 2.通过阅读以下参考文献，定义清楚问题背景、数据中响应变量和自变量的概念、取值范围等信息。\n",
    "\n",
    "我们先把diabetes数据集打印出来，看看里面是什么样。"
   ]
  },
  {
   "cell_type": "code",
   "execution_count": 12,
   "id": "c6fbb93b-6e6b-429b-9504-eb47815a1ca4",
   "metadata": {},
   "outputs": [
    {
     "name": "stdout",
     "output_type": "stream",
     "text": [
      "{'data': array([[ 0.03807591,  0.05068012,  0.06169621, ..., -0.00259226,\n",
      "         0.01990749, -0.01764613],\n",
      "       [-0.00188202, -0.04464164, -0.05147406, ..., -0.03949338,\n",
      "        -0.06833155, -0.09220405],\n",
      "       [ 0.08529891,  0.05068012,  0.04445121, ..., -0.00259226,\n",
      "         0.00286131, -0.02593034],\n",
      "       ...,\n",
      "       [ 0.04170844,  0.05068012, -0.01590626, ..., -0.01107952,\n",
      "        -0.04688253,  0.01549073],\n",
      "       [-0.04547248, -0.04464164,  0.03906215, ...,  0.02655962,\n",
      "         0.04452873, -0.02593034],\n",
      "       [-0.04547248, -0.04464164, -0.0730303 , ..., -0.03949338,\n",
      "        -0.00422151,  0.00306441]]), 'target': array([151.,  75., 141., 206., 135.,  97., 138.,  63., 110., 310., 101.,\n",
      "        69., 179., 185., 118., 171., 166., 144.,  97., 168.,  68.,  49.,\n",
      "        68., 245., 184., 202., 137.,  85., 131., 283., 129.,  59., 341.,\n",
      "        87.,  65., 102., 265., 276., 252.,  90., 100.,  55.,  61.,  92.,\n",
      "       259.,  53., 190., 142.,  75., 142., 155., 225.,  59., 104., 182.,\n",
      "       128.,  52.,  37., 170., 170.,  61., 144.,  52., 128.,  71., 163.,\n",
      "       150.,  97., 160., 178.,  48., 270., 202., 111.,  85.,  42., 170.,\n",
      "       200., 252., 113., 143.,  51.,  52., 210.,  65., 141.,  55., 134.,\n",
      "        42., 111.,  98., 164.,  48.,  96.,  90., 162., 150., 279.,  92.,\n",
      "        83., 128., 102., 302., 198.,  95.,  53., 134., 144., 232.,  81.,\n",
      "       104.,  59., 246., 297., 258., 229., 275., 281., 179., 200., 200.,\n",
      "       173., 180.,  84., 121., 161.,  99., 109., 115., 268., 274., 158.,\n",
      "       107.,  83., 103., 272.,  85., 280., 336., 281., 118., 317., 235.,\n",
      "        60., 174., 259., 178., 128.,  96., 126., 288.,  88., 292.,  71.,\n",
      "       197., 186.,  25.,  84.,  96., 195.,  53., 217., 172., 131., 214.,\n",
      "        59.,  70., 220., 268., 152.,  47.,  74., 295., 101., 151., 127.,\n",
      "       237., 225.,  81., 151., 107.,  64., 138., 185., 265., 101., 137.,\n",
      "       143., 141.,  79., 292., 178.,  91., 116.,  86., 122.,  72., 129.,\n",
      "       142.,  90., 158.,  39., 196., 222., 277.,  99., 196., 202., 155.,\n",
      "        77., 191.,  70.,  73.,  49.,  65., 263., 248., 296., 214., 185.,\n",
      "        78.,  93., 252., 150.,  77., 208.,  77., 108., 160.,  53., 220.,\n",
      "       154., 259.,  90., 246., 124.,  67.,  72., 257., 262., 275., 177.,\n",
      "        71.,  47., 187., 125.,  78.,  51., 258., 215., 303., 243.,  91.,\n",
      "       150., 310., 153., 346.,  63.,  89.,  50.,  39., 103., 308., 116.,\n",
      "       145.,  74.,  45., 115., 264.,  87., 202., 127., 182., 241.,  66.,\n",
      "        94., 283.,  64., 102., 200., 265.,  94., 230., 181., 156., 233.,\n",
      "        60., 219.,  80.,  68., 332., 248.,  84., 200.,  55.,  85.,  89.,\n",
      "        31., 129.,  83., 275.,  65., 198., 236., 253., 124.,  44., 172.,\n",
      "       114., 142., 109., 180., 144., 163., 147.,  97., 220., 190., 109.,\n",
      "       191., 122., 230., 242., 248., 249., 192., 131., 237.,  78., 135.,\n",
      "       244., 199., 270., 164.,  72.,  96., 306.,  91., 214.,  95., 216.,\n",
      "       263., 178., 113., 200., 139., 139.,  88., 148.,  88., 243.,  71.,\n",
      "        77., 109., 272.,  60.,  54., 221.,  90., 311., 281., 182., 321.,\n",
      "        58., 262., 206., 233., 242., 123., 167.,  63., 197.,  71., 168.,\n",
      "       140., 217., 121., 235., 245.,  40.,  52., 104., 132.,  88.,  69.,\n",
      "       219.,  72., 201., 110.,  51., 277.,  63., 118.,  69., 273., 258.,\n",
      "        43., 198., 242., 232., 175.,  93., 168., 275., 293., 281.,  72.,\n",
      "       140., 189., 181., 209., 136., 261., 113., 131., 174., 257.,  55.,\n",
      "        84.,  42., 146., 212., 233.,  91., 111., 152., 120.,  67., 310.,\n",
      "        94., 183.,  66., 173.,  72.,  49.,  64.,  48., 178., 104., 132.,\n",
      "       220.,  57.]), 'frame': None, 'DESCR': '.. _diabetes_dataset:\\n\\nDiabetes dataset\\n----------------\\n\\nTen baseline variables, age, sex, body mass index, average blood\\npressure, and six blood serum measurements were obtained for each of n =\\n442 diabetes patients, as well as the response of interest, a\\nquantitative measure of disease progression one year after baseline.\\n\\n**Data Set Characteristics:**\\n\\n  :Number of Instances: 442\\n\\n  :Number of Attributes: First 10 columns are numeric predictive values\\n\\n  :Target: Column 11 is a quantitative measure of disease progression one year after baseline\\n\\n  :Attribute Information:\\n      - age     age in years\\n      - sex\\n      - bmi     body mass index\\n      - bp      average blood pressure\\n      - s1      tc, total serum cholesterol\\n      - s2      ldl, low-density lipoproteins\\n      - s3      hdl, high-density lipoproteins\\n      - s4      tch, total cholesterol / HDL\\n      - s5      ltg, possibly log of serum triglycerides level\\n      - s6      glu, blood sugar level\\n\\nNote: Each of these 10 feature variables have been mean centered and scaled by the standard deviation times the square root of `n_samples` (i.e. the sum of squares of each column totals 1).\\n\\nSource URL:\\nhttps://www4.stat.ncsu.edu/~boos/var.select/diabetes.html\\n\\nFor more information see:\\nBradley Efron, Trevor Hastie, Iain Johnstone and Robert Tibshirani (2004) \"Least Angle Regression,\" Annals of Statistics (with discussion), 407-499.\\n(https://web.stanford.edu/~hastie/Papers/LARS/LeastAngle_2002.pdf)\\n', 'feature_names': ['age', 'sex', 'bmi', 'bp', 's1', 's2', 's3', 's4', 's5', 's6'], 'data_filename': 'diabetes_data_raw.csv.gz', 'target_filename': 'diabetes_target.csv.gz', 'data_module': 'sklearn.datasets.data'}\n"
     ]
    }
   ],
   "source": [
    "print(Data)"
   ]
  },
  {
   "cell_type": "markdown",
   "id": "f8a7f069-b5ce-4774-933e-f27f78467628",
   "metadata": {},
   "source": [
    "可以发现，这个数据集是字典形式的，它的三个key分别为data,feature_names和target。我们先对这个字典进行拆分并合成一个dataframe。"
   ]
  },
  {
   "cell_type": "code",
   "execution_count": 32,
   "id": "51e0a194-d645-4680-95b0-ff0a4a96751d",
   "metadata": {},
   "outputs": [
    {
     "data": {
      "text/html": [
       "<div>\n",
       "<style scoped>\n",
       "    .dataframe tbody tr th:only-of-type {\n",
       "        vertical-align: middle;\n",
       "    }\n",
       "\n",
       "    .dataframe tbody tr th {\n",
       "        vertical-align: top;\n",
       "    }\n",
       "\n",
       "    .dataframe thead th {\n",
       "        text-align: right;\n",
       "    }\n",
       "</style>\n",
       "<table border=\"1\" class=\"dataframe\">\n",
       "  <thead>\n",
       "    <tr style=\"text-align: right;\">\n",
       "      <th></th>\n",
       "      <th>age</th>\n",
       "      <th>sex</th>\n",
       "      <th>bmi</th>\n",
       "      <th>bp</th>\n",
       "      <th>s1</th>\n",
       "      <th>s2</th>\n",
       "      <th>s3</th>\n",
       "      <th>s4</th>\n",
       "      <th>s5</th>\n",
       "      <th>s6</th>\n",
       "      <th>trend</th>\n",
       "    </tr>\n",
       "  </thead>\n",
       "  <tbody>\n",
       "    <tr>\n",
       "      <th>0</th>\n",
       "      <td>0.038076</td>\n",
       "      <td>0.050680</td>\n",
       "      <td>0.061696</td>\n",
       "      <td>0.021872</td>\n",
       "      <td>-0.044223</td>\n",
       "      <td>-0.034821</td>\n",
       "      <td>-0.043401</td>\n",
       "      <td>-0.002592</td>\n",
       "      <td>0.019907</td>\n",
       "      <td>-0.017646</td>\n",
       "      <td>151.0</td>\n",
       "    </tr>\n",
       "    <tr>\n",
       "      <th>1</th>\n",
       "      <td>-0.001882</td>\n",
       "      <td>-0.044642</td>\n",
       "      <td>-0.051474</td>\n",
       "      <td>-0.026328</td>\n",
       "      <td>-0.008449</td>\n",
       "      <td>-0.019163</td>\n",
       "      <td>0.074412</td>\n",
       "      <td>-0.039493</td>\n",
       "      <td>-0.068332</td>\n",
       "      <td>-0.092204</td>\n",
       "      <td>75.0</td>\n",
       "    </tr>\n",
       "    <tr>\n",
       "      <th>2</th>\n",
       "      <td>0.085299</td>\n",
       "      <td>0.050680</td>\n",
       "      <td>0.044451</td>\n",
       "      <td>-0.005670</td>\n",
       "      <td>-0.045599</td>\n",
       "      <td>-0.034194</td>\n",
       "      <td>-0.032356</td>\n",
       "      <td>-0.002592</td>\n",
       "      <td>0.002861</td>\n",
       "      <td>-0.025930</td>\n",
       "      <td>141.0</td>\n",
       "    </tr>\n",
       "    <tr>\n",
       "      <th>3</th>\n",
       "      <td>-0.089063</td>\n",
       "      <td>-0.044642</td>\n",
       "      <td>-0.011595</td>\n",
       "      <td>-0.036656</td>\n",
       "      <td>0.012191</td>\n",
       "      <td>0.024991</td>\n",
       "      <td>-0.036038</td>\n",
       "      <td>0.034309</td>\n",
       "      <td>0.022688</td>\n",
       "      <td>-0.009362</td>\n",
       "      <td>206.0</td>\n",
       "    </tr>\n",
       "    <tr>\n",
       "      <th>4</th>\n",
       "      <td>0.005383</td>\n",
       "      <td>-0.044642</td>\n",
       "      <td>-0.036385</td>\n",
       "      <td>0.021872</td>\n",
       "      <td>0.003935</td>\n",
       "      <td>0.015596</td>\n",
       "      <td>0.008142</td>\n",
       "      <td>-0.002592</td>\n",
       "      <td>-0.031988</td>\n",
       "      <td>-0.046641</td>\n",
       "      <td>135.0</td>\n",
       "    </tr>\n",
       "  </tbody>\n",
       "</table>\n",
       "</div>"
      ],
      "text/plain": [
       "        age       sex       bmi        bp        s1        s2        s3  \\\n",
       "0  0.038076  0.050680  0.061696  0.021872 -0.044223 -0.034821 -0.043401   \n",
       "1 -0.001882 -0.044642 -0.051474 -0.026328 -0.008449 -0.019163  0.074412   \n",
       "2  0.085299  0.050680  0.044451 -0.005670 -0.045599 -0.034194 -0.032356   \n",
       "3 -0.089063 -0.044642 -0.011595 -0.036656  0.012191  0.024991 -0.036038   \n",
       "4  0.005383 -0.044642 -0.036385  0.021872  0.003935  0.015596  0.008142   \n",
       "\n",
       "         s4        s5        s6  trend  \n",
       "0 -0.002592  0.019907 -0.017646  151.0  \n",
       "1 -0.039493 -0.068332 -0.092204   75.0  \n",
       "2 -0.002592  0.002861 -0.025930  141.0  \n",
       "3  0.034309  0.022688 -0.009362  206.0  \n",
       "4 -0.002592 -0.031988 -0.046641  135.0  "
      ]
     },
     "execution_count": 32,
     "metadata": {},
     "output_type": "execute_result"
    }
   ],
   "source": [
    "data = Data['data']\n",
    "target = Data['target']\n",
    "feature_names = Data['feature_names']\n",
    "d_t = data\n",
    "d_t=np.insert(d_t,10,target,axis = 1)\n",
    "feature_names = np.append(feature_names,'trend')\n",
    "DataFrame = pd.DataFrame(d_t,columns=feature_names)\n",
    "DataFrame.head()"
   ]
  },
  {
   "cell_type": "markdown",
   "id": "10a1410b-70a4-427c-9996-4daf871e67e2",
   "metadata": {},
   "source": [
    "通过阅读参考文献，我们可以发现这个数据集中自变量是糖尿病人的年龄、性别、血压等十个生理数据，因变量是病人一年后的糖尿病发展情况，样本量为$n=442$，研究的是病人的生理数据与一年后病情发展情况之间的关系。"
   ]
  },
  {
   "cell_type": "markdown",
   "id": "528dfff4-01bc-49c7-9b20-9b99ab333a1a",
   "metadata": {},
   "source": [
    "### 3.以自己的学号作为随机种子，采用留出法划分训练集和测试集，样本比例为7.5:2.5。\n",
    "基于第二步得出的结论，我们设置好本次实验的样本量和自变量个数，并将学号作为随机数种子，以指定的比例划分训练集和测试集。"
   ]
  },
  {
   "cell_type": "code",
   "execution_count": 33,
   "id": "075317ce-21e1-413d-bb17-b563574c0861",
   "metadata": {},
   "outputs": [],
   "source": [
    "#设置样本量和自变量个数\n",
    "p = 10\n",
    "n = 442\n",
    "#设置训练集和测试集的样本比例以及随机数种子\n",
    "n_train = n*0.75 # 75% instances used for training\n",
    "n_train=int(n_train)\n",
    "n_test = n-n_train\n",
    "seed = 10205501432\n",
    "random.seed(seed)\n",
    "index = range(0,n)\n",
    "index_selected = random.sample(index,n_train)\n",
    "index_selected.sort()\n",
    "#划分训练集和测试集\n",
    "Data_train = DataFrame.loc[index_selected]\n",
    "Data_test = DataFrame.drop(index = index_selected)"
   ]
  },
  {
   "cell_type": "markdown",
   "id": "c5644053-870c-473d-b525-ea9641c54163",
   "metadata": {},
   "source": [
    "训练集为"
   ]
  },
  {
   "cell_type": "code",
   "execution_count": 34,
   "id": "b062a80b-b707-46f4-9e2d-17a9bf88ffc1",
   "metadata": {},
   "outputs": [
    {
     "data": {
      "text/html": [
       "<div>\n",
       "<style scoped>\n",
       "    .dataframe tbody tr th:only-of-type {\n",
       "        vertical-align: middle;\n",
       "    }\n",
       "\n",
       "    .dataframe tbody tr th {\n",
       "        vertical-align: top;\n",
       "    }\n",
       "\n",
       "    .dataframe thead th {\n",
       "        text-align: right;\n",
       "    }\n",
       "</style>\n",
       "<table border=\"1\" class=\"dataframe\">\n",
       "  <thead>\n",
       "    <tr style=\"text-align: right;\">\n",
       "      <th></th>\n",
       "      <th>age</th>\n",
       "      <th>sex</th>\n",
       "      <th>bmi</th>\n",
       "      <th>bp</th>\n",
       "      <th>s1</th>\n",
       "      <th>s2</th>\n",
       "      <th>s3</th>\n",
       "      <th>s4</th>\n",
       "      <th>s5</th>\n",
       "      <th>s6</th>\n",
       "      <th>trend</th>\n",
       "    </tr>\n",
       "  </thead>\n",
       "  <tbody>\n",
       "    <tr>\n",
       "      <th>0</th>\n",
       "      <td>0.038076</td>\n",
       "      <td>0.050680</td>\n",
       "      <td>0.061696</td>\n",
       "      <td>0.021872</td>\n",
       "      <td>-0.044223</td>\n",
       "      <td>-0.034821</td>\n",
       "      <td>-0.043401</td>\n",
       "      <td>-0.002592</td>\n",
       "      <td>0.019907</td>\n",
       "      <td>-0.017646</td>\n",
       "      <td>151.0</td>\n",
       "    </tr>\n",
       "    <tr>\n",
       "      <th>1</th>\n",
       "      <td>-0.001882</td>\n",
       "      <td>-0.044642</td>\n",
       "      <td>-0.051474</td>\n",
       "      <td>-0.026328</td>\n",
       "      <td>-0.008449</td>\n",
       "      <td>-0.019163</td>\n",
       "      <td>0.074412</td>\n",
       "      <td>-0.039493</td>\n",
       "      <td>-0.068332</td>\n",
       "      <td>-0.092204</td>\n",
       "      <td>75.0</td>\n",
       "    </tr>\n",
       "    <tr>\n",
       "      <th>2</th>\n",
       "      <td>0.085299</td>\n",
       "      <td>0.050680</td>\n",
       "      <td>0.044451</td>\n",
       "      <td>-0.005670</td>\n",
       "      <td>-0.045599</td>\n",
       "      <td>-0.034194</td>\n",
       "      <td>-0.032356</td>\n",
       "      <td>-0.002592</td>\n",
       "      <td>0.002861</td>\n",
       "      <td>-0.025930</td>\n",
       "      <td>141.0</td>\n",
       "    </tr>\n",
       "    <tr>\n",
       "      <th>4</th>\n",
       "      <td>0.005383</td>\n",
       "      <td>-0.044642</td>\n",
       "      <td>-0.036385</td>\n",
       "      <td>0.021872</td>\n",
       "      <td>0.003935</td>\n",
       "      <td>0.015596</td>\n",
       "      <td>0.008142</td>\n",
       "      <td>-0.002592</td>\n",
       "      <td>-0.031988</td>\n",
       "      <td>-0.046641</td>\n",
       "      <td>135.0</td>\n",
       "    </tr>\n",
       "    <tr>\n",
       "      <th>5</th>\n",
       "      <td>-0.092695</td>\n",
       "      <td>-0.044642</td>\n",
       "      <td>-0.040696</td>\n",
       "      <td>-0.019442</td>\n",
       "      <td>-0.068991</td>\n",
       "      <td>-0.079288</td>\n",
       "      <td>0.041277</td>\n",
       "      <td>-0.076395</td>\n",
       "      <td>-0.041176</td>\n",
       "      <td>-0.096346</td>\n",
       "      <td>97.0</td>\n",
       "    </tr>\n",
       "  </tbody>\n",
       "</table>\n",
       "</div>"
      ],
      "text/plain": [
       "        age       sex       bmi        bp        s1        s2        s3  \\\n",
       "0  0.038076  0.050680  0.061696  0.021872 -0.044223 -0.034821 -0.043401   \n",
       "1 -0.001882 -0.044642 -0.051474 -0.026328 -0.008449 -0.019163  0.074412   \n",
       "2  0.085299  0.050680  0.044451 -0.005670 -0.045599 -0.034194 -0.032356   \n",
       "4  0.005383 -0.044642 -0.036385  0.021872  0.003935  0.015596  0.008142   \n",
       "5 -0.092695 -0.044642 -0.040696 -0.019442 -0.068991 -0.079288  0.041277   \n",
       "\n",
       "         s4        s5        s6  trend  \n",
       "0 -0.002592  0.019907 -0.017646  151.0  \n",
       "1 -0.039493 -0.068332 -0.092204   75.0  \n",
       "2 -0.002592  0.002861 -0.025930  141.0  \n",
       "4 -0.002592 -0.031988 -0.046641  135.0  \n",
       "5 -0.076395 -0.041176 -0.096346   97.0  "
      ]
     },
     "execution_count": 34,
     "metadata": {},
     "output_type": "execute_result"
    }
   ],
   "source": [
    "Data_train.head()"
   ]
  },
  {
   "cell_type": "markdown",
   "id": "a9118cdd-40be-40d4-ad91-956ebdea7513",
   "metadata": {},
   "source": [
    "测试集为"
   ]
  },
  {
   "cell_type": "code",
   "execution_count": 35,
   "id": "0b6c279b-b285-4bc4-8e16-46833c4e6841",
   "metadata": {},
   "outputs": [
    {
     "data": {
      "text/html": [
       "<div>\n",
       "<style scoped>\n",
       "    .dataframe tbody tr th:only-of-type {\n",
       "        vertical-align: middle;\n",
       "    }\n",
       "\n",
       "    .dataframe tbody tr th {\n",
       "        vertical-align: top;\n",
       "    }\n",
       "\n",
       "    .dataframe thead th {\n",
       "        text-align: right;\n",
       "    }\n",
       "</style>\n",
       "<table border=\"1\" class=\"dataframe\">\n",
       "  <thead>\n",
       "    <tr style=\"text-align: right;\">\n",
       "      <th></th>\n",
       "      <th>age</th>\n",
       "      <th>sex</th>\n",
       "      <th>bmi</th>\n",
       "      <th>bp</th>\n",
       "      <th>s1</th>\n",
       "      <th>s2</th>\n",
       "      <th>s3</th>\n",
       "      <th>s4</th>\n",
       "      <th>s5</th>\n",
       "      <th>s6</th>\n",
       "      <th>trend</th>\n",
       "    </tr>\n",
       "  </thead>\n",
       "  <tbody>\n",
       "    <tr>\n",
       "      <th>3</th>\n",
       "      <td>-0.089063</td>\n",
       "      <td>-0.044642</td>\n",
       "      <td>-0.011595</td>\n",
       "      <td>-0.036656</td>\n",
       "      <td>0.012191</td>\n",
       "      <td>0.024991</td>\n",
       "      <td>-0.036038</td>\n",
       "      <td>0.034309</td>\n",
       "      <td>0.022688</td>\n",
       "      <td>-0.009362</td>\n",
       "      <td>206.0</td>\n",
       "    </tr>\n",
       "    <tr>\n",
       "      <th>6</th>\n",
       "      <td>-0.045472</td>\n",
       "      <td>0.050680</td>\n",
       "      <td>-0.047163</td>\n",
       "      <td>-0.015999</td>\n",
       "      <td>-0.040096</td>\n",
       "      <td>-0.024800</td>\n",
       "      <td>0.000779</td>\n",
       "      <td>-0.039493</td>\n",
       "      <td>-0.062917</td>\n",
       "      <td>-0.038357</td>\n",
       "      <td>138.0</td>\n",
       "    </tr>\n",
       "    <tr>\n",
       "      <th>7</th>\n",
       "      <td>0.063504</td>\n",
       "      <td>0.050680</td>\n",
       "      <td>-0.001895</td>\n",
       "      <td>0.066629</td>\n",
       "      <td>0.090620</td>\n",
       "      <td>0.108914</td>\n",
       "      <td>0.022869</td>\n",
       "      <td>0.017703</td>\n",
       "      <td>-0.035816</td>\n",
       "      <td>0.003064</td>\n",
       "      <td>63.0</td>\n",
       "    </tr>\n",
       "    <tr>\n",
       "      <th>8</th>\n",
       "      <td>0.041708</td>\n",
       "      <td>0.050680</td>\n",
       "      <td>0.061696</td>\n",
       "      <td>-0.040099</td>\n",
       "      <td>-0.013953</td>\n",
       "      <td>0.006202</td>\n",
       "      <td>-0.028674</td>\n",
       "      <td>-0.002592</td>\n",
       "      <td>-0.014960</td>\n",
       "      <td>0.011349</td>\n",
       "      <td>110.0</td>\n",
       "    </tr>\n",
       "    <tr>\n",
       "      <th>19</th>\n",
       "      <td>-0.027310</td>\n",
       "      <td>-0.044642</td>\n",
       "      <td>-0.018062</td>\n",
       "      <td>-0.040099</td>\n",
       "      <td>-0.002945</td>\n",
       "      <td>-0.011335</td>\n",
       "      <td>0.037595</td>\n",
       "      <td>-0.039493</td>\n",
       "      <td>-0.008943</td>\n",
       "      <td>-0.054925</td>\n",
       "      <td>168.0</td>\n",
       "    </tr>\n",
       "  </tbody>\n",
       "</table>\n",
       "</div>"
      ],
      "text/plain": [
       "         age       sex       bmi        bp        s1        s2        s3  \\\n",
       "3  -0.089063 -0.044642 -0.011595 -0.036656  0.012191  0.024991 -0.036038   \n",
       "6  -0.045472  0.050680 -0.047163 -0.015999 -0.040096 -0.024800  0.000779   \n",
       "7   0.063504  0.050680 -0.001895  0.066629  0.090620  0.108914  0.022869   \n",
       "8   0.041708  0.050680  0.061696 -0.040099 -0.013953  0.006202 -0.028674   \n",
       "19 -0.027310 -0.044642 -0.018062 -0.040099 -0.002945 -0.011335  0.037595   \n",
       "\n",
       "          s4        s5        s6  trend  \n",
       "3   0.034309  0.022688 -0.009362  206.0  \n",
       "6  -0.039493 -0.062917 -0.038357  138.0  \n",
       "7   0.017703 -0.035816  0.003064   63.0  \n",
       "8  -0.002592 -0.014960  0.011349  110.0  \n",
       "19 -0.039493 -0.008943 -0.054925  168.0  "
      ]
     },
     "execution_count": 35,
     "metadata": {},
     "output_type": "execute_result"
    }
   ],
   "source": [
    "Data_test.head()"
   ]
  },
  {
   "cell_type": "markdown",
   "id": "843ac38a-f9d4-4d27-90f3-4ef5c7794b32",
   "metadata": {},
   "source": [
    "接下去，我们对自变量进行标准化，对响应变量进行中心化，并试着建立一个线性回归模型。"
   ]
  },
  {
   "cell_type": "code",
   "execution_count": 36,
   "id": "f287b3e5-4347-43a4-a4cd-9ad43c272504",
   "metadata": {},
   "outputs": [
    {
     "data": {
      "text/html": [
       "<table class=\"simpletable\">\n",
       "<caption>OLS Regression Results</caption>\n",
       "<tr>\n",
       "  <th>Dep. Variable:</th>          <td>trend</td>      <th>  R-squared:         </th> <td>   0.517</td>\n",
       "</tr>\n",
       "<tr>\n",
       "  <th>Model:</th>                   <td>OLS</td>       <th>  Adj. R-squared:    </th> <td>   0.502</td>\n",
       "</tr>\n",
       "<tr>\n",
       "  <th>Method:</th>             <td>Least Squares</td>  <th>  F-statistic:       </th> <td>   34.31</td>\n",
       "</tr>\n",
       "<tr>\n",
       "  <th>Date:</th>             <td>Thu, 27 Oct 2022</td> <th>  Prob (F-statistic):</th> <td>5.05e-45</td>\n",
       "</tr>\n",
       "<tr>\n",
       "  <th>Time:</th>                 <td>17:56:07</td>     <th>  Log-Likelihood:    </th> <td> -1791.8</td>\n",
       "</tr>\n",
       "<tr>\n",
       "  <th>No. Observations:</th>      <td>   331</td>      <th>  AIC:               </th> <td>   3606.</td>\n",
       "</tr>\n",
       "<tr>\n",
       "  <th>Df Residuals:</th>          <td>   320</td>      <th>  BIC:               </th> <td>   3647.</td>\n",
       "</tr>\n",
       "<tr>\n",
       "  <th>Df Model:</th>              <td>    10</td>      <th>                     </th>     <td> </td>   \n",
       "</tr>\n",
       "<tr>\n",
       "  <th>Covariance Type:</th>      <td>nonrobust</td>    <th>                     </th>     <td> </td>   \n",
       "</tr>\n",
       "</table>\n",
       "<table class=\"simpletable\">\n",
       "<tr>\n",
       "    <td></td>       <th>coef</th>     <th>std err</th>      <th>t</th>      <th>P>|t|</th>  <th>[0.025</th>    <th>0.975]</th>  \n",
       "</tr>\n",
       "<tr>\n",
       "  <th>const</th> <td>  151.7292</td> <td>    3.047</td> <td>   49.798</td> <td> 0.000</td> <td>  145.735</td> <td>  157.724</td>\n",
       "</tr>\n",
       "<tr>\n",
       "  <th>age</th>   <td>    4.2004</td> <td>   69.869</td> <td>    0.060</td> <td> 0.952</td> <td> -133.260</td> <td>  141.661</td>\n",
       "</tr>\n",
       "<tr>\n",
       "  <th>sex</th>   <td> -256.3444</td> <td>   72.689</td> <td>   -3.527</td> <td> 0.000</td> <td> -399.354</td> <td> -113.335</td>\n",
       "</tr>\n",
       "<tr>\n",
       "  <th>bmi</th>   <td>  543.5499</td> <td>   80.946</td> <td>    6.715</td> <td> 0.000</td> <td>  384.297</td> <td>  702.803</td>\n",
       "</tr>\n",
       "<tr>\n",
       "  <th>bp</th>    <td>  351.1830</td> <td>   77.235</td> <td>    4.547</td> <td> 0.000</td> <td>  199.231</td> <td>  503.135</td>\n",
       "</tr>\n",
       "<tr>\n",
       "  <th>s1</th>    <td> -605.1774</td> <td>  483.221</td> <td>   -1.252</td> <td> 0.211</td> <td>-1555.870</td> <td>  345.515</td>\n",
       "</tr>\n",
       "<tr>\n",
       "  <th>s2</th>    <td>  350.0540</td> <td>  386.887</td> <td>    0.905</td> <td> 0.366</td> <td> -411.109</td> <td> 1111.217</td>\n",
       "</tr>\n",
       "<tr>\n",
       "  <th>s3</th>    <td>   66.8753</td> <td>  248.600</td> <td>    0.269</td> <td> 0.788</td> <td> -422.221</td> <td>  555.972</td>\n",
       "</tr>\n",
       "<tr>\n",
       "  <th>s4</th>    <td>  183.0709</td> <td>  190.874</td> <td>    0.959</td> <td> 0.338</td> <td> -192.455</td> <td>  558.597</td>\n",
       "</tr>\n",
       "<tr>\n",
       "  <th>s5</th>    <td>  675.7595</td> <td>  197.010</td> <td>    3.430</td> <td> 0.001</td> <td>  288.162</td> <td> 1063.357</td>\n",
       "</tr>\n",
       "<tr>\n",
       "  <th>s6</th>    <td>   83.2832</td> <td>   76.834</td> <td>    1.084</td> <td> 0.279</td> <td>  -67.880</td> <td>  234.446</td>\n",
       "</tr>\n",
       "</table>\n",
       "<table class=\"simpletable\">\n",
       "<tr>\n",
       "  <th>Omnibus:</th>       <td> 2.285</td> <th>  Durbin-Watson:     </th> <td>   2.071</td>\n",
       "</tr>\n",
       "<tr>\n",
       "  <th>Prob(Omnibus):</th> <td> 0.319</td> <th>  Jarque-Bera (JB):  </th> <td>   1.950</td>\n",
       "</tr>\n",
       "<tr>\n",
       "  <th>Skew:</th>          <td> 0.067</td> <th>  Prob(JB):          </th> <td>   0.377</td>\n",
       "</tr>\n",
       "<tr>\n",
       "  <th>Kurtosis:</th>      <td> 2.648</td> <th>  Cond. No.          </th> <td>    223.</td>\n",
       "</tr>\n",
       "</table><br/><br/>Notes:<br/>[1] Standard Errors assume that the covariance matrix of the errors is correctly specified."
      ],
      "text/plain": [
       "<class 'statsmodels.iolib.summary.Summary'>\n",
       "\"\"\"\n",
       "                            OLS Regression Results                            \n",
       "==============================================================================\n",
       "Dep. Variable:                  trend   R-squared:                       0.517\n",
       "Model:                            OLS   Adj. R-squared:                  0.502\n",
       "Method:                 Least Squares   F-statistic:                     34.31\n",
       "Date:                Thu, 27 Oct 2022   Prob (F-statistic):           5.05e-45\n",
       "Time:                        17:56:07   Log-Likelihood:                -1791.8\n",
       "No. Observations:                 331   AIC:                             3606.\n",
       "Df Residuals:                     320   BIC:                             3647.\n",
       "Df Model:                          10                                         \n",
       "Covariance Type:            nonrobust                                         \n",
       "==============================================================================\n",
       "                 coef    std err          t      P>|t|      [0.025      0.975]\n",
       "------------------------------------------------------------------------------\n",
       "const        151.7292      3.047     49.798      0.000     145.735     157.724\n",
       "age            4.2004     69.869      0.060      0.952    -133.260     141.661\n",
       "sex         -256.3444     72.689     -3.527      0.000    -399.354    -113.335\n",
       "bmi          543.5499     80.946      6.715      0.000     384.297     702.803\n",
       "bp           351.1830     77.235      4.547      0.000     199.231     503.135\n",
       "s1          -605.1774    483.221     -1.252      0.211   -1555.870     345.515\n",
       "s2           350.0540    386.887      0.905      0.366    -411.109    1111.217\n",
       "s3            66.8753    248.600      0.269      0.788    -422.221     555.972\n",
       "s4           183.0709    190.874      0.959      0.338    -192.455     558.597\n",
       "s5           675.7595    197.010      3.430      0.001     288.162    1063.357\n",
       "s6            83.2832     76.834      1.084      0.279     -67.880     234.446\n",
       "==============================================================================\n",
       "Omnibus:                        2.285   Durbin-Watson:                   2.071\n",
       "Prob(Omnibus):                  0.319   Jarque-Bera (JB):                1.950\n",
       "Skew:                           0.067   Prob(JB):                        0.377\n",
       "Kurtosis:                       2.648   Cond. No.                         223.\n",
       "==============================================================================\n",
       "\n",
       "Notes:\n",
       "[1] Standard Errors assume that the covariance matrix of the errors is correctly specified.\n",
       "\"\"\""
      ]
     },
     "execution_count": 36,
     "metadata": {},
     "output_type": "execute_result"
    }
   ],
   "source": [
    "#分离响应变量和自变量\n",
    "X_train = Data_train.drop(columns = ['trend'],axis = 1)\n",
    "Y_train = Data_train.trend\n",
    "X_test = Data_test.drop(columns = [\"trend\"],axis=1)\n",
    "Y_test = Data_test.trend\n",
    "#对自变量标准化，对响应变量中心化\n",
    "X_train_standardized = preprocessing.scale(X_train, with_mean = True, with_std=True)/np.sqrt(n_train)\n",
    "Y_train_centered = preprocessing.scale(Y_train, with_mean = True, with_std=False)\n",
    "Y_train_mean = np.average(Y_train)\n",
    "X_test_standardized = preprocessing.scale(X_test, with_mean = True, with_std=True)/np.sqrt(n_test)\n",
    "#建立线性回归模型\n",
    "X_train_withintercept = sm.add_constant(X_train)\n",
    "model = sm.OLS(Y_train,X_train_withintercept).fit()\n",
    "model.summary()"
   ]
  },
  {
   "cell_type": "markdown",
   "id": "f75050b3-11e8-4898-a371-908cb6820093",
   "metadata": {},
   "source": [
    "## 模型构建\n",
    "在本次实验中我们将自变量的一次项、二次项（包括交互项）作为特征，利用训练集构建模型。\n",
    "### 4.判断用于建模的特征数据中是否存在多重共线性？提供合适的判断方案。\n",
    "多重共线性是指自变量之间的线性相关性。我们先绘制热力图，直观、定性地看一看自变量之间是否有线性相关的情况。"
   ]
  },
  {
   "cell_type": "code",
   "execution_count": 37,
   "id": "c92c9db9-2f09-48aa-9e8e-6f75ba7c85ee",
   "metadata": {},
   "outputs": [
    {
     "data": {
      "text/plain": [
       "<AxesSubplot:>"
      ]
     },
     "execution_count": 37,
     "metadata": {},
     "output_type": "execute_result"
    },
    {
     "data": {
      "image/png": "[encoded data removed]",
      "text/plain": [
       "<Figure size 432x288 with 2 Axes>"
      ]
     },
     "metadata": {
      "needs_background": "light"
     },
     "output_type": "display_data"
    }
   ],
   "source": [
    "pcorr = X_train.corr(method = 'pearson')\n",
    "tick_ = (np.arange(0,13,2)-2)/10\n",
    "dict_ = {\"orientation\":'vertical',\n",
    "         'label':'Correlation Coefficients',\n",
    "         \"drawedges\":False,\n",
    "         \"ticklocation\":\"top\",\n",
    "         \"extend\":\"min\",\n",
    "        \"filled\":True,\n",
    "         \"alpha\":0.8,\n",
    "         \"cmap\":\"cmap\",\n",
    "         \"ticks\":tick_}\n",
    "sns.heatmap(pcorr,cbar_kws= dict_,center=0)"
   ]
  },
  {
   "cell_type": "markdown",
   "id": "cf1b18db-b49e-4a4c-b0a3-768f3f2b654c",
   "metadata": {},
   "source": [
    "在这张热力图中，某一格颜色越浅说明这两个自变量之间的线性相关程度越深。通过观察我们发现，$s1$与$s2$、$s2$与$s4$、$s4$与$s5$对应格子的颜色较浅，这几对变量可能线性相关，数据中可能存在多重共线性。但总体来说，程度并不严重。\n",
    "\n",
    "接下去我们再用方差扩大因子法来检验数据中是否存在多重共线性。如果记$\\mathbf{X_s}$为标准化后的自变量，则矩阵$\\mathbf{X_s}^T\\mathbf{X_s}$的第$j$个对角元$c_{jj}$就是第$j$个自变量$x_{j}$的方差扩大因子。事实上，如果我们把$x_{j}$作为响应变量，其它自变量作为自变量建立线性回归模型，记$R_j$为其复决定系数，可以证明$$c_{jj}=\\frac{1}{1-R_j^2}$$由于$R_j$衡量$x_{j}$与其它自变量之间的线性相关性，$R_j$越大，方差扩大因子$c_{jj}$越大，自变量$x_{j}$与其它自变量的多重共线性就越严重。所以，只要这个方差扩大因子大于某一个特定的值(这里设为$5$)，我们就认为$x_{j}$与其它自变量之间存在多重共线性。\n",
    "\n",
    "下面，我们就来计算一下各个自变量的方差扩大因子。"
   ]
  },
  {
   "cell_type": "code",
   "execution_count": 38,
   "id": "09d1cb0e-3c28-4e25-9291-4b358bff4a0d",
   "metadata": {},
   "outputs": [
    {
     "name": "stdout",
     "output_type": "stream",
     "text": [
      "The VIF's are [ 1.24  1.29  1.48  1.4  56.8  36.45 15.66  9.    9.96  1.46]\n"
     ]
    }
   ],
   "source": [
    "C = np.linalg.inv(np.dot(X_train_standardized.T,X_train_standardized))\n",
    "VIF_1 = np.diag(C)\n",
    "print(\"The VIF's are\", np.round(VIF_1,2))"
   ]
  },
  {
   "cell_type": "markdown",
   "id": "3d903d6c-5996-424f-bf5a-7f5ac13ffea4",
   "metadata": {},
   "source": [
    "在以上十个方差扩大因子中，$s1$和$s2$的方差扩大因子明显大于其它自变量的，也大于我们设定的临界值$5$。所以我们认为这两个自变量与其它自变量之间可能存在多重共线性。但如果我们把临界值设置得稍高一点就能认为这个数据集不存在多重共线性，所以它的多重共线性程度应该不严重。\n",
    "\n",
    "接下去，我们再用特征值法来判断数据中是否存在多重共线性。当某些自变量之间存在线性相关，$$\\mathbf{X_s}^T\\mathbf{X_s}\\approx 0$$所以$\\mathbf{X_s}^T\\mathbf{X_s}$必然有一些特征值非常接近于零。我们将自变量矩阵的条件数记为最大特征值比最小特征值的算数平方根，即$$\\kappa=\\sqrt{\\frac{\\lambda_1}{\\lambda_p}}$$这个条件数越大，就说明自变量的多重共线性就越严重。所以，当条件数大于某个特定的值，我们就认为自变量之间存在多重共线性。\n",
    "\n",
    "我们先来计算矩阵$\\mathbf{X_s}^T\\mathbf{X_s}$的特征值："
   ]
  },
  {
   "cell_type": "code",
   "execution_count": 39,
   "id": "655c88d5-bcee-4066-9193-1f394e1b66fd",
   "metadata": {},
   "outputs": [
    {
     "name": "stdout",
     "output_type": "stream",
     "text": [
      "The eigen values are [3.9197 1.4955 1.2379 1.0236 0.6481 0.5986 0.5523 0.4363 0.0791 0.0089]\n"
     ]
    }
   ],
   "source": [
    "R = np.dot(X_train_standardized.T,X_train_standardized)\n",
    "W, V = np.linalg.eig(R)\n",
    "W = -1* np.sort(-1*W)\n",
    "W_diag = np.diag(W)\n",
    "V = V.T\n",
    "print(\"The eigen values are\", np.round(W,4))"
   ]
  },
  {
   "cell_type": "markdown",
   "id": "2d4c633e-a00d-40e4-bbe5-7191321b07f6",
   "metadata": {},
   "source": [
    "我们已经可以看到，只有最小的特征值非常接近于零，所以某一对自变量之间可能存在线性相关性。我们再来计算这个自变量矩阵的条件数："
   ]
  },
  {
   "cell_type": "code",
   "execution_count": 40,
   "id": "7c420257-d066-44d6-ae67-f134078275bb",
   "metadata": {},
   "outputs": [
    {
     "name": "stdout",
     "output_type": "stream",
     "text": [
      "The condition number is 20.9599\n"
     ]
    }
   ],
   "source": [
    "Condition_Number = np.sqrt(np.max(W)/np.min(W))\n",
    "print(\"The condition number is\",np.round(Condition_Number,4))"
   ]
  },
  {
   "cell_type": "markdown",
   "id": "6f1fb282-c4b4-468e-a151-11e2fa043138",
   "metadata": {},
   "source": [
    "条件数的临界值通常为$10$，$100$或$1000$。如果临界值设置得比较小，我们就会认为这个模型存在多重共线性。但这个条件数也不算太大，说明多重共线性的程度并不算严重，可能知识一对自变量之间存在线性相关。这个结论和前面的热力图中得到的结论是一致的。"
   ]
  },
  {
   "cell_type": "markdown",
   "id": "4df6e650-01c7-4089-a1d6-ec9cb37d8570",
   "metadata": {},
   "source": [
    "### 5.构建线性回归模型Model_1、岭回归模型Model_2、主成分回归模型Model_3。"
   ]
  },
  {
   "cell_type": "markdown",
   "id": "e5dbb006-b779-453d-9570-6ff8517796a7",
   "metadata": {},
   "source": [
    "线性回归模型已经在上面建立完毕。现在我们来建立岭回归模型。在岭回归模型中，我们对矩阵$\\mathbf{X^TX}$加上$k\\mathbf{I}$，从而使得得到的矩阵与原来的$\\mathbf{X^TX}$差别不大，并避免$\\mathbf{X^TX}$奇异。最终，我们得到的岭回归值就是$$\\hat{\\beta(k)}=(\\mathbf{X^TX}+k\\mathbf{I})^{-1}\\mathbf{X^Ty}$$\n",
    "显然，这个岭回归值是超参数$k$的函数。所以，我们首先要确定$k$的值，使得我们得到的岭回归值最优。我们来绘制岭迹图："
   ]
  },
  {
   "cell_type": "code",
   "execution_count": 45,
   "id": "51f19058-4ba0-4883-8588-364f64e8563f",
   "metadata": {},
   "outputs": [
    {
     "data": {
      "text/plain": [
       "<matplotlib.legend.Legend at 0x7fa7c6c7e100>"
      ]
     },
     "execution_count": 45,
     "metadata": {},
     "output_type": "execute_result"
    },
    {
     "data": {
      "image/png": "[encoded data removed]",
      "text/plain": [
       "<Figure size 432x288 with 1 Axes>"
      ]
     },
     "metadata": {
      "needs_background": "light"
     },
     "output_type": "display_data"
    }
   ],
   "source": [
    "alpha_num = 100\n",
    "alpha_vec = np.array(list(range(0,alpha_num)))/alpha_num/1000\n",
    "RR_coef = []\n",
    "RR_vif = []\n",
    "\n",
    "for alpha in alpha_vec:\n",
    "    rr_model = sm.OLS(Y_train_centered,X_train_standardized).fit_regularized(L1_wt=0,alpha = alpha)\n",
    "    rr_coef = rr_model.params\n",
    "    RR_coef.append(rr_coef)\n",
    "for i in range(p):\n",
    "    plt.plot(alpha_vec, np.array(RR_coef)[:,i],label = \"X%d\"%(i+1))\n",
    "\n",
    "plt.axis([-0.00005,0.0008,-600,800])    \n",
    "plt.legend(loc=\"right\",bbox_to_anchor=(1.25,0.5),borderaxespad=1)"
   ]
  },
  {
   "cell_type": "markdown",
   "id": "be0ce6b7-d583-413a-92a3-2521a2a4dd35",
   "metadata": {},
   "source": [
    "实际上，岭迹就是岭估计$\\hat{\\beta(k)}$中的各个分量，岭迹图就是岭迹与$k$之间的函数图像。我们需要观察$k$为何值时各个回归系数的岭估计趋于稳定且符号合理。但是这种方法完全依靠对图像的观察，太过主观。所以，我们用方差扩大因子法确定最优的超参数$k$。方差扩大因子法是指，找到合适的$k$使得岭估计的方差扩大因子都小于某个特定的值，并由这个$k$值得到$\\beta$的岭回归估计。"
   ]
  },
  {
   "cell_type": "code",
   "execution_count": 47,
   "id": "4afe7e65-c24b-4e4f-8be2-ff9e7f7f4f68",
   "metadata": {},
   "outputs": [
    {
     "name": "stdout",
     "output_type": "stream",
     "text": [
      "The parameters in the ridge regression are  [   5.16 -217.83  449.47  293.62 -247.32   89.51  -65.92  121.26  490.15\n",
      "   75.35]\n"
     ]
    }
   ],
   "source": [
    "#找到最优的超参数\n",
    "vif_cv = 5\n",
    "C_k = []\n",
    "for alpha in alpha_vec:\n",
    "    k = alpha * n_train\n",
    "    c_k = np.linalg.inv(X_train_standardized.T @ X_train_standardized + k * np.eye(p)) @ X_train_standardized.T @ X_train_standardized @ np.linalg.inv(X_train_standardized.T @ X_train_standardized + k * np.eye(p))\n",
    "    C_k.append(np.mean(np.diag(c_k)))\n",
    "#根据这个最优的超参数进行岭估计\n",
    "alpha_best = alpha_vec[np.min(np.where(np.array(C_k) < vif_cv))]\n",
    "model_rr_best = sm.OLS(Y_train_centered,X_train_standardized).fit_regularized(L1_wt=0,alpha = alpha_best)\n",
    "model_rr_best_coef = model_rr_best.params\n",
    "print(\"The parameters in the ridge regression are \",np.round(model_rr_best.params,2))"
   ]
  },
  {
   "cell_type": "markdown",
   "id": "c81efcae-aa6f-4cfc-a6ad-463d03f473dd",
   "metadata": {},
   "source": [
    "下面我们再来构建主成分回归模型。主成分回归的思想就是，用更少的、线性无关的自变量来代替原来存在多重共线性的自变量，并构建线性回归模型。与此同时，新的自变量还需要包含原来的自变量所携带的绝大部分信息。如果一个主成分还不足以代表绝大部分原来的自变量的信息，我们还要寻找更多的主成分。最终要寻找多少个主成分，是主成分回归中的超参数。我们先来确定这个超参数。我们可以通过观察每添加一个主成分之后信息量增加了多少，来直观判断到底要不要继续添加主成分。"
   ]
  },
  {
   "cell_type": "code",
   "execution_count": 49,
   "id": "e067d7ba-2027-41d6-9e09-8170e82de9e7",
   "metadata": {},
   "outputs": [
    {
     "data": {
      "image/png": "[encoded data removed]",
      "text/plain": [
       "<Figure size 432x288 with 1 Axes>"
      ]
     },
     "metadata": {
      "needs_background": "light"
     },
     "output_type": "display_data"
    }
   ],
   "source": [
    "model_pca = PCA(X_train_standardized,standardize = False, demean = True)\n",
    "model_pca_cr = model_pca.eigenvals\n",
    "model_pca_ccr = np.cumsum(model_pca_cr)/p \n",
    "fig = model_pca.plot_scree(log_scale = False)"
   ]
  },
  {
   "cell_type": "markdown",
   "id": "dcd84525-db2a-4f19-8cdc-1061ae08dad8",
   "metadata": {},
   "source": [
    "可见，在添加了第八个主成分之后再继续添加主成分，信息量的增量就近乎于零了。接着，我们来精确地计算添加几个主成分，主成分的信息贡献率之和能够达到某个特定的值（如$0.99$）。"
   ]
  },
  {
   "cell_type": "code",
   "execution_count": 65,
   "id": "7ba36761-78d0-4017-bd0c-d7ebd4a6490e",
   "metadata": {},
   "outputs": [
    {
     "name": "stdout",
     "output_type": "stream",
     "text": [
      "The appropriate number of component is 8\n"
     ]
    }
   ],
   "source": [
    "pca_cv = 0.99\n",
    "num_pca = np.min(np.where(model_pca_ccr > pca_cv))\n",
    "print(\"The appropriate number of component is\", (num_pca+1))"
   ]
  },
  {
   "cell_type": "markdown",
   "id": "a95f0f28-0a0e-4987-883c-44fdb98de81b",
   "metadata": {},
   "source": [
    "可见，我们只需要添加八个主成分就足以得到原来的自变量的绝大多数信息了。这和刚刚的直观判断一致。接着，我们构建八个主成分并将它们作为自变量构建线性回归模型，求出参数的估计值："
   ]
  },
  {
   "cell_type": "code",
   "execution_count": 66,
   "id": "86a52db0-4253-4710-bf30-d287d9ffd4cd",
   "metadata": {},
   "outputs": [
    {
     "name": "stdout",
     "output_type": "stream",
     "text": [
      "[ 130.31215246  136.06580728 -436.52054774 -203.77442486   38.96226138\n",
      "  129.73132689  190.27005177 -451.85875602   49.04930972 -171.09751143]\n"
     ]
    }
   ],
   "source": [
    "model_pca_selected = PCA(X_train_standardized,  standardize = False,  demean = True)\n",
    "V = model_pca_selected.loadings\n",
    "Z_train_standardized= X_train_standardized @ V[:,0:(num_pca+1)]\n",
    "model_pcr = sm.OLS(Y_train_centered, Z_train_standardized).fit()\n",
    "model_pcr_coef = V.T @ np.pad(model_pcr.params,(0,p-(num_pca+1)))\n",
    "print(model_pcr_coef)"
   ]
  },
  {
   "cell_type": "markdown",
   "id": "342c9382-3b3d-475c-9875-a6caba67e315",
   "metadata": {},
   "source": [
    "## 模型评价\n",
    "### 6.利用RMSE，比较Model_1、Model_2、Model_3在测试集上的预测效果。请进行评论。"
   ]
  },
  {
   "cell_type": "markdown",
   "id": "a7601dbe-40d8-4fe8-be8c-bcb63e4e4059",
   "metadata": {},
   "source": [
    "最后，我们就要在训练集上检验以上三种模型的预测效果了。评判的指标是训练集预测值和训练集真实值之间的均方误差$$RMSE = \\sqrt{\\frac{1}{n}\\sum_{i=1}^n (\\hat{y}_i - y_i)^2}$$显然，当$RMSE$越小，该模型预测的准确度越高。\n",
    "\n",
    "我们先来对线性回归模型进行检验："
   ]
  },
  {
   "cell_type": "code",
   "execution_count": 55,
   "id": "2088ea23-325e-42fc-8dd5-2da090e9c58a",
   "metadata": {},
   "outputs": [
    {
     "name": "stdout",
     "output_type": "stream",
     "text": [
      "The RMSE in the ordinary regression is 69.7124\n"
     ]
    }
   ],
   "source": [
    "model_ols = sm.OLS(Y_train_centered,X_train_standardized).fit()\n",
    "model_ols_coef = model_ols.params \n",
    "Y_pred_ols = Y_train_mean + X_test_standardized @ model_ols_coef\n",
    "ols_rmse = np.sqrt(np.mean((Y_pred_ols-Y_test)**2))\n",
    "print(\"The RMSE in the ordinary regression is\", round(ols_rmse,4))"
   ]
  },
  {
   "cell_type": "markdown",
   "id": "75812643-073e-4fbc-a859-5d319da43ff9",
   "metadata": {},
   "source": [
    "再检验岭回归模型："
   ]
  },
  {
   "cell_type": "code",
   "execution_count": 68,
   "id": "44cbc054-c1d0-4f4f-8282-c36508e26175",
   "metadata": {},
   "outputs": [
    {
     "name": "stdout",
     "output_type": "stream",
     "text": [
      "The RMSE in the ridge regression is 69.0157\n"
     ]
    }
   ],
   "source": [
    "Y_pred_rr = Y_train_mean + X_test_standardized @ model_rr_best_coef\n",
    "rr_rmse = np.sqrt(np.mean((Y_pred_rr-Y_test)**2))\n",
    "print(\"The RMSE in the ridge regression is\", round(rr_rmse,4))"
   ]
  },
  {
   "cell_type": "markdown",
   "id": "c543d389-ce61-4345-9186-6cf28c59470d",
   "metadata": {},
   "source": [
    "最后再来检验主成分回归模型："
   ]
  },
  {
   "cell_type": "code",
   "execution_count": 67,
   "id": "ce83a992-373d-4eb3-90e2-e13b5182a57b",
   "metadata": {},
   "outputs": [
    {
     "name": "stdout",
     "output_type": "stream",
     "text": [
      "The RMSE in the ordinary regression is 148.5936\n"
     ]
    }
   ],
   "source": [
    "Y_pred_pcr = Y_train_mean + X_test_standardized @ model_pcr_coef\n",
    "pcr_rmse = np.sqrt(np.mean((Y_pred_pcr-Y_test)**2))\n",
    "print(\"The RMSE in the ordinary regression is\", round(pcr_rmse,4))"
   ]
  },
  {
   "cell_type": "markdown",
   "id": "0960a71c-c0d2-4db0-a9ba-affe4a64cf50",
   "metadata": {},
   "source": [
    "我们看到，岭回归模型的$RMSE$值最小，线性回归模型的$RMSE$略大于岭回归模型的，而主成分回归模型的$RMSE$明显大于另外两个模型。可见，在这个数据集上，主成分回归模型明显劣与另外两个，而岭回归模型的优势也不显著。可能的原因是因为这个数据集的多重共线性程度本身就不高，所以不必也不应该再用更少的主成分去代替原来的自变量。岭回归估计优于主成分回归的可能原因是$\\mathbf{X^TX}+k\\mathbf{I}$与$\\mathbf{X^TX}$的差别本来就不大。"
   ]
  },
  {
   "cell_type": "markdown",
   "id": "5eeecba0-a1c7-44e9-874f-11c6cb916b95",
   "metadata": {},
   "source": [
    "## 参考文献\n",
    "[1] https://scikit-learn.org/stable/datasets/toy_dataset.html\n",
    "\n",
    "[2] https://www4.stat.ncsu.edu/~boos/var.select/diabetes.html"
   ]
  }
 ],
 "metadata": {
  "kernelspec": {
   "display_name": "Python 3 (ipykernel)",
   "language": "python",
   "name": "python3"
  },
  "language_info": {
   "codemirror_mode": {
    "name": "ipython",
    "version": 3
   },
   "file_extension": ".py",
   "mimetype": "text/x-python",
   "name": "python",
   "nbconvert_exporter": "python",
   "pygments_lexer": "ipython3",
   "version": "3.9.12"
  }
 },
 "nbformat": 4,
 "nbformat_minor": 5
}
