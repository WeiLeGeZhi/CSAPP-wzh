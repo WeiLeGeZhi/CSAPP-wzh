{
 "cells": [
  {
   "cell_type": "markdown",
   "id": "4101e061-786b-4c66-aa49-8849525407c4",
   "metadata": {},
   "source": [
    "# 统计方法与机器学习-实验报告1\n",
    "温兆和 10205501432"
   ]
  },
  {
   "cell_type": "markdown",
   "id": "ff00d448-6e79-4aac-9f47-b0187f2ff11c",
   "metadata": {},
   "source": [
    "## 背景描述\n",
    "为了调查吃巧克力对心血管健康的影响，实验由三种类型的巧克力组成：100g的黑巧克力，含有200mg全脂牛奶的100g黑巧克力和200g的牛奶巧克力。12个实验对象：7女5男。在不同的天数里，每个实验对象将吃一种类型的巧克力，一个小时后测量他们血浆的总抗氧能力。"
   ]
  },
  {
   "cell_type": "markdown",
   "id": "476f9ed3-690d-434f-a1dc-f0d4680f0b60",
   "metadata": {},
   "source": [
    "## 数据描述\n",
    "实验次序本身具有随机性，无需再随机化。请使用Project_1.csv中的数据集。\n",
    "显著性水平α 取 0.05。"
   ]
  },
  {
   "cell_type": "markdown",
   "id": "3f29f031-b3b0-486d-9539-ba626acb5422",
   "metadata": {},
   "source": [
    "## 实验过程\n",
    "* 两两比较3种巧克力对心血管健康的影响是否存在差异。\n",
    "\n",
    "我们先通过以下代码引入需要用到的Python库，设定好显著性水平、因子水平数、样本容量等参数，定义好将巧克力类别从1、2、3转为A、B、C的函数，并将数据集中有用的数据（即Chocolate和Capacity）保留，其余没用的删除，为整个实验做好准备工作"
   ]
  },
  {
   "cell_type": "code",
   "execution_count": 4,
   "id": "19972885-f380-4ed4-b186-c5b730365604",
   "metadata": {},
   "outputs": [
    {
     "name": "stdout",
     "output_type": "stream",
     "text": [
      "Index(['chokolate', 'capacity'], dtype='object')\n"
     ]
    }
   ],
   "source": [
    "import os # 修改工作目录\n",
    "\n",
    "import numpy as np\n",
    "import pandas as pd\n",
    "import scipy.stats as stats # 统计函数\n",
    "import matplotlib.pyplot as plt\n",
    "from plotnine import * # ggplot 绘图\n",
    "from plotnine.data import mpg\n",
    "from jupyterquiz import display_quiz # Quiz\n",
    "\n",
    "#from ggplot import ggplot\n",
    "\n",
    "import math\n",
    "\n",
    "from statsmodels.formula.api import ols\n",
    "from statsmodels.stats.anova import anova_lm\n",
    "from scipy.stats import f\n",
    "from scipy.stats import t\n",
    "from statsmodels.stats.stattools import durbin_watson\n",
    "alpha = 0.05 # significant level\n",
    "a = 3 # number of levels\n",
    "m = 12 # number of replicates\n",
    "n = a*m # sample size\n",
    "def ChangeNumToLetter(a):\n",
    "    if a==1:\n",
    "        return 'A'\n",
    "    elif a==2:\n",
    "        return 'B'\n",
    "    else:\n",
    "        return 'C'\n",
    "Data = pd.read_csv(\"./Project/Project_1.csv\")\n",
    "## Construct a New Dataset\n",
    "Data = Data[['Chocolate','Capacity']] # select some columns from a dataset\n",
    "Data.columns = ['chokolate','capacity']\n",
    "print(Data.columns)"
   ]
  },
  {
   "cell_type": "markdown",
   "id": "cac489eb-2a41-46cd-b268-52bcc192f932",
   "metadata": {},
   "source": [
    "再把’chokolate’中的1、2、3改为A、B、C"
   ]
  },
  {
   "cell_type": "code",
   "execution_count": 5,
   "id": "e8d43a79-56bd-4751-880f-b24f35f8e280",
   "metadata": {},
   "outputs": [
    {
     "name": "stdout",
     "output_type": "stream",
     "text": [
      "   chokolate  capacity\n",
      "0          A     118.8\n",
      "1          A     122.6\n",
      "2          A     115.6\n",
      "3          A     113.6\n",
      "4          A     119.5\n",
      "5          A     115.9\n",
      "6          A     115.8\n",
      "7          A     115.1\n",
      "8          A     116.9\n",
      "9          A     115.4\n",
      "10         A     115.6\n",
      "11         A     107.9\n",
      "12         B     105.4\n",
      "13         B     101.1\n",
      "14         B     102.7\n",
      "15         B      97.1\n",
      "16         B     101.9\n",
      "17         B      98.9\n",
      "18         B     100.0\n",
      "19         B      99.8\n",
      "20         B     102.6\n",
      "21         B     100.9\n",
      "22         B     104.5\n",
      "23         B      93.5\n",
      "24         C     102.1\n",
      "25         C     105.8\n",
      "26         C      99.6\n",
      "27         C     102.7\n",
      "28         C      98.8\n",
      "29         C     100.9\n",
      "30         C     102.8\n",
      "31         C      98.7\n",
      "32         C      94.7\n",
      "33         C      97.8\n",
      "34         C      99.7\n",
      "35         C      98.6\n"
     ]
    },
    {
     "name": "stderr",
     "output_type": "stream",
     "text": [
      "/tmp/ipykernel_1377993/3410344499.py:2: SettingWithCopyWarning: \n",
      "A value is trying to be set on a copy of a slice from a DataFrame\n",
      "\n",
      "See the caveats in the documentation: https://pandas.pydata.org/pandas-docs/stable/user_guide/indexing.html#returning-a-view-versus-a-copy\n"
     ]
    }
   ],
   "source": [
    "for z in range(0,36):\n",
    "    Data['chokolate'][z]=ChangeNumToLetter(Data['chokolate'][z])\n",
    "print(Data)"
   ]
  },
  {
   "cell_type": "markdown",
   "id": "7581da24-573b-4715-9e2c-164d54673821",
   "metadata": {},
   "source": [
    "假设吃完第一种巧克力一小时后血浆的总抗氧能力为$μ_1$，吃完第二种巧克力一小时后血浆的总抗氧能力为$μ_2$，则这个检验的原假设和备择假设为\n",
    "$$𝐻_0: μ_1=μ_2  vs  𝐻_1: μ_1≠μ_2$$\n",
    "\n",
    "在方差相等的前提下，由于\n",
    "\n",
    "$$t=\\frac{(\\bar{x} - \\bar{y}-(μ_1-μ_2))\\sqrt{m+n-2}}{\\sqrt{m^{-1} + n^{-1}}\\sqrt{(m-1){S_x}^2+(n-1){S_y}^2}}\\sim t(m+n-2)$$\n",
    "\n",
    "故构造检验统计量\n",
    "\n",
    "$$t_0 = \\frac{ (\\bar{x} - \\bar{y})}{\\sqrt{m^{-1} + n^{-1}}\\sqrt{(m-1){S_x}^2+(n-1){S_y}^2}}$$\n",
    "\n",
    "拒绝域为\n",
    "\n",
    "$$\\{|𝑡_0|>𝑡_{1−𝛼/2}(𝑚+𝑛−2)\\}$$\n",
    "\n",
    "当$t_0$落入拒绝域，则拒绝原假设，认为两种巧克力对心血管健康的影响不一致；否则接受原假设，认为两种巧克力对心血管健康的影响一致。\n",
    "\n",
    "我们先来比较第一种和第二种巧克力对心血管健康的影响。此时第一组和第二组的样本量$m=n=12$，$\\bar{x}$与${S_x}^2$分别是处理后的数据集Data中’chokolate’为’A’时所有’capacity’的均值与方差，$\\bar{y}$与${S_y}^2$分别是处理后的数据集Data中’chokolate’为’B’时所有’capacity’的均值与方差。我们通过以下代码提取出数据集Data中关于第一种和第二种巧克力的数据，分别计算出吃完这两种巧克力后血浆的总抗氧能力的均值、方差、样本量等参数并计算出$t_0$和本次检验的拒绝域，再进行比较。\n"
   ]
  },
  {
   "cell_type": "code",
   "execution_count": 7,
   "id": "adc00775-fa47-4343-bd4c-a1c2d3fde287",
   "metadata": {},
   "outputs": [
    {
     "name": "stdout",
     "output_type": "stream",
     "text": [
      "t statistic is: 11.1057\n",
      "critical value is： 2.0739\n"
     ]
    }
   ],
   "source": [
    "Data1=Data.values\n",
    "list_type = ['A','B']\n",
    "Group2_data = [Data1[Data1[:,0] == x,1] for x in list_type]\n",
    "# Two-sample t test\n",
    "t0,pVal0 = stats.ttest_ind(Group2_data[0],Group2_data[1])\n",
    "print(\"t statistic is:\" ,round(t0,4))\n",
    "print(\"critical value is：\", round(t.ppf(1-alpha/2,12*2-2),4))"
   ]
  },
  {
   "cell_type": "markdown",
   "id": "52750c8d-efb9-4d07-9461-ec11ffc8bdce",
   "metadata": {},
   "source": [
    "可见，$t_0=11.1057$，拒绝域为$\\{|t_0|>2.0739\\}$。故$t_0$落入拒绝域，我们拒绝原假设，认为第一种巧克力和第二种巧克力对心血管健康的影响不一致。\n",
    "\n",
    "接下来，我们再用同样的方法来比较另外两组巧克力对心血管健康影响的差异。\n",
    "\n",
    "我们先比较第一种和第三种巧克力："
   ]
  },
  {
   "cell_type": "code",
   "execution_count": 8,
   "id": "acca0017-9e34-424b-a3e9-8078175af616",
   "metadata": {},
   "outputs": [
    {
     "name": "stdout",
     "output_type": "stream",
     "text": [
      "t statistic is: 12.0478\n",
      "critical value is： 2.0739\n"
     ]
    }
   ],
   "source": [
    "list_type = ['A','C']\n",
    "Group2_data = [Data1[Data1[:,0] == x,1] for x in list_type]\n",
    "# Two-sample t test\n",
    "t0,pVal0 = stats.ttest_ind(Group2_data[0],Group2_data[1])\n",
    "print(\"t statistic is:\" ,round(t0,4))\n",
    "print(\"critical value is：\", round(t.ppf(1-alpha/2,12*2-2),4))"
   ]
  },
  {
   "cell_type": "markdown",
   "id": "b068aa15-95a8-4323-86dc-d9bad2ab998d",
   "metadata": {},
   "source": [
    "$t_0$落入拒绝域，我们拒绝原假设，认为第一种巧克力和第三种巧克力对心血管健康的影响不一致。\n",
    "\n",
    "再比较第二种和第三种巧克力："
   ]
  },
  {
   "cell_type": "code",
   "execution_count": 11,
   "id": "0326f671-0845-40bf-bbe6-c566f1ac3152",
   "metadata": {},
   "outputs": [
    {
     "name": "stdout",
     "output_type": "stream",
     "text": [
      "t statistic is: 0.4126\n",
      "critical value is： 2.0739\n"
     ]
    }
   ],
   "source": [
    "list_type = ['B','C']\n",
    "Group2_data = [Data1[Data1[:,0] == x,1] for x in list_type]\n",
    "# Two-sample t test\n",
    "t0,pVal0 = stats.ttest_ind(Group2_data[0],Group2_data[1])\n",
    "print(\"t statistic is:\" ,round(t0,4))\n",
    "print(\"critical value is：\", round(t.ppf(1-alpha/2,12*2-2),4))"
   ]
  },
  {
   "cell_type": "markdown",
   "id": "80d1c2cd-ef0c-4adc-a4d2-ce28fc5ca114",
   "metadata": {},
   "source": [
    "$t_0$没有落入拒绝域，我们接受原假设，认为第二种巧克力和第三种巧克力对心血管健康的影响一致。\n",
    "\n",
    "* 判断3种巧克力对心血管健康的影响是否有差异。\n",
    "\n",
    "在比较3种巧克力对心血管健康的影响的差异时，我我们的响应变量是志愿者吃完某种巧克力一小时后血浆的总抗氧能力，因子有三种可能的取值，每种因子水平下有12个样本，总的样本容量是36。我们令\n",
    "\n",
    "$$y_{ij} = µ_i + ε_{ij}，其中i\\in{1，2，3}，j\\in[1,12]\\bigcap Z$$\n",
    "\n",
    "$$µ_i = µ + α_i，其中i\\in{1，2，3}$$\n",
    "\n",
    "可见，$α_i$是各个水平下的效应，且$\\sum_{i=1}^{12}α_i=0$，$ε_{ij}$是水平i下第j个样本与该水平样本均值间的偏差。我们发现，总偏差平方和\n",
    "\n",
    "$$SS_T=12\\sum_{i=1}^{3} (\\bar{y}_{i\\cdot}-\\bar{y}_{\\cdot\\cdot})^2+\\sum_{i=1}^{3} \\sum_{j=1}^12 (y_{ij} - \\bar{y}_{i\\cdot})^2$$\n",
    "\n",
    "其中\n",
    "\n",
    "$$SS_A=12\\sum_{i=1}^{3} (\\bar{y}_{i\\cdot}-\\bar{y}_{\\cdot\\cdot})^2$$ \n",
    "\n",
    "$$SS_E=\\sum_{i=1}^{3} \\sum_{j=1}^12 (y_{ij} - \\bar{y}_{i\\cdot})^2$$\n",
    "\n",
    "$SS_A$表示不同水平下样本的均值与所有样本均值间偏差的平方和，$SS_E$表示某一水平下样本与该水平下样本均值偏差的平方和。对于一组给定的数据，总偏差平方和$SS_T$是确定的。\n",
    "\n",
    "如果三种巧克力对心血管健康的影响一致，则不同水平对总体均值的效应$α_i$均为0。所以在这个假设检验问题中，原假设和备择假设分别为\n",
    "\n",
    "$$𝐻_0: α_1=α_2=α_3=0 vs 𝐻_1:\\exists i\\in{1，2，3}s.t. α_i≠0$$\n",
    "\n",
    "由卡方分布的可加性，我们容易证明\n",
    "\n",
    "$$\\frac{SS_E}{σ^2}\\sim χ^2 (n-a)$$\n",
    "\n",
    "$$\\frac{SS_A}{σ^2} \\sim χ^2 (a-1)(H_0成立)$$\n",
    "\n",
    "由于正态分布中样本均值与样本方差独立，所以\n",
    "\n",
    "$$\\sum_{j=1}^{12} (y_{ij} - \\bar{y}_{i\\cdot})^2 \\bot \\bar{y_{i.}}$$\n",
    "\n",
    "又$SS_A$可被看作$y_{i.}$的函数，所以$SS_A$与$SS_E$独立。故\n",
    "\n",
    "$$F=\\frac{SS_A/(a-1)}{SS_E/(n-a)}\\sim F(a-1,n-a)$$\n",
    "我们把上述$F$作为检验统计量，在显著性水平$α$下，拒绝域为\n",
    "\n",
    "$$\\{F \\geq F_{1-α}(a-1,n-a)\\}$$\n",
    "\n",
    "于是，我们就可以通过以下代码打印出这个单因子方差分析假设检验问题的方差分析表。"
   ]
  },
  {
   "cell_type": "code",
   "execution_count": 12,
   "id": "63b04180-fdef-4229-afbd-a592c400b10d",
   "metadata": {},
   "outputs": [
    {
     "name": "stdout",
     "output_type": "stream",
     "text": [
      "\n",
      "The ANOVA table: \n",
      "              df     sum_sq   mean_sq        F  PR(>F)\n",
      "chokolate   2.0  1952.6439  976.3219  93.5756     0.0\n",
      "Residual   33.0   344.3058   10.4335      NaN     NaN\n"
     ]
    }
   ],
   "source": [
    "model = ols('capacity~chokolate', Data).fit() # Add C() to numeric group indices\n",
    "anovaResults = round(anova_lm(model),4)\n",
    "print(\"\\nThe ANOVA table: \\n\", anovaResults)"
   ]
  },
  {
   "cell_type": "markdown",
   "id": "5aafcdce-99cb-4f84-b373-f5847d7430d6",
   "metadata": {},
   "source": [
    "从方差分析表中，我们看到这个假设检验的p值几乎为0，小于显著性水平$α =0.05$，所以我们拒绝原假设，认为这三种巧克力对心血管健康的影响不一致。\n",
    "\n",
    "* 试说明所使用模型的合理性。\n",
    "\n",
    "在这个单因子方差分析模型中，\n",
    "\n",
    "$$y_{ij} = µ + α_i + ε_{ij}，其中i\\in{1，2，3}，j\\in[1,12]\\bigcap Z$$\n",
    "\n",
    "我们假设\n",
    "\n",
    "$$ε_{ij} \\sim^{i.i.d} N(0,σ^2)$$\n",
    "\n",
    "所以验证这个模型的合理性就等价于验证εij的独立性、方差齐性和正态性。\n",
    "\n",
    "首先我们用Durbin-Watson方法检验$ε_{ij}$的独立性。我们假设\n",
    "\n",
    "$$ε_i=ρε_{i-1}+ω_i$$\n",
    "\n",
    "其中\n",
    "\n",
    "$$ω_i\\sim^{i.i.d} N(0,σ^2 )$$\n",
    "\n",
    "当$ρ=0$，则残差序列独立。该检验的检验统计量为\n",
    "\n",
    "$$DW = \\frac{\\sum_{i=2}^n (ε_i - ε_{i-1})^2}{\\sum_{i=1}^n ε_{i}^2}$$\n",
    "\n",
    "若$DW$接近于2，则认为残差序列独立。我们通过以下代码计算数据集Data的$DW$值。"
   ]
  },
  {
   "cell_type": "code",
   "execution_count": 13,
   "id": "830d70fe-57d6-42ff-b25b-36a134287cc1",
   "metadata": {},
   "outputs": [
    {
     "name": "stdout",
     "output_type": "stream",
     "text": [
      "DW statistic is 2.2991\n"
     ]
    }
   ],
   "source": [
    "Res = Data1\n",
    "list_type = ['A','B','C']\n",
    "for i in list_type:\n",
    "    group = Res[Res[:,0] == i,1]\n",
    "    Res[Res[:,0] == i,1] = group - np.mean(group)\n",
    "DW = durbin_watson(Res[:,1])\n",
    "print(\"DW statistic is\", round(DW,4))"
   ]
  },
  {
   "cell_type": "markdown",
   "id": "da5226be-9a04-49ee-bd7e-539ae689b973",
   "metadata": {},
   "source": [
    "可见，该独立性检验的$DW$值与2比较接近，可以认为残差之间相互独立。\n",
    "\n",
    "接下来，我们分别用Bartlett方法和修正后的Levene检验来检验$ε_{ij}$的方差齐性。\n",
    "\n",
    "在Bartlett检验中，检验统计量为\n",
    "\n",
    "$$\\chi_0^2 = 2.3026 \\frac{q}{c}$$\n",
    "\n",
    "其中\n",
    "\n",
    "$$ q = (n - a) \\log_{10}s_p^2 - \\sum_{i=1}^a (m_i-1)  \\log_{10}s_i^2 $$\n",
    "$$c = 1 + \\frac{1}{3(a-1)}\\left( \\sum_{i=1}^a (m_i-1)^{-1} - (n-a)^{-1} \\right)$$\n",
    "$$s_p^2 = \\frac{\\sum_{i}  (m_i-1)s^2_i}{n-a}$$\n",
    "$$s_i^2 表示第i组数据的样本方差$$\n",
    "\n",
    "拒绝域为\n",
    "\n",
    "$$\\{\\chi_0^2 > \\chi_{1-\\alpha,a-1}^2\\}$$\n",
    "\n",
    "我们通过以下代码对${χ_0}^2$进行检验。"
   ]
  },
  {
   "cell_type": "code",
   "execution_count": 14,
   "id": "dd98023b-5818-4d51-9f5c-d6277f1925a5",
   "metadata": {},
   "outputs": [
    {
     "name": "stdout",
     "output_type": "stream",
     "text": [
      "Bartlett's test statistic is 0.4247\n",
      "The p value is 0.8087\n"
     ]
    }
   ],
   "source": [
    "list_type = ['A','B','C']\n",
    "Group2_data = [Data1[Data1[:,0] == x,1] for x in list_type]\n",
    "Bart_stat, Bart_pVal = stats.bartlett(Group2_data[0], Group2_data[1], Group2_data[2])\n",
    "print(\"Bartlett's test statistic is\", round(Bart_stat,4))\n",
    "print(\"The p value is\", round(Bart_pVal,4))"
   ]
  },
  {
   "cell_type": "markdown",
   "id": "0b4eeb6e-c0ae-4cd2-be65-bfc33c0d1531",
   "metadata": {},
   "source": [
    "可见，${χ_0}^2$没有落入拒绝域，所以我们接受原假设，即诸$ε_{ij}$的方差相等，均为$σ^2$。\n",
    "\n",
    "而在修正后的Levene检验中，我们通过构建检验统计量\n",
    "\n",
    "$$y_{ij}^{\\ast} = |y_{ij} - \\tilde{y}_{i}|,i\\in{1,2,3},j\\in[1,12]\\bigcap Z$$\n",
    "\n",
    "来比较各个水平下样本与样本中位数的偏差之和是否相等。我们通过以下代码对${y_{ij}}^*$进行检验。"
   ]
  },
  {
   "cell_type": "code",
   "execution_count": 15,
   "id": "d2e367a1-91c6-4041-998f-a7567a4539db",
   "metadata": {},
   "outputs": [
    {
     "name": "stdout",
     "output_type": "stream",
     "text": [
      "Levene's test statistic is 0.0213\n",
      "The p value is 0.979\n"
     ]
    }
   ],
   "source": [
    "Lev_stat, Lev_pVal = stats.levene(Group2_data[0], Group2_data[1], Group2_data[2])\n",
    "print(\"Levene's test statistic is\", round(Lev_stat,4))\n",
    "print(\"The p value is\", round(Lev_pVal,4))"
   ]
  },
  {
   "cell_type": "markdown",
   "id": "b7c5acb9-009b-45d3-99b8-3db7c43df6c1",
   "metadata": {},
   "source": [
    "由此，我们接受原假设，即诸$ε_{ij}$的方差相等，均为$σ^2$。\n",
    "\n",
    "最后，我们再用Shapiro-Wilk方法来验证$ε_{ij}$的正态性。我们构造统计量\n",
    "\n",
    "$$W = \\frac{\\left(\\sum_{i=1}^n (a_{i}-\\bar{a}) (x_{(i)}-\\bar{x})\\right)^2}{\\sum_{i=1}^n (a_i-\\bar{a})^2 \\sum_{i=1}^n (x_{(i)} - \\bar{x})^2}$$\n",
    "\n",
    "其中$x_{(i)}$是来自正态分布的顺序统计量，$a_i$在给定样本量$n$时是理论分位数，是定值。$\\sqrt{W}$就是理论分位数和样本分位数的相关系数。如果理论分位数和样本分位数在一条直线上，就认为$ε_{ij}$服从正态分布。由于相关系数越接近1两随机变量的线性相关性越强，所以这个正态性检验的拒绝域是\n",
    "\n",
    "$$\\{W\\leq W_α\\}$$\n",
    "\n",
    "我们通过以下代码来检验$ε_{ij}$的正态性。"
   ]
  },
  {
   "cell_type": "code",
   "execution_count": 17,
   "id": "34593a66-37b0-4dc2-88a7-901fbf102d71",
   "metadata": {},
   "outputs": [
    {
     "name": "stdout",
     "output_type": "stream",
     "text": [
      "Shapiro-Wilk test statistic is 0.9625\n",
      "The p value is 0.2572\n"
     ]
    }
   ],
   "source": [
    "Res1 = Res[:,1].astype(float)\n",
    "SW_stat,SW_pVal = stats.shapiro(Res1)\n",
    "print(\"Shapiro-Wilk test statistic is\", round(SW_stat,4))\n",
    "print(\"The p value is\", round(SW_pVal,4))"
   ]
  },
  {
   "cell_type": "markdown",
   "id": "b52a9948-59f8-4b94-9a6d-227d6fc76f8a",
   "metadata": {},
   "source": [
    "可见，统计量的值非常接近于1且没有落入拒绝域，所以我们认为原假设成立，即$ε_{ij}$服从正态分布。\n",
    "\n",
    "综上所述，我们可以证明这个单因子方差分析模型的假设\n",
    "\n",
    "$$ε_{ij} \\sim^{i.i.d} N(0,σ^2 )$$\n",
    "\n",
    "成立，所以用该模型比较三种巧克力对心血管健康的影响合理。\n",
    "\n",
    "* 估计食用这3种巧克力一小时后血浆的总抗氧能力。请分别给出点估计和区间估计。\n",
    "\n",
    "在这个实验中，待估参数为所有数据的总体均值$μ$。由于\n",
    "\n",
    "$$y_{ij}\\sim N(μ+α_i,σ^2),i\\in{1,2,3},j\\in[1,12]\\bigcap Z$$\n",
    "\n",
    "所以我们可以写出似然函数\n",
    "\n",
    "$$L(μ,α_1,α_2,α_3,σ^2 )=\\prod_{i=1}^3\\prod_{j=1}^{12}{\\frac{1}{σ\\sqrt{2\\pi}}exp\\{-\\frac{(y_{ij}-μ-α_i)^2}{2σ^2}\\}}$$\n",
    "\n",
    "取对数并对$μ$求偏导，得\n",
    "\n",
    "$$\\frac{∂l}{∂μ}=\\frac{1}{σ^2} \\sum_{i=1}^3\\sum_{j=1}^{12}(y_{ij}-μ-α_i)$$\n",
    "\n",
    "$$\\frac{∂l}{∂α_i}=\\frac{1}{σ^2} \\sum_{j=1}^{12}(y_{ij}-μ-α_i)$$\n",
    "\n",
    "$$\\frac{∂l}{∂σ^2}={-18\\frac{1}{σ^2}}+{\\frac{\\sum_{i=1}^3\\sum_{j=1}^{12}(y_{ij}-μ-α_i)^2}{2σ^4}}$$\n",
    "\n",
    "令$\\frac{∂l}{∂μ}=\\frac{∂l}{∂α_i}=\\frac{∂l}{∂σ^2}=0$，又因为$\\sum_{i=1}^3 α_i=0$，我们通过解方程组得到$μ$的最大似然估计为\n",
    "\n",
    "$$\\hat{μ}=\\bar{y_{..}}$$\n",
    "\n",
    "我们通过以下代码求$μ$的最大似然估计。"
   ]
  },
  {
   "cell_type": "code",
   "execution_count": 18,
   "id": "62f03ffb-cfaf-4ead-a4fc-5677eb2c6e7f",
   "metadata": {},
   "outputs": [
    {
     "name": "stdout",
     "output_type": "stream",
     "text": [
      "<class 'float'>\n",
      "Overall Mean is: 105.6472\n"
     ]
    }
   ],
   "source": [
    "hat_mu = np.mean(Data.capacity)\n",
    "print(type(hat_mu))\n",
    "print(\"Overall Mean is:\", round(hat_mu,4))"
   ]
  },
  {
   "cell_type": "markdown",
   "id": "3fd4dea6-c17a-42f4-afd9-ed5e951cd41d",
   "metadata": {},
   "source": [
    "于是有\n",
    "\n",
    "$$\\hat{μ}=105.6472$$\n",
    "\n",
    "接下来，我们再来求$μ$的区间估计。\n",
    "\n",
    "由于\n",
    "\n",
    "$$\\bar{y_{..}}=\\frac{1}{36}\\sum_{i=1}^3\\sum_{j=1}^{12}y_{ij}=μ+\\bar{ε_{..}}\\sim N(μ,\\frac{σ^2}{36})$$\n",
    "\n",
    "所以\n",
    "\n",
    "$$\\frac{(\\bar{y_{..}}-μ)}{σ\\sqrt{\\frac{1}{36}}}\\sim N(0,1)$$\n",
    "\n",
    "又\n",
    "\n",
    "$$\\frac{SS_E}{σ^2}\\sim χ^2 (33)$$\n",
    "\n",
    "所以\n",
    "\n",
    "$$\\frac{\\sqrt{36}(\\bar{y_{..}}-μ)}{\\sqrt{\\frac{SS_E}{33}}}\\sim t(33)$$\n",
    "\n",
    "由此，我们可以得到$μ$的置信水平为$1-α$的置信区间为\n",
    "\n",
    "$$[\\bar{y_{..}}-t_{1-α/2} (33){\\sqrt{\\frac{SS_E}{{33}\\times{36}}}},\\bar{y_{..}}+t_{1-α/2} (33){\\sqrt{\\frac{SS_E}{{33}\\times{36}}}}]$$\n",
    "\n",
    "从4.2中的方差分析表中可以看出，$SS_E=344.3058$。\n",
    "\n",
    "我们通过以下代码来计算这个区间估计的置信下限和置信上限。"
   ]
  },
  {
   "cell_type": "code",
   "execution_count": 19,
   "id": "ad71edac-b79a-4b57-a0f0-31a75925b03c",
   "metadata": {},
   "outputs": [
    {
     "name": "stdout",
     "output_type": "stream",
     "text": [
      "104.552\n",
      "106.7425\n"
     ]
    }
   ],
   "source": [
    "tt=round(t.ppf(1-alpha/2,33),4)\n",
    "totalaverage=0\n",
    "for z in range(0,36):\n",
    "    totalaverage=totalaverage+Data['capacity'][z]\n",
    "totalaverage=totalaverage/36\n",
    "lower = totalaverage-tt*((344.3058/1188)**0.5)\n",
    "upper = totalaverage+tt*((344.3058/1188)**0.5)\n",
    "print(round(lower,4))\n",
    "print(round(upper,4))"
   ]
  },
  {
   "cell_type": "markdown",
   "id": "c86cbeb8-e5bf-4095-af7b-a41817be018c",
   "metadata": {},
   "source": [
    "所以，$μ$的置信水平为0.95的置信区间为\n",
    "\n",
    "$$[104.552,106.7425]$$\n",
    "## 总结\n",
    "\n",
    "在本周的实验中，我们复习了二样本t检验的知识，还首次尝试通过方差分析的均值模型和效应模型来比较多组方差相等的正态总体的均值，学会通过验证模型的假设来判断模型的合理性，还学会了如何求维度较高的统计量的最大似然估计，为以后的学习打好了基础。"
   ]
  }
 ],
 "metadata": {
  "kernelspec": {
   "display_name": "Python 3 (ipykernel)",
   "language": "python",
   "name": "python3"
  },
  "language_info": {
   "codemirror_mode": {
    "name": "ipython",
    "version": 3
   },
   "file_extension": ".py",
   "mimetype": "text/x-python",
   "name": "python",
   "nbconvert_exporter": "python",
   "pygments_lexer": "ipython3",
   "version": "3.9.12"
  }
 },
 "nbformat": 4,
 "nbformat_minor": 5
}
