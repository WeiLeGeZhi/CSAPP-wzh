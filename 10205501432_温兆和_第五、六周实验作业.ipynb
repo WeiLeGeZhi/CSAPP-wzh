{
 "cells": [
  {
   "cell_type": "markdown",
   "id": "25827bcd-1532-44dc-8d40-454c7eb00d8b",
   "metadata": {},
   "source": [
    "# 统计方法与机器学习-实验报告5\n",
    "\n",
    "温兆和 10205501432\n",
    "## 实验内容\n",
    "\n",
    "通过实现一个模拟实验来探究过拟合与欠拟合对预测结果带来的影响\n",
    "\n",
    "## 数据描述\n",
    "\n",
    "$$\\sigma^2=0.2^2$$\n",
    "$$\\sigma_{\\epsilon}^2=3^2$$\n",
    "$$M=5000$$\n",
    "$$p=20$$\n",
    "$$p_1=10$$\n",
    "\n",
    "## 实验过程\n",
    "\n",
    "1.构造一个特征值矩阵$\\mathbf{X}=(x_{ij})_{n\\times(p+1)}$，即\n",
    "$$\n",
    "\\mathbf{X} = \\begin{pmatrix}\n",
    "1 & x_{11} & x_{12} & \\ldots & x_{1p}\\\\\n",
    "1 & x_{21} & x_{22} & \\ldots & x_{2p}\\\\\n",
    "\\vdots & \\vdots & \\vdots & \\vdots & \\vdots\\\\\n",
    "1 & x_{n1} & x_{n2} & \\ldots & x_{np}\\\\\n",
    "\\end{pmatrix}=\\begin{pmatrix}\n",
    "1 & \\mathbf{X_{1}^T}\\\\\n",
    "1 & \\mathbf{X_{2}^T}\\\\\n",
    "\\vdots & \\vdots\\\\\n",
    "1 & \\mathbf{X_{n}^T}\\\\\n",
    "\\end{pmatrix}\n",
    "$$\n",
    "其中$\\mathbf{X_{1}^T},\\mathbf{X_{2}^T},\\ldots,\\mathbf{X_{n}^T}$是独立同分布的$p$维随机向量，且服从多元正态分布。具体来说，\n",
    "$$\\mathbf{X_{i}}\\sim N_p(\\mathbf{0_p},\\sigma^2\\mathbf{I_p})$$\n",
    "这里$\\mathbf{I_p}$是单位阵。\n",
    "\n",
    "2.构造响应变量$$\\mathbf{y} = \\mathbf{X}\\mathbf{\\beta} + \\mathbf{\\epsilon}$$其中$$\\beta = (\\mathbf{1_{1+p_1}^T},\\mathbf{0_{p-p_1}^T})^T$$\n",
    "特别说明一下，这样构造的$\\beta$使得$\\mathbf{X}$中的前$(p_1+1)$列的特征（包括常数项）对因变量有影响。同时，误差向量$$\\mathbf{\\epsilon} = (\\epsilon_1,\\epsilon_2,\\ldots,\\epsilon_n)^T$$其中$$\\epsilon_i \\overset{i.i.d}\\sim N(0,\\sigma_{\\epsilon}^2),i=1,2,\\ldots,n$$\n",
    "3.给定$\\mathbf{x_0}=(1,\\mathbf{0.05_{20}^T})^T$，$y_0=\\mathbf{x_0}^T\\beta+\\epsilon_0$的最佳点预测值为$\\mathbf{x_0}^T\\beta$。这里是真实的参数$\\beta$。\n",
    "\n",
    "4.给定训练数据$\\mathbf{y}$和$\\mathbf{X}$，建立第$k$个模型，即$$y=\\beta_{0}+\\beta_{1}x_{1}+...+\\beta_{k}x_{k}+\\epsilon$$\n",
    "于是，我们可以得到其相应的最小二乘估计\n",
    "$$\\hat{\\beta^{(k)}}=(\\hat{\\beta_0},\\hat{\\beta_1},\\ldots,\\hat{\\beta_k},\\mathbf{0_{20-k}^T})^T$$由此，$y_0$的预测值为$$\\hat{y_0^{(k)}}=\\mathbf{x_0^T}\\hat{\\beta^{(k)}}$$这里是所得到的估计值$\\hat{\\beta^{(k)}}$。\n",
    "\n",
    "5.重复1-4步$M$次，可以得到$M$个不同的观测值，分别记为$\\hat{y_{0,m}^{(k)}},k=1,2,\\ldots,p;m=1,2,\\ldots,M$。于是，可以计算其偏差平方、方差和均方误差，即\n",
    "$$Bias_k^2=(M^{-1}\\sum_{m=1}^M\\hat{y_{0,m}^{(k)}}-\\mathbf{x_0^T}\\beta)^2$$\n",
    "$$Var_k = M^{-1}\\sum_{m=1}^M(\\hat{y_{0,m}^{(k)}}-M^{-1}\\sum_{m=1}^M\\hat{y_{0,m}^{(k)}})^2$$\n",
    "$$MSE_k = M^{-1}\\sum_{m=1}^M(\\hat{y_{0,m}^{(k)}}-\\mathbf{x_0^T}\\beta)^2$$"
   ]
  },
  {
   "cell_type": "code",
   "execution_count": 3,
   "id": "70f71043-c913-426d-9dad-9826b0f28e8b",
   "metadata": {},
   "outputs": [
    {
     "name": "stdout",
     "output_type": "stream",
     "text": [
      "    k_value      Bias       Var      MS_E\n",
      "0       1.0  0.202188  0.427207  0.629394\n",
      "1       2.0  0.166763  0.456123  0.622886\n",
      "2       3.0  0.118570  0.523290  0.641860\n",
      "3       4.0  0.085265  0.573224  0.658489\n",
      "4       5.0  0.064246  0.641796  0.706042\n",
      "5       6.0  0.040126  0.710128  0.750254\n",
      "6       7.0  0.021107  0.782044  0.803151\n",
      "7       8.0  0.008077  0.845669  0.853747\n",
      "8       9.0  0.002705  0.928581  0.931286\n",
      "9      10.0  0.000067  1.084671  1.084738\n",
      "10     11.0  0.000274  1.214773  1.215047\n",
      "11     12.0  0.000145  1.379223  1.379368\n",
      "12     13.0  0.000588  1.588151  1.588739\n",
      "13     14.0  0.000306  1.876588  1.876894\n",
      "14     15.0  0.000057  2.004588  2.004645\n",
      "15     16.0  0.000323  2.516866  2.517189\n",
      "16     17.0  0.000129  2.970183  2.970312\n",
      "17     18.0  0.001331  3.713619  3.714950\n",
      "18     19.0  0.000012  4.663364  4.663376\n",
      "19     20.0  0.001242  6.766530  6.767772\n"
     ]
    }
   ],
   "source": [
    "#引进本次实验所需要的Python包\n",
    "import random\n",
    "import numpy as np\n",
    "import pandas as pd\n",
    "#设置固定变量\n",
    "sigma = 0.2\n",
    "se_ep = 3\n",
    "M=5000\n",
    "p=20\n",
    "p1 = 10\n",
    "n = 25#样本量\n",
    "#在固定k的情况下重复步骤1-4\n",
    "def simulation(k):\n",
    "    Observation = []\n",
    "    Answer = []\n",
    "    for counter in range(M):\n",
    "        X = np.empty((n,p+1),dtype = float)\n",
    "        Xk = np.empty((n,k+1),dtype = float)\n",
    "        for i in range(0,n):\n",
    "            X[i][0]=1\n",
    "            Xk[i][0]=1\n",
    "        for i in range(0,n):\n",
    "            for j in range(1,p+1):\n",
    "                X[i][j]=random.gauss(0,sigma)\n",
    "                if j<=k:\n",
    "                    Xk[i][j]=X[i][j]\n",
    "        beta = []\n",
    "        for i in range(0,p1+1):\n",
    "            beta.append(1)\n",
    "        for i in range(0,p-p1):\n",
    "            beta.append(0)\n",
    "        epsilon = []\n",
    "        for i in range(0,n):\n",
    "            epsilon.append(random.gauss(0,se_ep))\n",
    "        x_0 =np.array( [1,0.05,0.05,0.05,0.05,0.05,0.05,0.05,0.05,0.05,0.05,0.05,0.05,0.05,0.05,0.05,0.05,0.05,0.05,0.05,0.05])\n",
    "        y=X@beta+epsilon\n",
    "        beta_hat_k = np.linalg.inv(Xk.T @ Xk) @ (Xk.T @ y)\n",
    "        beta_hat_k = beta_hat_k.tolist()\n",
    "        for i in range(0,p-k):\n",
    "            beta_hat_k.append(0)\n",
    "        beta_hat_k = np.array(beta_hat_k)\n",
    "        y_0 = x_0.T@beta_hat_k\n",
    "        Observation.append(y_0)\n",
    "    Bias = (np.sum(Observation)/M-x_0.T@beta)**2\n",
    "    Var = np.var(Observation)\n",
    "    MSE = 0\n",
    "    for i in range(0,len(Observation)):\n",
    "        MSE = MSE +(Observation[i]-x_0.T@beta)**2\n",
    "    MSE = MSE/M\n",
    "    Answer.append(k)\n",
    "    Answer.append(Bias)\n",
    "    Answer.append(Var)\n",
    "    Answer.append(MSE)\n",
    "    return Answer\n",
    "#获取不同k值（即不同拟合程度下）预测值的偏差平方、方差和均方误差    \n",
    "Data = pd.DataFrame(columns = ['k_value','Bias','Var','MS_E'])\n",
    "for i in range(1,p+1):\n",
    "    Answer = simulation(i)\n",
    "    Data.loc[len(Data.index)]=Answer\n",
    "print(Data)"
   ]
  },
  {
   "cell_type": "markdown",
   "id": "f3a7b457-0b4a-4c67-8cb5-2ce1de3d1773",
   "metadata": {},
   "source": [
    "## 实验结论\n",
    "\n",
    "- 绘制一张图片（以k作为横坐标），偏差平方、方差以及均方误差这三条曲线。"
   ]
  },
  {
   "cell_type": "code",
   "execution_count": 4,
   "id": "1622ee22-c685-4454-a99a-fb7fa7ace71f",
   "metadata": {},
   "outputs": [
    {
     "data": {
      "text/plain": [
       "<matplotlib.legend.Legend at 0x7faf45008730>"
      ]
     },
     "execution_count": 4,
     "metadata": {},
     "output_type": "execute_result"
    },
    {
     "data": {
      "image/png": "[encoded data removed]",
      "text/plain": [
       "<Figure size 432x288 with 1 Axes>"
      ]
     },
     "metadata": {
      "needs_background": "light"
     },
     "output_type": "display_data"
    }
   ],
   "source": [
    "import matplotlib.pyplot as plt\n",
    "plt.plot(Data[\"k_value\"],Data[\"Bias\"], color = 'red', marker = 'o', label = 'Bias')\n",
    "plt.plot(Data[\"k_value\"],Data[\"Var\"], color = 'green', marker = 'o', label = 'Var')\n",
    "plt.plot(Data[\"k_value\"],Data[\"MS_E\"], color = 'blue', marker = 'o', label = 'MS_E')\n",
    "plt.title(\"Prediction Value - Goodness of Fit Plot\")\n",
    "plt.xlabel(\"k_value\")\n",
    "plt.ylabel(\"Prediction Value\")\n",
    "plt.legend(['Bias', 'Var', 'MS_E'])"
   ]
  },
  {
   "cell_type": "markdown",
   "id": "7353abfd-3fda-497a-bdc9-ce7de746d8aa",
   "metadata": {},
   "source": [
    "- 基于所绘制的图象，请评述，模型的欠拟合和过拟合分别对预测结果造成怎样的影响？"
   ]
  },
  {
   "cell_type": "markdown",
   "id": "b293b0ce-45cb-4e8d-898e-4bf59db4ca72",
   "metadata": {},
   "source": [
    "在本实验中，$k=10$的情况才是既不过拟合也不欠拟合的情况。当$k<10$，欠拟合发生。从上图我们发现，此时实际预测值和真实值之间的偏差平方和$Bias$大于正常拟合时。此外，由于\n",
    "$$Var_k = M^{-1}\\sum_{m=1}^M(\\hat{y_{0,m}^{(k)}}-M^{-1}\\sum_{m=1}^M\\hat{y_{0,m}^{(k)}})^2$$\n",
    "$$MSE_k = M^{-1}\\sum_{m=1}^M(\\hat{y_{0,m}^{(k)}}-\\mathbf{x_0^T}\\beta)^2$$\n",
    "而图中欠拟合时方差小于均方误差，所以欠拟合下的预测值$M^{-1}\\sum_{m=1}^M\\hat{y_{0,m}^{(k)}}$会大于使用全模型时的真实预测值$\\mathbf{x_0^T}\\beta$。此外，由于方差的估计等于均方误差，欠拟合时对于方差的估计也是有偏的。但是欠拟合时预测值的方差小于正常拟合时，预测值较为稳定。\n",
    "\n",
    "相反，当$k>10$，过拟合发生。上图中，此时实际预测值和真实值之间的偏差平方和$Bias$小于正常拟合时，甚至几乎接近于零。此外，方差和均方误差几乎处处相等，说明过拟合时的预测值是关于真实值$(\\beta_{p1},\\mathbf{0}^T)^T$无偏的，且对于方差的估计也是无偏的。但是过拟合时预测值的方差比正常拟合时大了不少，说明过拟合时预测值会有较大波动。"
   ]
  }
 ],
 "metadata": {
  "kernelspec": {
   "display_name": "Python 3 (ipykernel)",
   "language": "python",
   "name": "python3"
  },
  "language_info": {
   "codemirror_mode": {
    "name": "ipython",
    "version": 3
   },
   "file_extension": ".py",
   "mimetype": "text/x-python",
   "name": "python",
   "nbconvert_exporter": "python",
   "pygments_lexer": "ipython3",
   "version": "3.9.12"
  }
 },
 "nbformat": 4,
 "nbformat_minor": 5
}
