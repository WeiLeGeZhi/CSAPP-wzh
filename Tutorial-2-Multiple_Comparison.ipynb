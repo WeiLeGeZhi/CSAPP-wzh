{
 "cells": [
  {
   "cell_type": "markdown",
   "id": "fc92ff98",
   "metadata": {},
   "source": [
    "# Tutorial Two: Multiple Comparison\n",
    "\n",
    "## 实验前的准备\n",
    "本次实验我们载入一些Python的安装包，如下："
   ]
  },
  {
   "cell_type": "code",
   "execution_count": 3,
   "id": "b36b6bc7",
   "metadata": {},
   "outputs": [],
   "source": [
    "import os # 修改工作目录\n",
    "\n",
    "import numpy as np\n",
    "import pandas as pd\n",
    "import scipy.stats as stats # 统计函数\n",
    "from statsmodels.stats.multicomp import pairwise_tukeyhsd\n",
    "from scipy.stats import t\n",
    "import math\n",
    "\n",
    "#import matplotlib.pyplot as plt\n",
    "#from plotnine import * # ggplot 绘图\n",
    "#from plotnine.data import mpg\n",
    "from jupyterquiz import display_quiz # Quiz\n",
    "\n",
    "from statsmodels.formula.api import ols\n",
    "from statsmodels.stats.anova import anova_lm"
   ]
  },
  {
   "cell_type": "markdown",
   "id": "12d31b13",
   "metadata": {},
   "source": [
    "## 背景\n",
    "\n",
    "回顾 Tutorial One，我们利用了 One-way ANOVA 模型分析三种饮食方式对减重的影响是否存在差异。而后我们所得到的结论如下：\n",
    "\n",
    "- 拒绝原假设：我们认为三种饮食方式对减重的影响是存在差异的。检验统计量为$4.8139$，其对应的$p$值为0.011。\n",
    "- One-way ANOVA模型是符合数据假定的，具体来说，数据满足（1）独立性，（2）方差齐性，以及（3）正态性。\n",
    "- 三种饮食方式下，体重变化量的估计分别为$3.3, 3.113, 5.037$，而方差的估计为$5.6168$。\n",
    "\n",
    "我们需要进一步分析哪些饮食方式对减重的影响是有差异的。"
   ]
  },
  {
   "cell_type": "markdown",
   "id": "efd01c0d",
   "metadata": {},
   "source": [
    "## 数据\n",
    "\n",
    "我们仍使用数据集Data_1，具体形式如下所示。"
   ]
  },
  {
   "cell_type": "code",
   "execution_count": 4,
   "id": "90a900e6",
   "metadata": {},
   "outputs": [
    {
     "name": "stdout",
     "output_type": "stream",
     "text": [
      "Data 1 is shown as follows: \n",
      "     gender  age  height diet.type  initial.weight  final.weight\n",
      "0   Female   22     159         A              58          54.2\n",
      "1   Female   46     192         A              60          54.0\n",
      "2   Female   55     170         A              64          63.3\n",
      "3   Female   33     171         A              64          61.1\n",
      "4   Female   50     170         A              65          62.2\n",
      "..     ...  ...     ...       ...             ...           ...\n",
      "67    Male   35     183         C              83          80.2\n",
      "68    Male   49     177         C              84          79.9\n",
      "69    Male   28     164         C              85          79.7\n",
      "70    Male   40     167         C              87          77.8\n",
      "71    Male   51     175         C              88          81.9\n",
      "\n",
      "[72 rows x 6 columns]\n"
     ]
    }
   ],
   "source": [
    "print('Data 1 is shown as follows: \\n', pd.read_csv(\"./Data/Data_1.csv\"))"
   ]
  },
  {
   "cell_type": "markdown",
   "id": "4049ad59",
   "metadata": {},
   "source": [
    "## 任务\n",
    "\n",
    "试用Tukey比较 3 个饮食方式水平下的减重程度两两是否存在差异."
   ]
  },
  {
   "cell_type": "markdown",
   "id": "3095a000",
   "metadata": {},
   "source": [
    "## 解决方案\n",
    "\n",
    "### 数据预处理\n",
    "\n",
    "我们重新构造响应变量，即志愿者参与实验前的体重减去6周时的体重变化量。\n",
    "注：本实验中的显著性水平为 $\\alpha = 0.05$。"
   ]
  },
  {
   "cell_type": "code",
   "execution_count": 5,
   "id": "728460d5",
   "metadata": {},
   "outputs": [
    {
     "name": "stdout",
     "output_type": "stream",
     "text": [
      "Index(['gender', 'age', 'height', 'diet.type', 'initial.weight',\n",
      "       'final.weight'],\n",
      "      dtype='object')\n",
      "   Diet_type  Weight_loss\n",
      "0          A          3.8\n",
      "1          A          6.0\n",
      "2          A          0.7\n",
      "3          A          2.9\n",
      "4          A          2.8\n",
      "..       ...          ...\n",
      "67         C          2.8\n",
      "68         C          4.1\n",
      "69         C          5.3\n",
      "70         C          9.2\n",
      "71         C          6.1\n",
      "\n",
      "[72 rows x 2 columns]\n"
     ]
    }
   ],
   "source": [
    "## Settings\n",
    "alpha =0.05\n",
    "a = 3\n",
    "m =24\n",
    "## Load Data\n",
    "Data = pd.read_csv(\"./Data/Data_1.csv\")\n",
    "print(Data.columns)# Print the column names of Data_1\n",
    "## Construct a New Dataset\n",
    "Data = Data[['diet.type','initial.weight','final.weight']] # select some columns from a dataset\n",
    "Data['weight.loss'] = Data['initial.weight'] - Data['final.weight']\n",
    "Data = Data.drop(labels=['initial.weight', 'final.weight'], axis = 1) # delete some columns from a dataset\n",
    "Data.columns = ['Diet_type','Weight_loss']\n",
    "print(Data)"
   ]
  },
  {
   "cell_type": "markdown",
   "id": "bf6c0744",
   "metadata": {},
   "source": [
    "###  具体分析\n",
    "\n",
    "在One-way ANOVA模型中，我们假定了体重的变化量$y_{ij} \\sim N(\\mu+\\alpha_i,\\sigma^2)$。欲检验\n",
    "$$\n",
    "H_0: \\alpha_1 = \\alpha_2 = \\alpha_3 =0 \\quad \\text{vs} \\quad \n",
    "H_1: \\alpha_1,\\alpha_2,\\alpha_3\\text{不全相等}.\n",
    "$$\n",
    "\n",
    "除了采用第一周代码可以实现One-way ANOVA模型之外，这里我们介绍另一种实现方法。"
   ]
  },
  {
   "cell_type": "code",
   "execution_count": 6,
   "id": "4ca1e62a",
   "metadata": {},
   "outputs": [
    {
     "name": "stdout",
     "output_type": "stream",
     "text": [
      "The test statistic in One-way ANOVA model is 4.8139\n",
      "The p value in One-way ANOVA model is 0.011\n"
     ]
    }
   ],
   "source": [
    "data1 = Data.values \n",
    "list_type = [\"A\",\"B\",\"C\"]\n",
    "groups = [data1[data1[:,0] == x, 1] for x in list_type]\n",
    "\n",
    "F_stat, F_pVal = stats.f_oneway(groups[0],groups[1],groups[2])\n",
    "print(\"The test statistic in One-way ANOVA model is\", round(F_stat,4))\n",
    "print(\"The p value in One-way ANOVA model is\", round(F_pVal,4))\n"
   ]
  },
  {
   "cell_type": "markdown",
   "id": "3de1c088",
   "metadata": {},
   "source": [
    "无论采用“临界值法”还是根据$p$值来判断，我们均拒绝原假设，即认为这三种饮食方式对体重的变化量有不同的影响。\n",
    "\n",
    "接下来，我们需要判断哪几对是存在差异的，并且需要量化这些差异是否是显著的？这里我们采用的是理论课程里介绍过的方法——Tukey。在Tukey方法中，需要计算每组样本均值的差，并将其与临界值\n",
    "$$\n",
    "c = q_{1-\\alpha}(a,df) \\cdot \\hat{\\sigma}/\\sqrt{m}.\n",
    "$$\n",
    "进行比较。这里所计算的分位数，实际上是$t$化极差统计量的分位数，其中$t$化极差统计量定义为\n",
    "$$\n",
    "q(a,df) = \\max_i \\frac{\\bar{y}_{i\\cdot} - \\mu}{\\hat{\\sigma}/\\sqrt{m}}  - \\min_i \\frac{\\bar{y}_{i\\cdot} - \\mu}{\\hat{\\sigma}/\\sqrt{m}}.\n",
    "$$\n",
    "这里$a$表示因子水平数，$m$表示一组内的数据个数，$\\hat{\\sigma}$是标准差的估计，即$\\hat{\\sigma}=\\sqrt{\\hat{\\sigma}^2}$。\n",
    "\n",
    "值得注意的是，这里$q_{1-\\alpha}(a,df)$表示$t$化极差统计量的分位数，通常需要查表而得。![Quantiles_T2.jpeg](img/Quantiles_T2.jpeg)\n",
    "\n",
    "备注：上表中的$r$对应于所定义的$a$，而上表中的$f$对应于所定义的df。\n",
    "\n",
    "我们判断方式是\n",
    "- 如果两组样本均值的绝对差大于临界值，那么认为这两组样本的均值是不同的；\n",
    "- 如果两组样本均值的绝对差小于等于临界值，那么认为这两组样本的均值是相同的。"
   ]
  },
  {
   "cell_type": "code",
   "execution_count": 7,
   "id": "e40d107c",
   "metadata": {},
   "outputs": [
    {
     "name": "stdout",
     "output_type": "stream",
     "text": [
      "Multiple Comparison of Means - Tukey HSD, FWER=0.05\n",
      "===================================================\n",
      "group1 group2 meandiff p-adj   lower  upper  reject\n",
      "---------------------------------------------------\n",
      "     A      B  -0.1875 0.9595 -1.8263 1.4513  False\n",
      "     A      C   1.7375 0.0352  0.0987 3.3763   True\n",
      "     B      C    1.925 0.0173  0.2862 3.5638   True\n",
      "---------------------------------------------------\n"
     ]
    }
   ],
   "source": [
    "Tukey= pairwise_tukeyhsd(endog = Data[\"Weight_loss\"], groups=Data[\"Diet_type\"],alpha=alpha)\n",
    "print(Tukey)"
   ]
  },
  {
   "cell_type": "markdown",
   "id": "d20b1df6",
   "metadata": {},
   "source": [
    "从上表中，我们可以发现：饮食方式A和C，B和C对体重的改变量是有显著的区别的，而饮食方式A和B对体重的改变量没有显著差异。\n",
    "\n",
    "可以注意到，除了可以判断每两组均值差的**同时**置信区间。根据所构建的同时置信区间，我们也可以判断两组样本的均值是否存在显著差异。请回答以下的问题。\n",
    "\n"
   ]
  },
  {
   "cell_type": "markdown",
   "id": "f0dc7baa",
   "metadata": {},
   "source": [
    "### 随堂练习\n",
    "\n",
    "#### Q1"
   ]
  },
  {
   "cell_type": "code",
   "execution_count": 2,
   "id": "4b7315f6",
   "metadata": {},
   "outputs": [
    {
     "ename": "NameError",
     "evalue": "name 'display_quiz' is not defined",
     "output_type": "error",
     "traceback": [
      "\u001b[0;31m---------------------------------------------------------------------------\u001b[0m",
      "\u001b[0;31mNameError\u001b[0m                                 Traceback (most recent call last)",
      "Input \u001b[0;32mIn [2]\u001b[0m, in \u001b[0;36m<cell line: 1>\u001b[0;34m()\u001b[0m\n\u001b[0;32m----> 1\u001b[0m \u001b[43mdisplay_quiz\u001b[49m(\u001b[38;5;124m\"\u001b[39m\u001b[38;5;124m./Question/T2_Q1.json\u001b[39m\u001b[38;5;124m\"\u001b[39m)\n",
      "\u001b[0;31mNameError\u001b[0m: name 'display_quiz' is not defined"
     ]
    }
   ],
   "source": [
    "display_quiz(\"./Question/T2_Q1.json\")"
   ]
  },
  {
   "cell_type": "markdown",
   "id": "0f83b1c1",
   "metadata": {},
   "source": [
    "</details>\n",
    "\n",
    "<details><summary>Q1【点击提示】</summary>\n",
    "    \n",
    "    请回顾：假设检验与区间估计的关系。\n",
    "  \n",
    "</details>"
   ]
  },
  {
   "cell_type": "markdown",
   "id": "4cc1c129",
   "metadata": {},
   "source": [
    "#### Q2"
   ]
  },
  {
   "cell_type": "code",
   "execution_count": null,
   "id": "96a23587",
   "metadata": {},
   "outputs": [],
   "source": [
    "display_quiz(\"./Question/T2_Q2.json\")"
   ]
  },
  {
   "cell_type": "markdown",
   "id": "3e89a2fe",
   "metadata": {},
   "source": [
    "</details>\n",
    "\n",
    "<details><summary>Q2【点击提示】</summary>\n",
    "    \n",
    "    请计算出Bonferroni方法所构造的同时置信区间的上下限。\n",
    "  \n",
    "</details>"
   ]
  }
 ],
 "metadata": {
  "kernelspec": {
   "display_name": "Python 3 (ipykernel)",
   "language": "python",
   "name": "python3"
  },
  "language_info": {
   "codemirror_mode": {
    "name": "ipython",
    "version": 3
   },
   "file_extension": ".py",
   "mimetype": "text/x-python",
   "name": "python",
   "nbconvert_exporter": "python",
   "pygments_lexer": "ipython3",
   "version": "3.9.12"
  }
 },
 "nbformat": 4,
 "nbformat_minor": 5
}
