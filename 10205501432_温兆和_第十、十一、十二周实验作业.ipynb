{
 "cells": [
  {
   "cell_type": "markdown",
   "id": "fd2b42eb-b2fe-4785-88e8-a8dd44ce131d",
   "metadata": {},
   "source": [
    "# 统计方法与机器学习-实验报告8\n",
    "温兆和 10205501432\n",
    "\n",
    "在本周的实验中，我们将用逻辑斯蒂回归对diabetes数据集中的数据进行分类，并评价分类的效果。\n",
    "\n",
    "首先，我们载入在本次实验中需要用到的Python包："
   ]
  },
  {
   "cell_type": "code",
   "execution_count": 107,
   "id": "2894abb4-cae8-470d-b294-30fe18432afa",
   "metadata": {},
   "outputs": [],
   "source": [
    "import random\n",
    "import numpy as np\n",
    "import pandas as pd\n",
    "import matplotlib.pyplot as plt\n",
    "from sklearn import datasets\n",
    "from scipy import io as scio\n",
    "from sklearn.linear_model import LogisticRegression\n",
    "from sklearn.model_selection import train_test_split\n",
    "from sklearn.metrics import accuracy_score"
   ]
  },
  {
   "cell_type": "markdown",
   "id": "d410fbcd-c9b8-4f10-bdf8-00a73c16c5dc",
   "metadata": {},
   "source": [
    "导入数据集并将其打开："
   ]
  },
  {
   "cell_type": "code",
   "execution_count": 3,
   "id": "5bc4e386-3eea-488f-8533-e349d483fb36",
   "metadata": {},
   "outputs": [
    {
     "name": "stdout",
     "output_type": "stream",
     "text": [
      "{'data': array([[ 0.03807591,  0.05068012,  0.06169621, ..., -0.00259226,\n",
      "         0.01990749, -0.01764613],\n",
      "       [-0.00188202, -0.04464164, -0.05147406, ..., -0.03949338,\n",
      "        -0.06833155, -0.09220405],\n",
      "       [ 0.08529891,  0.05068012,  0.04445121, ..., -0.00259226,\n",
      "         0.00286131, -0.02593034],\n",
      "       ...,\n",
      "       [ 0.04170844,  0.05068012, -0.01590626, ..., -0.01107952,\n",
      "        -0.04688253,  0.01549073],\n",
      "       [-0.04547248, -0.04464164,  0.03906215, ...,  0.02655962,\n",
      "         0.04452873, -0.02593034],\n",
      "       [-0.04547248, -0.04464164, -0.0730303 , ..., -0.03949338,\n",
      "        -0.00422151,  0.00306441]]), 'target': array([151.,  75., 141., 206., 135.,  97., 138.,  63., 110., 310., 101.,\n",
      "        69., 179., 185., 118., 171., 166., 144.,  97., 168.,  68.,  49.,\n",
      "        68., 245., 184., 202., 137.,  85., 131., 283., 129.,  59., 341.,\n",
      "        87.,  65., 102., 265., 276., 252.,  90., 100.,  55.,  61.,  92.,\n",
      "       259.,  53., 190., 142.,  75., 142., 155., 225.,  59., 104., 182.,\n",
      "       128.,  52.,  37., 170., 170.,  61., 144.,  52., 128.,  71., 163.,\n",
      "       150.,  97., 160., 178.,  48., 270., 202., 111.,  85.,  42., 170.,\n",
      "       200., 252., 113., 143.,  51.,  52., 210.,  65., 141.,  55., 134.,\n",
      "        42., 111.,  98., 164.,  48.,  96.,  90., 162., 150., 279.,  92.,\n",
      "        83., 128., 102., 302., 198.,  95.,  53., 134., 144., 232.,  81.,\n",
      "       104.,  59., 246., 297., 258., 229., 275., 281., 179., 200., 200.,\n",
      "       173., 180.,  84., 121., 161.,  99., 109., 115., 268., 274., 158.,\n",
      "       107.,  83., 103., 272.,  85., 280., 336., 281., 118., 317., 235.,\n",
      "        60., 174., 259., 178., 128.,  96., 126., 288.,  88., 292.,  71.,\n",
      "       197., 186.,  25.,  84.,  96., 195.,  53., 217., 172., 131., 214.,\n",
      "        59.,  70., 220., 268., 152.,  47.,  74., 295., 101., 151., 127.,\n",
      "       237., 225.,  81., 151., 107.,  64., 138., 185., 265., 101., 137.,\n",
      "       143., 141.,  79., 292., 178.,  91., 116.,  86., 122.,  72., 129.,\n",
      "       142.,  90., 158.,  39., 196., 222., 277.,  99., 196., 202., 155.,\n",
      "        77., 191.,  70.,  73.,  49.,  65., 263., 248., 296., 214., 185.,\n",
      "        78.,  93., 252., 150.,  77., 208.,  77., 108., 160.,  53., 220.,\n",
      "       154., 259.,  90., 246., 124.,  67.,  72., 257., 262., 275., 177.,\n",
      "        71.,  47., 187., 125.,  78.,  51., 258., 215., 303., 243.,  91.,\n",
      "       150., 310., 153., 346.,  63.,  89.,  50.,  39., 103., 308., 116.,\n",
      "       145.,  74.,  45., 115., 264.,  87., 202., 127., 182., 241.,  66.,\n",
      "        94., 283.,  64., 102., 200., 265.,  94., 230., 181., 156., 233.,\n",
      "        60., 219.,  80.,  68., 332., 248.,  84., 200.,  55.,  85.,  89.,\n",
      "        31., 129.,  83., 275.,  65., 198., 236., 253., 124.,  44., 172.,\n",
      "       114., 142., 109., 180., 144., 163., 147.,  97., 220., 190., 109.,\n",
      "       191., 122., 230., 242., 248., 249., 192., 131., 237.,  78., 135.,\n",
      "       244., 199., 270., 164.,  72.,  96., 306.,  91., 214.,  95., 216.,\n",
      "       263., 178., 113., 200., 139., 139.,  88., 148.,  88., 243.,  71.,\n",
      "        77., 109., 272.,  60.,  54., 221.,  90., 311., 281., 182., 321.,\n",
      "        58., 262., 206., 233., 242., 123., 167.,  63., 197.,  71., 168.,\n",
      "       140., 217., 121., 235., 245.,  40.,  52., 104., 132.,  88.,  69.,\n",
      "       219.,  72., 201., 110.,  51., 277.,  63., 118.,  69., 273., 258.,\n",
      "        43., 198., 242., 232., 175.,  93., 168., 275., 293., 281.,  72.,\n",
      "       140., 189., 181., 209., 136., 261., 113., 131., 174., 257.,  55.,\n",
      "        84.,  42., 146., 212., 233.,  91., 111., 152., 120.,  67., 310.,\n",
      "        94., 183.,  66., 173.,  72.,  49.,  64.,  48., 178., 104., 132.,\n",
      "       220.,  57.]), 'frame': None, 'DESCR': '.. _diabetes_dataset:\\n\\nDiabetes dataset\\n----------------\\n\\nTen baseline variables, age, sex, body mass index, average blood\\npressure, and six blood serum measurements were obtained for each of n =\\n442 diabetes patients, as well as the response of interest, a\\nquantitative measure of disease progression one year after baseline.\\n\\n**Data Set Characteristics:**\\n\\n  :Number of Instances: 442\\n\\n  :Number of Attributes: First 10 columns are numeric predictive values\\n\\n  :Target: Column 11 is a quantitative measure of disease progression one year after baseline\\n\\n  :Attribute Information:\\n      - age     age in years\\n      - sex\\n      - bmi     body mass index\\n      - bp      average blood pressure\\n      - s1      tc, total serum cholesterol\\n      - s2      ldl, low-density lipoproteins\\n      - s3      hdl, high-density lipoproteins\\n      - s4      tch, total cholesterol / HDL\\n      - s5      ltg, possibly log of serum triglycerides level\\n      - s6      glu, blood sugar level\\n\\nNote: Each of these 10 feature variables have been mean centered and scaled by the standard deviation times the square root of `n_samples` (i.e. the sum of squares of each column totals 1).\\n\\nSource URL:\\nhttps://www4.stat.ncsu.edu/~boos/var.select/diabetes.html\\n\\nFor more information see:\\nBradley Efron, Trevor Hastie, Iain Johnstone and Robert Tibshirani (2004) \"Least Angle Regression,\" Annals of Statistics (with discussion), 407-499.\\n(https://web.stanford.edu/~hastie/Papers/LARS/LeastAngle_2002.pdf)\\n', 'feature_names': ['age', 'sex', 'bmi', 'bp', 's1', 's2', 's3', 's4', 's5', 's6'], 'data_filename': 'diabetes_data_raw.csv.gz', 'target_filename': 'diabetes_target.csv.gz', 'data_module': 'sklearn.datasets.data'}\n"
     ]
    }
   ],
   "source": [
    "Data = datasets.load_diabetes()\n",
    "print(Data)"
   ]
  },
  {
   "cell_type": "markdown",
   "id": "9e7fba2c-6ecf-417f-bdd0-249d4f224cb1",
   "metadata": {},
   "source": [
    "可以发现，这个数据集是字典形式的，它的三个key分别为data,feature_names和target。我们先对这个字典进行拆分并合成一个dataframe。"
   ]
  },
  {
   "cell_type": "code",
   "execution_count": 102,
   "id": "79915749-fb8b-4d43-a426-e43c6bb0e57e",
   "metadata": {},
   "outputs": [
    {
     "data": {
      "text/html": [
       "<div>\n",
       "<style scoped>\n",
       "    .dataframe tbody tr th:only-of-type {\n",
       "        vertical-align: middle;\n",
       "    }\n",
       "\n",
       "    .dataframe tbody tr th {\n",
       "        vertical-align: top;\n",
       "    }\n",
       "\n",
       "    .dataframe thead th {\n",
       "        text-align: right;\n",
       "    }\n",
       "</style>\n",
       "<table border=\"1\" class=\"dataframe\">\n",
       "  <thead>\n",
       "    <tr style=\"text-align: right;\">\n",
       "      <th></th>\n",
       "      <th>age</th>\n",
       "      <th>sex</th>\n",
       "      <th>bmi</th>\n",
       "      <th>bp</th>\n",
       "      <th>s1</th>\n",
       "      <th>s2</th>\n",
       "      <th>s3</th>\n",
       "      <th>s4</th>\n",
       "      <th>s5</th>\n",
       "      <th>s6</th>\n",
       "      <th>trend</th>\n",
       "    </tr>\n",
       "  </thead>\n",
       "  <tbody>\n",
       "    <tr>\n",
       "      <th>0</th>\n",
       "      <td>0.038076</td>\n",
       "      <td>0.050680</td>\n",
       "      <td>0.061696</td>\n",
       "      <td>0.021872</td>\n",
       "      <td>-0.044223</td>\n",
       "      <td>-0.034821</td>\n",
       "      <td>-0.043401</td>\n",
       "      <td>-0.002592</td>\n",
       "      <td>0.019907</td>\n",
       "      <td>-0.017646</td>\n",
       "      <td>151.0</td>\n",
       "    </tr>\n",
       "    <tr>\n",
       "      <th>1</th>\n",
       "      <td>-0.001882</td>\n",
       "      <td>-0.044642</td>\n",
       "      <td>-0.051474</td>\n",
       "      <td>-0.026328</td>\n",
       "      <td>-0.008449</td>\n",
       "      <td>-0.019163</td>\n",
       "      <td>0.074412</td>\n",
       "      <td>-0.039493</td>\n",
       "      <td>-0.068332</td>\n",
       "      <td>-0.092204</td>\n",
       "      <td>75.0</td>\n",
       "    </tr>\n",
       "    <tr>\n",
       "      <th>2</th>\n",
       "      <td>0.085299</td>\n",
       "      <td>0.050680</td>\n",
       "      <td>0.044451</td>\n",
       "      <td>-0.005670</td>\n",
       "      <td>-0.045599</td>\n",
       "      <td>-0.034194</td>\n",
       "      <td>-0.032356</td>\n",
       "      <td>-0.002592</td>\n",
       "      <td>0.002861</td>\n",
       "      <td>-0.025930</td>\n",
       "      <td>141.0</td>\n",
       "    </tr>\n",
       "    <tr>\n",
       "      <th>3</th>\n",
       "      <td>-0.089063</td>\n",
       "      <td>-0.044642</td>\n",
       "      <td>-0.011595</td>\n",
       "      <td>-0.036656</td>\n",
       "      <td>0.012191</td>\n",
       "      <td>0.024991</td>\n",
       "      <td>-0.036038</td>\n",
       "      <td>0.034309</td>\n",
       "      <td>0.022688</td>\n",
       "      <td>-0.009362</td>\n",
       "      <td>206.0</td>\n",
       "    </tr>\n",
       "    <tr>\n",
       "      <th>4</th>\n",
       "      <td>0.005383</td>\n",
       "      <td>-0.044642</td>\n",
       "      <td>-0.036385</td>\n",
       "      <td>0.021872</td>\n",
       "      <td>0.003935</td>\n",
       "      <td>0.015596</td>\n",
       "      <td>0.008142</td>\n",
       "      <td>-0.002592</td>\n",
       "      <td>-0.031988</td>\n",
       "      <td>-0.046641</td>\n",
       "      <td>135.0</td>\n",
       "    </tr>\n",
       "  </tbody>\n",
       "</table>\n",
       "</div>"
      ],
      "text/plain": [
       "        age       sex       bmi        bp        s1        s2        s3  \\\n",
       "0  0.038076  0.050680  0.061696  0.021872 -0.044223 -0.034821 -0.043401   \n",
       "1 -0.001882 -0.044642 -0.051474 -0.026328 -0.008449 -0.019163  0.074412   \n",
       "2  0.085299  0.050680  0.044451 -0.005670 -0.045599 -0.034194 -0.032356   \n",
       "3 -0.089063 -0.044642 -0.011595 -0.036656  0.012191  0.024991 -0.036038   \n",
       "4  0.005383 -0.044642 -0.036385  0.021872  0.003935  0.015596  0.008142   \n",
       "\n",
       "         s4        s5        s6  trend  \n",
       "0 -0.002592  0.019907 -0.017646  151.0  \n",
       "1 -0.039493 -0.068332 -0.092204   75.0  \n",
       "2 -0.002592  0.002861 -0.025930  141.0  \n",
       "3  0.034309  0.022688 -0.009362  206.0  \n",
       "4 -0.002592 -0.031988 -0.046641  135.0  "
      ]
     },
     "execution_count": 102,
     "metadata": {},
     "output_type": "execute_result"
    }
   ],
   "source": [
    "data = Data['data']\n",
    "target = Data['target']\n",
    "feature_names = Data['feature_names']\n",
    "d_t = data\n",
    "d_t=np.insert(d_t,10,target,axis = 1)\n",
    "feature_names = np.append(feature_names,'trend')\n",
    "DataFrame = pd.DataFrame(d_t,columns=feature_names)\n",
    "dataframe = pd.DataFrame(d_t,columns=feature_names)\n",
    "DataFrame.head()"
   ]
  },
  {
   "cell_type": "markdown",
   "id": "f1972e92-0da8-4def-8a0f-f7ef3a66d655",
   "metadata": {},
   "source": [
    "这个数据集中自变量是糖尿病人的年龄、性别、血压等十个生理数据，因变量是病人一年后的糖尿病发展情况，样本量为$n=442$，研究的是病人的生理数据与一年后病情发展情况之间的关系。我们需要把这个问题转换成一个二分类问题，所以要把所有的因变量值分为两类。我们先找到因变量的中位数。"
   ]
  },
  {
   "cell_type": "code",
   "execution_count": 9,
   "id": "83a4cd9f-68f4-4a0c-beed-1769d8a8992b",
   "metadata": {},
   "outputs": [
    {
     "name": "stdout",
     "output_type": "stream",
     "text": [
      "140.5\n"
     ]
    }
   ],
   "source": [
    "print(DataFrame['trend'].median())"
   ]
  },
  {
   "cell_type": "markdown",
   "id": "41fb9060-7518-4456-9d6d-b1501122cada",
   "metadata": {},
   "source": [
    "所以，我们把所有$trend<140.5$的患者的$trend$设为$0$，所有$trend>=140.5$的患者的$trend$设为$1$。"
   ]
  },
  {
   "cell_type": "code",
   "execution_count": 10,
   "id": "afe3200a-3ba9-41a8-9d19-1fdadfc0b1ec",
   "metadata": {},
   "outputs": [
    {
     "data": {
      "text/html": [
       "<div>\n",
       "<style scoped>\n",
       "    .dataframe tbody tr th:only-of-type {\n",
       "        vertical-align: middle;\n",
       "    }\n",
       "\n",
       "    .dataframe tbody tr th {\n",
       "        vertical-align: top;\n",
       "    }\n",
       "\n",
       "    .dataframe thead th {\n",
       "        text-align: right;\n",
       "    }\n",
       "</style>\n",
       "<table border=\"1\" class=\"dataframe\">\n",
       "  <thead>\n",
       "    <tr style=\"text-align: right;\">\n",
       "      <th></th>\n",
       "      <th>age</th>\n",
       "      <th>sex</th>\n",
       "      <th>bmi</th>\n",
       "      <th>bp</th>\n",
       "      <th>s1</th>\n",
       "      <th>s2</th>\n",
       "      <th>s3</th>\n",
       "      <th>s4</th>\n",
       "      <th>s5</th>\n",
       "      <th>s6</th>\n",
       "      <th>trend</th>\n",
       "    </tr>\n",
       "  </thead>\n",
       "  <tbody>\n",
       "    <tr>\n",
       "      <th>0</th>\n",
       "      <td>0.038076</td>\n",
       "      <td>0.050680</td>\n",
       "      <td>0.061696</td>\n",
       "      <td>0.021872</td>\n",
       "      <td>-0.044223</td>\n",
       "      <td>-0.034821</td>\n",
       "      <td>-0.043401</td>\n",
       "      <td>-0.002592</td>\n",
       "      <td>0.019907</td>\n",
       "      <td>-0.017646</td>\n",
       "      <td>1.0</td>\n",
       "    </tr>\n",
       "    <tr>\n",
       "      <th>1</th>\n",
       "      <td>-0.001882</td>\n",
       "      <td>-0.044642</td>\n",
       "      <td>-0.051474</td>\n",
       "      <td>-0.026328</td>\n",
       "      <td>-0.008449</td>\n",
       "      <td>-0.019163</td>\n",
       "      <td>0.074412</td>\n",
       "      <td>-0.039493</td>\n",
       "      <td>-0.068332</td>\n",
       "      <td>-0.092204</td>\n",
       "      <td>0.0</td>\n",
       "    </tr>\n",
       "    <tr>\n",
       "      <th>2</th>\n",
       "      <td>0.085299</td>\n",
       "      <td>0.050680</td>\n",
       "      <td>0.044451</td>\n",
       "      <td>-0.005670</td>\n",
       "      <td>-0.045599</td>\n",
       "      <td>-0.034194</td>\n",
       "      <td>-0.032356</td>\n",
       "      <td>-0.002592</td>\n",
       "      <td>0.002861</td>\n",
       "      <td>-0.025930</td>\n",
       "      <td>1.0</td>\n",
       "    </tr>\n",
       "    <tr>\n",
       "      <th>3</th>\n",
       "      <td>-0.089063</td>\n",
       "      <td>-0.044642</td>\n",
       "      <td>-0.011595</td>\n",
       "      <td>-0.036656</td>\n",
       "      <td>0.012191</td>\n",
       "      <td>0.024991</td>\n",
       "      <td>-0.036038</td>\n",
       "      <td>0.034309</td>\n",
       "      <td>0.022688</td>\n",
       "      <td>-0.009362</td>\n",
       "      <td>1.0</td>\n",
       "    </tr>\n",
       "    <tr>\n",
       "      <th>4</th>\n",
       "      <td>0.005383</td>\n",
       "      <td>-0.044642</td>\n",
       "      <td>-0.036385</td>\n",
       "      <td>0.021872</td>\n",
       "      <td>0.003935</td>\n",
       "      <td>0.015596</td>\n",
       "      <td>0.008142</td>\n",
       "      <td>-0.002592</td>\n",
       "      <td>-0.031988</td>\n",
       "      <td>-0.046641</td>\n",
       "      <td>0.0</td>\n",
       "    </tr>\n",
       "  </tbody>\n",
       "</table>\n",
       "</div>"
      ],
      "text/plain": [
       "        age       sex       bmi        bp        s1        s2        s3  \\\n",
       "0  0.038076  0.050680  0.061696  0.021872 -0.044223 -0.034821 -0.043401   \n",
       "1 -0.001882 -0.044642 -0.051474 -0.026328 -0.008449 -0.019163  0.074412   \n",
       "2  0.085299  0.050680  0.044451 -0.005670 -0.045599 -0.034194 -0.032356   \n",
       "3 -0.089063 -0.044642 -0.011595 -0.036656  0.012191  0.024991 -0.036038   \n",
       "4  0.005383 -0.044642 -0.036385  0.021872  0.003935  0.015596  0.008142   \n",
       "\n",
       "         s4        s5        s6  trend  \n",
       "0 -0.002592  0.019907 -0.017646    1.0  \n",
       "1 -0.039493 -0.068332 -0.092204    0.0  \n",
       "2 -0.002592  0.002861 -0.025930    1.0  \n",
       "3  0.034309  0.022688 -0.009362    1.0  \n",
       "4 -0.002592 -0.031988 -0.046641    0.0  "
      ]
     },
     "execution_count": 10,
     "metadata": {},
     "output_type": "execute_result"
    }
   ],
   "source": [
    "for i in range (len(DataFrame)):\n",
    "    if DataFrame['trend'][i]<140.5:\n",
    "        DataFrame['trend'][i]=0\n",
    "    else:\n",
    "        DataFrame['trend'][i]=1\n",
    "DataFrame.head()"
   ]
  },
  {
   "cell_type": "markdown",
   "id": "30d7e148-446c-4c5d-bf63-e79a6959358c",
   "metadata": {},
   "source": [
    "下面，我们就可以用逻辑斯蒂回归模型对经过处理的数据集进行分类和预测了。逻辑斯蒂回归的基本思想就是，假设某个线性函数$wx$能把整个数据集分为两类，并通过极大似然估计法得到$w$的估计值$\\hat{w}$。然后再计算后验概率\n",
    "$$P(Y=1|x)=\\frac{exp(\\hat{w}x)}{1+exp(\\hat{w}x)}$$\n",
    "$$P(Y=0|x)=1-P(Y=1|x)$$\n",
    "即当自变量$x$的值确定后这个自变量属于两个类类的概率。它属于哪一类的概率高，我们就认为它属于哪一类。\n",
    "我们首先按照一定比例，把上述数据集分为训练集和测试集。"
   ]
  },
  {
   "cell_type": "code",
   "execution_count": 89,
   "id": "ce1959f2-b671-4549-99a7-5921bbb24d71",
   "metadata": {},
   "outputs": [],
   "source": [
    "#设置样本量和自变量个数\n",
    "p = 10\n",
    "n = 442\n",
    "#设置训练集和测试集的样本比例以及随机数种子\n",
    "n_train = n*0.75 # 75% instances used for training\n",
    "n_train=int(n_train)\n",
    "n_test = n-n_train\n",
    "seed = 19260817\n",
    "random.seed(seed)\n",
    "index = range(0,n)\n",
    "index_selected = random.sample(index,n_train)\n",
    "index_selected.sort()\n",
    "#划分训练集和测试集\n",
    "Data_train = DataFrame.loc[index_selected]\n",
    "Data_test = DataFrame.drop(index = index_selected)"
   ]
  },
  {
   "cell_type": "markdown",
   "id": "109953ad-6f3a-4e86-9395-5c39eff88a03",
   "metadata": {},
   "source": [
    "训练集为"
   ]
  },
  {
   "cell_type": "code",
   "execution_count": 90,
   "id": "28ecd9e9-d4c6-4891-a511-524efb7bbbdb",
   "metadata": {},
   "outputs": [
    {
     "data": {
      "text/html": [
       "<div>\n",
       "<style scoped>\n",
       "    .dataframe tbody tr th:only-of-type {\n",
       "        vertical-align: middle;\n",
       "    }\n",
       "\n",
       "    .dataframe tbody tr th {\n",
       "        vertical-align: top;\n",
       "    }\n",
       "\n",
       "    .dataframe thead th {\n",
       "        text-align: right;\n",
       "    }\n",
       "</style>\n",
       "<table border=\"1\" class=\"dataframe\">\n",
       "  <thead>\n",
       "    <tr style=\"text-align: right;\">\n",
       "      <th></th>\n",
       "      <th>age</th>\n",
       "      <th>sex</th>\n",
       "      <th>bmi</th>\n",
       "      <th>bp</th>\n",
       "      <th>s1</th>\n",
       "      <th>s2</th>\n",
       "      <th>s3</th>\n",
       "      <th>s4</th>\n",
       "      <th>s5</th>\n",
       "      <th>s6</th>\n",
       "      <th>trend</th>\n",
       "    </tr>\n",
       "  </thead>\n",
       "  <tbody>\n",
       "    <tr>\n",
       "      <th>0</th>\n",
       "      <td>0.038076</td>\n",
       "      <td>0.050680</td>\n",
       "      <td>0.061696</td>\n",
       "      <td>0.021872</td>\n",
       "      <td>-0.044223</td>\n",
       "      <td>-0.034821</td>\n",
       "      <td>-0.043401</td>\n",
       "      <td>-0.002592</td>\n",
       "      <td>0.019907</td>\n",
       "      <td>-0.017646</td>\n",
       "      <td>1.0</td>\n",
       "    </tr>\n",
       "    <tr>\n",
       "      <th>1</th>\n",
       "      <td>-0.001882</td>\n",
       "      <td>-0.044642</td>\n",
       "      <td>-0.051474</td>\n",
       "      <td>-0.026328</td>\n",
       "      <td>-0.008449</td>\n",
       "      <td>-0.019163</td>\n",
       "      <td>0.074412</td>\n",
       "      <td>-0.039493</td>\n",
       "      <td>-0.068332</td>\n",
       "      <td>-0.092204</td>\n",
       "      <td>0.0</td>\n",
       "    </tr>\n",
       "    <tr>\n",
       "      <th>2</th>\n",
       "      <td>0.085299</td>\n",
       "      <td>0.050680</td>\n",
       "      <td>0.044451</td>\n",
       "      <td>-0.005670</td>\n",
       "      <td>-0.045599</td>\n",
       "      <td>-0.034194</td>\n",
       "      <td>-0.032356</td>\n",
       "      <td>-0.002592</td>\n",
       "      <td>0.002861</td>\n",
       "      <td>-0.025930</td>\n",
       "      <td>1.0</td>\n",
       "    </tr>\n",
       "    <tr>\n",
       "      <th>3</th>\n",
       "      <td>-0.089063</td>\n",
       "      <td>-0.044642</td>\n",
       "      <td>-0.011595</td>\n",
       "      <td>-0.036656</td>\n",
       "      <td>0.012191</td>\n",
       "      <td>0.024991</td>\n",
       "      <td>-0.036038</td>\n",
       "      <td>0.034309</td>\n",
       "      <td>0.022688</td>\n",
       "      <td>-0.009362</td>\n",
       "      <td>1.0</td>\n",
       "    </tr>\n",
       "    <tr>\n",
       "      <th>5</th>\n",
       "      <td>-0.092695</td>\n",
       "      <td>-0.044642</td>\n",
       "      <td>-0.040696</td>\n",
       "      <td>-0.019442</td>\n",
       "      <td>-0.068991</td>\n",
       "      <td>-0.079288</td>\n",
       "      <td>0.041277</td>\n",
       "      <td>-0.076395</td>\n",
       "      <td>-0.041176</td>\n",
       "      <td>-0.096346</td>\n",
       "      <td>0.0</td>\n",
       "    </tr>\n",
       "  </tbody>\n",
       "</table>\n",
       "</div>"
      ],
      "text/plain": [
       "        age       sex       bmi        bp        s1        s2        s3  \\\n",
       "0  0.038076  0.050680  0.061696  0.021872 -0.044223 -0.034821 -0.043401   \n",
       "1 -0.001882 -0.044642 -0.051474 -0.026328 -0.008449 -0.019163  0.074412   \n",
       "2  0.085299  0.050680  0.044451 -0.005670 -0.045599 -0.034194 -0.032356   \n",
       "3 -0.089063 -0.044642 -0.011595 -0.036656  0.012191  0.024991 -0.036038   \n",
       "5 -0.092695 -0.044642 -0.040696 -0.019442 -0.068991 -0.079288  0.041277   \n",
       "\n",
       "         s4        s5        s6  trend  \n",
       "0 -0.002592  0.019907 -0.017646    1.0  \n",
       "1 -0.039493 -0.068332 -0.092204    0.0  \n",
       "2 -0.002592  0.002861 -0.025930    1.0  \n",
       "3  0.034309  0.022688 -0.009362    1.0  \n",
       "5 -0.076395 -0.041176 -0.096346    0.0  "
      ]
     },
     "execution_count": 90,
     "metadata": {},
     "output_type": "execute_result"
    }
   ],
   "source": [
    "Data_train.head()"
   ]
  },
  {
   "cell_type": "markdown",
   "id": "3ad17267-92f1-4506-a0e9-536227f76ff7",
   "metadata": {},
   "source": [
    "测试集为"
   ]
  },
  {
   "cell_type": "code",
   "execution_count": 91,
   "id": "82259cb9-b292-476b-9855-e942f1debb04",
   "metadata": {},
   "outputs": [
    {
     "data": {
      "text/html": [
       "<div>\n",
       "<style scoped>\n",
       "    .dataframe tbody tr th:only-of-type {\n",
       "        vertical-align: middle;\n",
       "    }\n",
       "\n",
       "    .dataframe tbody tr th {\n",
       "        vertical-align: top;\n",
       "    }\n",
       "\n",
       "    .dataframe thead th {\n",
       "        text-align: right;\n",
       "    }\n",
       "</style>\n",
       "<table border=\"1\" class=\"dataframe\">\n",
       "  <thead>\n",
       "    <tr style=\"text-align: right;\">\n",
       "      <th></th>\n",
       "      <th>age</th>\n",
       "      <th>sex</th>\n",
       "      <th>bmi</th>\n",
       "      <th>bp</th>\n",
       "      <th>s1</th>\n",
       "      <th>s2</th>\n",
       "      <th>s3</th>\n",
       "      <th>s4</th>\n",
       "      <th>s5</th>\n",
       "      <th>s6</th>\n",
       "      <th>trend</th>\n",
       "    </tr>\n",
       "  </thead>\n",
       "  <tbody>\n",
       "    <tr>\n",
       "      <th>4</th>\n",
       "      <td>0.005383</td>\n",
       "      <td>-0.044642</td>\n",
       "      <td>-0.036385</td>\n",
       "      <td>0.021872</td>\n",
       "      <td>0.003935</td>\n",
       "      <td>0.015596</td>\n",
       "      <td>0.008142</td>\n",
       "      <td>-0.002592</td>\n",
       "      <td>-0.031988</td>\n",
       "      <td>-0.046641</td>\n",
       "      <td>0.0</td>\n",
       "    </tr>\n",
       "    <tr>\n",
       "      <th>6</th>\n",
       "      <td>-0.045472</td>\n",
       "      <td>0.050680</td>\n",
       "      <td>-0.047163</td>\n",
       "      <td>-0.015999</td>\n",
       "      <td>-0.040096</td>\n",
       "      <td>-0.024800</td>\n",
       "      <td>0.000779</td>\n",
       "      <td>-0.039493</td>\n",
       "      <td>-0.062917</td>\n",
       "      <td>-0.038357</td>\n",
       "      <td>0.0</td>\n",
       "    </tr>\n",
       "    <tr>\n",
       "      <th>8</th>\n",
       "      <td>0.041708</td>\n",
       "      <td>0.050680</td>\n",
       "      <td>0.061696</td>\n",
       "      <td>-0.040099</td>\n",
       "      <td>-0.013953</td>\n",
       "      <td>0.006202</td>\n",
       "      <td>-0.028674</td>\n",
       "      <td>-0.002592</td>\n",
       "      <td>-0.014960</td>\n",
       "      <td>0.011349</td>\n",
       "      <td>0.0</td>\n",
       "    </tr>\n",
       "    <tr>\n",
       "      <th>15</th>\n",
       "      <td>-0.052738</td>\n",
       "      <td>0.050680</td>\n",
       "      <td>-0.018062</td>\n",
       "      <td>0.080401</td>\n",
       "      <td>0.089244</td>\n",
       "      <td>0.107662</td>\n",
       "      <td>-0.039719</td>\n",
       "      <td>0.108111</td>\n",
       "      <td>0.036060</td>\n",
       "      <td>-0.042499</td>\n",
       "      <td>1.0</td>\n",
       "    </tr>\n",
       "    <tr>\n",
       "      <th>17</th>\n",
       "      <td>0.070769</td>\n",
       "      <td>0.050680</td>\n",
       "      <td>0.012117</td>\n",
       "      <td>0.056301</td>\n",
       "      <td>0.034206</td>\n",
       "      <td>0.049416</td>\n",
       "      <td>-0.039719</td>\n",
       "      <td>0.034309</td>\n",
       "      <td>0.027364</td>\n",
       "      <td>-0.001078</td>\n",
       "      <td>1.0</td>\n",
       "    </tr>\n",
       "  </tbody>\n",
       "</table>\n",
       "</div>"
      ],
      "text/plain": [
       "         age       sex       bmi        bp        s1        s2        s3  \\\n",
       "4   0.005383 -0.044642 -0.036385  0.021872  0.003935  0.015596  0.008142   \n",
       "6  -0.045472  0.050680 -0.047163 -0.015999 -0.040096 -0.024800  0.000779   \n",
       "8   0.041708  0.050680  0.061696 -0.040099 -0.013953  0.006202 -0.028674   \n",
       "15 -0.052738  0.050680 -0.018062  0.080401  0.089244  0.107662 -0.039719   \n",
       "17  0.070769  0.050680  0.012117  0.056301  0.034206  0.049416 -0.039719   \n",
       "\n",
       "          s4        s5        s6  trend  \n",
       "4  -0.002592 -0.031988 -0.046641    0.0  \n",
       "6  -0.039493 -0.062917 -0.038357    0.0  \n",
       "8  -0.002592 -0.014960  0.011349    0.0  \n",
       "15  0.108111  0.036060 -0.042499    1.0  \n",
       "17  0.034309  0.027364 -0.001078    1.0  "
      ]
     },
     "execution_count": 91,
     "metadata": {},
     "output_type": "execute_result"
    }
   ],
   "source": [
    "Data_test.head()"
   ]
  },
  {
   "cell_type": "markdown",
   "id": "13e036d9-72fa-4375-971e-10ab1bab9b66",
   "metadata": {},
   "source": [
    "将响应变量和自变量分离："
   ]
  },
  {
   "cell_type": "code",
   "execution_count": 92,
   "id": "472b377f-cd86-4837-b90b-b6c5e7b55ebf",
   "metadata": {},
   "outputs": [],
   "source": [
    "X_train = Data_train.drop(columns = ['trend'],axis = 1)\n",
    "Y_train = Data_train.trend\n",
    "X_test = Data_test.drop(columns = [\"trend\"],axis=1)\n",
    "Y_test = Data_test.trend"
   ]
  },
  {
   "cell_type": "markdown",
   "id": "941721ae-cdd7-42c1-bbf5-41f6a29f2021",
   "metadata": {},
   "source": [
    "建立逻辑斯蒂回归模型并在测试集上预测："
   ]
  },
  {
   "cell_type": "code",
   "execution_count": 93,
   "id": "fd5d5815-2a7a-47dc-9145-5d5fa63bf991",
   "metadata": {},
   "outputs": [],
   "source": [
    "logreg = LogisticRegression()\n",
    "logreg.fit(X_train, Y_train.values.reshape(-1))\n",
    "Y_pred = logreg.predict(X_test)"
   ]
  },
  {
   "cell_type": "markdown",
   "id": "7b0b2469-cfcd-4519-945b-f898dde0b259",
   "metadata": {},
   "source": [
    "计算逻辑斯蒂回归模型在测试集上的准确率："
   ]
  },
  {
   "cell_type": "code",
   "execution_count": 94,
   "id": "d216a4a5-520f-4900-9d88-5bf23a000a57",
   "metadata": {},
   "outputs": [
    {
     "name": "stdout",
     "output_type": "stream",
     "text": [
      "The accuracy rate is: 0.712\n"
     ]
    }
   ],
   "source": [
    "print(\"The accuracy rate is: %2.3f\" % accuracy_score(Y_test, Y_pred))"
   ]
  },
  {
   "cell_type": "markdown",
   "id": "345747d0-d0db-4ebe-8a6a-a817dfe307d0",
   "metadata": {},
   "source": [
    "我们发现这个逻辑斯蒂回归模型的准确率为$0.712$。那么，为什么有些数据的预测出现错误了呢？我们试着改变训练集和测试集的比重，看看准确率会怎么样。"
   ]
  },
  {
   "cell_type": "code",
   "execution_count": 100,
   "id": "b47faa4e-4912-4123-a464-9247f33eb413",
   "metadata": {},
   "outputs": [
    {
     "name": "stdout",
     "output_type": "stream",
     "text": [
      "The accuracy rate is: 0.697\n"
     ]
    }
   ],
   "source": [
    "#0.8\n",
    "n_train_1 = n*0.8 # 80% instances used for training\n",
    "n_train_1=int(n_train_1)\n",
    "n_test_1 = n-n_train_1\n",
    "random.seed(seed)\n",
    "index_1 = range(0,n)\n",
    "index_selected_1 = random.sample(index_1,n_train_1)\n",
    "index_selected_1.sort()\n",
    "Data_train_1 = DataFrame.loc[index_selected_1]\n",
    "Data_test_1 = DataFrame.drop(index = index_selected_1)\n",
    "X_train_1 = Data_train_1.drop(columns = ['trend'],axis = 1)\n",
    "Y_train_1 = Data_train_1.trend\n",
    "X_test_1 = Data_test_1.drop(columns = [\"trend\"],axis=1)\n",
    "Y_test_1 = Data_test_1.trend\n",
    "logreg_1 = LogisticRegression()\n",
    "logreg_1.fit(X_train_1, Y_train_1.values.reshape(-1))\n",
    "Y_pred_1 = logreg.predict(X_test_1)\n",
    "print(\"The accuracy rate is: %2.3f\" % accuracy_score(Y_test_1, Y_pred_1))"
   ]
  },
  {
   "cell_type": "code",
   "execution_count": 101,
   "id": "e33e17f2-fd3e-4173-a535-9fd6ec8c5fc6",
   "metadata": {},
   "outputs": [
    {
     "name": "stdout",
     "output_type": "stream",
     "text": [
      "The accuracy rate is: 0.652\n"
     ]
    }
   ],
   "source": [
    "#0.95\n",
    "n_train_2 = n*0.95 # 95% instances used for training\n",
    "n_train_2=int(n_train_2)\n",
    "n_test_2 = n-n_train_2\n",
    "random.seed(seed)\n",
    "index_2 = range(0,n)\n",
    "index_selected_2 = random.sample(index_2,n_train_2)\n",
    "index_selected_2.sort()\n",
    "Data_train_2 = DataFrame.loc[index_selected_2]\n",
    "Data_test_2 = DataFrame.drop(index = index_selected_2)\n",
    "X_train_2 = Data_train_2.drop(columns = ['trend'],axis = 1)\n",
    "Y_train_2 = Data_train_2.trend\n",
    "X_test_2 = Data_test_2.drop(columns = [\"trend\"],axis=1)\n",
    "Y_test_2 = Data_test_2.trend\n",
    "logreg_2 = LogisticRegression()\n",
    "logreg_2.fit(X_train_2, Y_train_2.values.reshape(-1))\n",
    "Y_pred_2 = logreg.predict(X_test_2)\n",
    "print(\"The accuracy rate is: %2.3f\" % accuracy_score(Y_test_2, Y_pred_2))"
   ]
  },
  {
   "cell_type": "markdown",
   "id": "74e5adec-5a8a-49f4-a289-148fc461c68e",
   "metadata": {},
   "source": [
    "可以发现，当我们把训练集的占比调高，预测的准确率更低了。这有可能是因为训练集数据太多导致了过拟合或者数据集本身存在多重共线性，使得估计值$\\hat{w}$变低。再者，逻辑斯蒂回归是根据自变量数据哪一类的概率大来对其进行分类的，自变量属于另一个类的概率不为$0$，所以这种方法本身就很难达到百分之百的正确率。此外，如果我们按照因变量中位数把原数据集分为两类，那一些因变量在中位数附近的点也可能被误分类。我们来看一看被误分类的点的因变量值都是多少。"
   ]
  },
  {
   "cell_type": "code",
   "execution_count": 109,
   "id": "0eec0f72-f6a8-4576-9c27-196c84b86dcf",
   "metadata": {},
   "outputs": [
    {
     "data": {
      "image/png": "[encoded data removed]",
      "text/plain": [
       "<Figure size 432x288 with 1 Axes>"
      ]
     },
     "metadata": {
      "needs_background": "light"
     },
     "output_type": "display_data"
    }
   ],
   "source": [
    "counter = 0\n",
    "xs = []\n",
    "indexlist = Y_test.index.tolist()\n",
    "for i in indexlist:\n",
    "    if Y_test[i]!=Y_pred[counter]:\n",
    "        xs.append(dataframe['trend'][i])\n",
    "    counter+=1\n",
    "plt.hist(xs)\n",
    "plt.show()"
   ]
  },
  {
   "cell_type": "markdown",
   "id": "ea09a72d-4047-402b-b15d-c3b11efc40db",
   "metadata": {},
   "source": [
    "从上图我们可以看出，大部分被误分类的点都出现在因变量中位数$140.5$的周围。"
   ]
  }
 ],
 "metadata": {
  "kernelspec": {
   "display_name": "Python 3 (ipykernel)",
   "language": "python",
   "name": "python3"
  },
  "language_info": {
   "codemirror_mode": {
    "name": "ipython",
    "version": 3
   },
   "file_extension": ".py",
   "mimetype": "text/x-python",
   "name": "python",
   "nbconvert_exporter": "python",
   "pygments_lexer": "ipython3",
   "version": "3.9.12"
  }
 },
 "nbformat": 4,
 "nbformat_minor": 5
}
