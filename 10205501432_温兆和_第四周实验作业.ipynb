{
 "cells": [
  {
   "cell_type": "markdown",
   "id": "b72bbec5-8bba-47e9-a955-7420a394f4ee",
   "metadata": {},
   "source": [
    "# 统计方法与机器学习-实验报告4\n",
    "\n",
    "温兆和 10205501432\n",
    "\n",
    "## 背景描述\n",
    "\n",
    "汽车发动机在测功机上产生的制动马力被认为是发动机转速(每分钟转数，$rpm$)、燃料的道路辛烷值和发动机压缩值的函数，我们在实验室里进行实验，研究它们的函数关系。\n",
    "\n",
    "## 数据描述\n",
    "\n",
    "|变量名|变量含义|变量类型|变量取值范围|\n",
    "|------|-------|-------|-----------|\n",
    "|rpm|发动机转速|连续变量|$R^{+}$|\n",
    "|Road_Octane_Number|道路辛烷值|连续变量|$R^{+}$|\n",
    "|Compression|压缩值|连续变量|$R^{+}$|\n",
    "|Brake_Horsepower|制动马力|连续变量|$R^{+}$|\n",
    "\n",
    "显著性水平$α$取$0.05$。\n",
    "\n",
    "## 实验过程\n",
    "- 请用多元线性回归模型，描述制动马力和发动机转速、道路辛烷值以及压缩值之间的函数关系。\n",
    "\n",
    "首先，我们引入本次实验需要用到的Python库，并打开、处理数据集："
   ]
  },
  {
   "cell_type": "code",
   "execution_count": 1,
   "id": "e7a92a35-d0bd-4f68-a050-8a40e05cd888",
   "metadata": {},
   "outputs": [
    {
     "name": "stdout",
     "output_type": "stream",
     "text": [
      "    rpm  Road_Octane_Number  Compression  Brake_Horsepower\n",
      "0  2000                  90          100               225\n",
      "1  1800                  94           95               212\n",
      "2  2400                  88          110               229\n",
      "3  1900                  91           96               222\n",
      "4  1600                  86          100               219\n"
     ]
    }
   ],
   "source": [
    "import os # 修改工作目录\n",
    "\n",
    "import numpy as np\n",
    "import pandas as pd\n",
    "import scipy.stats as stats\n",
    "import matplotlib.pyplot as plt\n",
    "from sklearn.linear_model import LinearRegression\n",
    "from jupyterquiz import display_quiz\n",
    "\n",
    "import statsmodels.api as sm\n",
    "from statsmodels.formula.api import ols\n",
    "from statsmodels.stats.anova import anova_lm\n",
    "from scipy.stats import f\n",
    "from scipy.stats import t\n",
    "\n",
    "from sklearn import datasets, linear_model\n",
    "from sklearn.metrics import mean_squared_error, r2_score\n",
    "from sklearn import preprocessing\n",
    "from statsmodels.stats.stattools import durbin_watson\n",
    "\n",
    "Data = pd.read_csv(\"./Project_3.csv\")\n",
    "print(Data.head())"
   ]
  },
  {
   "cell_type": "markdown",
   "id": "f32e3117-7c2c-4927-acb3-4eeea5207255",
   "metadata": {},
   "source": [
    "计算出本次实验的样本量、自变量数，并设置好显著性水平等参数："
   ]
  },
  {
   "cell_type": "code",
   "execution_count": 2,
   "id": "854adca0-2f27-446c-b7f0-3cb82370077f",
   "metadata": {},
   "outputs": [
    {
     "name": "stdout",
     "output_type": "stream",
     "text": [
      "The number of instances is  12\n",
      "The number of features is  3\n"
     ]
    }
   ],
   "source": [
    "alpha = 0.05\n",
    "n = Data.shape[0]\n",
    "p = Data.shape[1] - 1\n",
    "print(\"The number of instances is \", n)\n",
    "print(\"The number of features is \", p)"
   ]
  },
  {
   "cell_type": "markdown",
   "id": "b185e726-6f1d-42ab-9e96-0944616ca89a",
   "metadata": {},
   "source": [
    "在多元线性回归模型中$$y=\\beta_{0}+\\beta_{1}x_{1}+...+\\beta_{p}x_{p}+\\epsilon, 本实验中p=3$$\n",
    "假设$$E(\\epsilon)=0,Var(\\epsilon)=\\sigma^2<\\infty$$\n",
    "其中$y$为因变量，对应本实验中的制动马力；诸$x_{i}$为自变量，分别对应本实验中的发动机转速、燃料的道路辛烷值和发动机压缩值。当我们收集到$n$组样本时，第$i$组数据的数值模型可写为$$y_{i}=\\beta_{0}+\\beta_{1}x_{i1}+...+\\beta_{p}x_{ip}+\\epsilon_{i}, 本实验中p=3$$\n",
    "把这个模型写成矩阵的形式，得\n",
    "$$\\mathbf{y} = \\mathbf{X}\\mathbf{\\beta} + \\mathbf{\\epsilon}$$其中，因变量\n",
    "$$\\mathbf{y} = \\begin{pmatrix}y_1\\\\y_2\\\\\\vdots\\\\ y_n\\end{pmatrix},本实验中n=12$$\n",
    "自变量$$\\mathbf{X} = \\begin{pmatrix}\n",
    "1 & x_{11} & x_{12} & x_{13}\\\\\n",
    "1 & x_{21} & x_{22} & x_{23}\\\\\n",
    "\\vdots & \\vdots & \\vdots & \\vdots\\\\\n",
    "1 & x_{n1} & x_{n2} & x_{n3}\\\\\n",
    "\\end{pmatrix},本实验中n=12$$\n",
    "待估参数$$\\mathbf{\\beta} = \\begin{pmatrix}\n",
    "\\beta_0 \\\\ \\beta_1 \\\\ \\beta_2 \\\\ \\beta_3\n",
    "\\end{pmatrix}$$\n",
    "误差$$\\mathbf{\\epsilon} = \\begin{pmatrix}\\epsilon_1\\\\\\epsilon_2\\\\\\vdots\\\\ \\epsilon_n\\end{pmatrix},本实验中n=12$$\n",
    "而待估参数$\\mathbf{\\beta}$的估计值与数据之间的关系为$$\\hat{\\mathbf{\\beta}} = (\\mathbf{X}'\\mathbf{X})^{-1} \\mathbf{X}'\\mathbf{y}$$\n",
    "由此，我们就可以得到制动马力和发动机转速、道路辛烷值以及压缩值之间的函数关系。我们只用Matrix Calculus方法。"
   ]
  },
  {
   "cell_type": "code",
   "execution_count": 4,
   "id": "0868789b-77f5-4878-87e4-1a37285800e5",
   "metadata": {},
   "outputs": [
    {
     "name": "stdout",
     "output_type": "stream",
     "text": [
      "[[1.00e+00 2.00e+03 9.00e+01 1.00e+02 2.25e+02]\n",
      " [1.00e+00 1.80e+03 9.40e+01 9.50e+01 2.12e+02]\n",
      " [1.00e+00 2.40e+03 8.80e+01 1.10e+02 2.29e+02]\n",
      " [1.00e+00 1.90e+03 9.10e+01 9.60e+01 2.22e+02]\n",
      " [1.00e+00 1.60e+03 8.60e+01 1.00e+02 2.19e+02]\n",
      " [1.00e+00 2.50e+03 9.60e+01 1.10e+02 2.78e+02]\n",
      " [1.00e+00 3.00e+03 9.40e+01 9.80e+01 2.46e+02]\n",
      " [1.00e+00 3.20e+03 9.00e+01 1.00e+02 2.37e+02]\n",
      " [1.00e+00 2.80e+03 8.80e+01 1.05e+02 2.33e+02]\n",
      " [1.00e+00 3.40e+03 8.60e+01 9.70e+01 2.24e+02]\n",
      " [1.00e+00 1.80e+03 9.00e+01 1.00e+02 2.23e+02]\n",
      " [1.00e+00 2.50e+03 8.90e+01 1.04e+02 2.30e+02]]\n",
      "The estimates of the parameters are \n",
      " [-2.660312e+02  1.070000e-02  3.134800e+00  1.867400e+00]\n"
     ]
    }
   ],
   "source": [
    "Data1 = sm.add_constant(Data)\n",
    "Data1_value = Data1.values\n",
    "X = Data1_value[:,0:(p+1)]\n",
    "y = Data1_value[:,-1]\n",
    "beta_hat_1 = np.linalg.inv(X.T @ X) @ (X.T @ y)\n",
    "# A @ B <=> np.dot(A,B) matrix multiply\n",
    "\n",
    "print(\"The estimates of the parameters are \\n\", \n",
    "      np.around(beta_hat_1,4))"
   ]
  },
  {
   "cell_type": "markdown",
   "id": "2e47fde8-9595-4b71-8aaf-6d3316b772bb",
   "metadata": {},
   "source": [
    "于是，我们就可以通过数据集中的数据估计出制动马力和发动机转速、道路辛烷值以及压缩值之间的函数关系大致为$$y=-266.0312+0.0107x_{1}+3.1348x_{2}+1.8674x_{3}$$\n",
    "我们再用scikit-learn方法来验算一下："
   ]
  },
  {
   "cell_type": "code",
   "execution_count": 28,
   "id": "0ea45d4e-dcef-46e8-9a44-0f76c2632e85",
   "metadata": {},
   "outputs": [
    {
     "name": "stdout",
     "output_type": "stream",
     "text": [
      "The estimates of the parameters are \n",
      " [-2.660312e+02  1.070000e-02  3.134800e+00  1.867400e+00]\n"
     ]
    }
   ],
   "source": [
    "model2 = linear_model.LinearRegression()\n",
    "X_without_intercept = X[:,1:4]\n",
    "model2.fit(X_without_intercept, y)\n",
    "beta_hat_3 = np.append(np.array(model2.intercept_),model2.coef_)\n",
    "print(\"The estimates of the parameters are \\n\", \n",
    "      np.around(beta_hat_3,4))"
   ]
  },
  {
   "cell_type": "markdown",
   "id": "48cd3cb8-67c6-4f7a-9ec6-4985530d92be",
   "metadata": {},
   "source": [
    "和前一种方法得到的结果是一样的。\n",
    "- 分别将数据中心化、标准化之后，比较参数估计的异同，并进行评述（提示：可以结合理论课的课件）。\n",
    "\n",
    "数据的中心化是指将矩阵$\\mathbf{X}$中的每一个$x_{ij}$和向量$\\mathbf{y}$中的每一个$y_{i}$都对该列的平均值作差，即\n",
    "$$x_{ij}^*=x_{ij}-\\frac{1}{n}\\sum_{i=1}^{n} x_{ij}$$\n",
    "$$y_{i}^*=y_{i}-\\frac{1}{n}\\sum_{i=1}^{n} y_{i}$$\n",
    "我们先对这个数据集中的数据进行中心化："
   ]
  },
  {
   "cell_type": "code",
   "execution_count": 29,
   "id": "d51b2af8-0f10-4a4f-8946-fe48662cb0c3",
   "metadata": {},
   "outputs": [
    {
     "name": "stdout",
     "output_type": "stream",
     "text": [
      "The sample means of centered features are  [-0. -0.  0.]\n",
      "The sample mean of centered response is  0.0\n"
     ]
    }
   ],
   "source": [
    "## 中心化\n",
    "X_center = preprocessing.scale(X_without_intercept, with_mean = True, with_std=False)\n",
    "y_center = preprocessing.scale(y, with_mean = True, with_std=False)\n",
    "# with_mean = True (default), with_std = True (default)\n",
    "\n",
    "# print(X_center) \n",
    "\n",
    "print(\"The sample means of centered features are \", np.around(np.mean(X_center,axis=0),4))\n",
    "print(\"The sample mean of centered response is \", np.around(np.mean(y_center,axis=0),4))"
   ]
  },
  {
   "cell_type": "markdown",
   "id": "8d7233da-044d-4400-9e0e-b3302e268d5d",
   "metadata": {},
   "source": [
    "可见，中心化后$\\mathbf{X}$、$\\mathbf{y}$各列均值$\\frac{1}{n}\\sum_{i=1}^n x_{ij}^*$、$\\frac{1}{n}\\sum_{i=1}^n y_{i}^*$均为$0$，因为$$\\sum_{i=1}^n x_{ij}^*=0$$\n",
    "$$\\sum_{i=1}^n y_{i}^*=0$$\n",
    "这从$x_{ij}^*$、$y_{i}^*$的定义很容易看出来。\n",
    "下面，我们再来计算出中心化后$\\mathbf{\\beta}$的估计值："
   ]
  },
  {
   "cell_type": "code",
   "execution_count": 30,
   "id": "bbbcd8f8-0d1b-4a47-9f75-f488e5737674",
   "metadata": {},
   "outputs": [
    {
     "name": "stdout",
     "output_type": "stream",
     "text": [
      "The estimates of the parameters are \n",
      " [0.     0.0107 3.1348 1.8674]\n"
     ]
    }
   ],
   "source": [
    "model3 = linear_model.LinearRegression()\n",
    "model3.fit(X_center, y_center)\n",
    "beta_hat_4 = np.append(np.array(model3.intercept_),model3.coef_)\n",
    "print(\"The estimates of the parameters are \\n\", \n",
    "      np.around(beta_hat_4,4))"
   ]
  },
  {
   "cell_type": "markdown",
   "id": "c48c13d6-64b1-4009-b65a-535ce691cab8",
   "metadata": {},
   "source": [
    "可见，当数据被中心化之后，截距项$\\beta_{0}$的估计值变为$0$，而斜率项$(\\beta_{1},\\beta_{2},\\beta_{3})^T$的估计值和中心化之前相比没有变化。也就是说，中心化单纯只是消除了截距对响应变量带来的影响。\n",
    "\n",
    "下面我们再来计算标准化数据集后$\\mathbf{\\beta}$的估计值。标准化是指，对每一个$x_{ij}$都作这样的处理：\n",
    "$$x_{ij}^{**}=\\frac{x_{ij}^*}{\\sqrt{\\sum_{i=1}^n (x_{ij}-\\bar{x_{j}})^2}}$$\n",
    "对每一个$y_{i}$都有\n",
    "$$y_{i}^{**}=\\frac{y_{i}^*}{\\sqrt{\\sum_{i=1}^n (y_{i}-\\bar{y})^2}}$$"
   ]
  },
  {
   "cell_type": "code",
   "execution_count": 31,
   "id": "1194163d-8292-4057-87ec-caab159b915e",
   "metadata": {},
   "outputs": [
    {
     "name": "stdout",
     "output_type": "stream",
     "text": [
      "The estimates of the parameters are \n",
      " [0.     0.3757 0.5793 0.5477]\n"
     ]
    }
   ],
   "source": [
    "X_center_scaled = preprocessing.scale(X_without_intercept, with_mean = True, with_std=True)\n",
    "y_center_scaled = preprocessing.scale(y, with_mean = True, with_std=True)\n",
    "model1 = linear_model.LinearRegression()\n",
    "model1.fit(X_center_scaled, y_center_scaled)\n",
    "beta_hat_2 = np.append(np.array(model1.intercept_),model1.coef_)\n",
    "print(\"The estimates of the parameters are \\n\", \n",
    "      np.around(beta_hat_2,4))"
   ]
  },
  {
   "cell_type": "markdown",
   "id": "f67409fc-a44f-441b-984d-0ce4885f154f",
   "metadata": {},
   "source": [
    "我们可以发现，截距项$\\beta_{0}$的估计值仍然是$0$，而在三个斜率项中，$\\beta_{1}$的估计值相比原来变小了，而$\\beta_{2}、\\beta_{3}$的估计值相比原来变大了。但是在标准化之前，三个斜率项中$\\beta_{2}$的估计值最大，$\\beta_{3}$次之，$\\beta_{1}$的估计值最小。在标准化之后三个斜率项之间的相对大小关系亦是如此。可见，标准化只是消除了变量的量纲对响应变量产生的影响，并不会影响到自变量本身对响应变量影响程度的大小。"
   ]
  },
  {
   "cell_type": "markdown",
   "id": "8c7b35db-5b37-4af9-8e3d-6188f411bc5a",
   "metadata": {},
   "source": [
    "- 从模型显著性、参数显著性以及残差分析三个角度，分析多元线性回归模型是否合理。\n",
    "\n",
    "我们先来检验一下模型显著性和参数显著性。\n",
    "\n",
    "模型的显著性是指，在$\\beta_{0}、\\beta_{1}、\\beta_{2}、\\beta_{3}$中是否存在至少一个不为零的数。如果它们都为零，则说明通过发动机转速、燃料的道路辛烷值和发动机压缩值来刻画、预测制动马力是不合适的。检验模型的显著性通常使用$F$检验。我们构造检验统计量\n",
    "$$F_{0}=\\frac{SS_R/p}{SS_E/(n-p-1)}$$\n",
    "其中\n",
    "$$SS_R=\\sum_{i=1}^n (\\hat{y_{i}}-\\bar{y})^2$$\n",
    "$$SS_E=\\sum_{i=1}^n (y_{i}-\\hat{y_{i}})^2$$\n",
    "来检验\n",
    "$$H_0: \\beta_{1}=\\beta_{2}=\\beta_{3}=0 v.s. H_1: \\exists i\\in\\{1,2,3\\} s.t. \\beta_{i}\\neq0$$\n",
    "由于当$H_0$成立时\n",
    "$$F_0\\sim F(p,n-p-1)$$\n",
    "故在显著性水平$\\alpha$下，拒绝域为\n",
    "$$W=\\{F_0>F_{1-\\alpha}(p,n-p-1)\\}$$\n",
    "$p$值为\n",
    "$$p=P(F\\geqslant F_0)$$\n",
    "但模型显著性检验只是检验了三个自变量中至少有一个对响应变量有影响。如果要找出三个自变量中对响应变量没有影响的并剔除之，我们还需要对参数显著性进行检验。检验参数显著性一般用$t$检验法来检验\n",
    "$$H_{0j}: \\beta_j=0 v.s. H_{1j}:\\beta_j\\neq 0, j\\in\\{1,2,3\\} $$\n",
    "如果原假设成立，我们就认为自变量$x_j$对响应变量没有影响；如果备择假设成立，我们就认为自变量$x_j$对响应变量有影响。\n",
    "我们构造检验统计量\n",
    "$$t_j=\\frac{\\hat{\\beta_j}\\sqrt{n-p-1}}{\\sqrt{c_{jj}SS_E}}$$\n",
    "其中$c_{jj}$表示矩阵$(\\mathbf{X}^T\\mathbf{X})^{-1}$中第$(j+1)$行，第$(j+1)$列$(j\\in \\{0,1,2,3\\})$的元素。\n",
    "由于\n",
    "$$t_j\\sim t(n-p-1)$$\n",
    "所以显著性水平$\\alpha$下拒绝域为\n",
    "$$W=\\{|t_j|\\geqslant t_{1-\\alpha/2}(n-p-1)\\}$$\n",
    "当$t_j$落入拒绝域，我们拒绝原假设，认为$\\beta_j\\neq 0$。\n",
    "下面，我们就来计算上述检验中各检验统计量的值。"
   ]
  },
  {
   "cell_type": "code",
   "execution_count": 41,
   "id": "afc01e38-6e07-4125-aa0d-44f79e11fbfe",
   "metadata": {},
   "outputs": [
    {
     "name": "stderr",
     "output_type": "stream",
     "text": [
      "/opt/anaconda3/envs/jh-ecnu/lib/python3.9/site-packages/scipy/stats/stats.py:1541: UserWarning: kurtosistest only valid for n>=20 ... continuing anyway, n=12\n",
      "  warnings.warn(\"kurtosistest only valid for n>=20 ... continuing \"\n"
     ]
    },
    {
     "data": {
      "text/html": [
       "<table class=\"simpletable\">\n",
       "<caption>OLS Regression Results</caption>\n",
       "<tr>\n",
       "  <th>Dep. Variable:</th>    <td>Brake_Horsepower</td> <th>  R-squared:         </th> <td>   0.807</td>\n",
       "</tr>\n",
       "<tr>\n",
       "  <th>Model:</th>                   <td>OLS</td>       <th>  Adj. R-squared:    </th> <td>   0.734</td>\n",
       "</tr>\n",
       "<tr>\n",
       "  <th>Method:</th>             <td>Least Squares</td>  <th>  F-statistic:       </th> <td>   11.12</td>\n",
       "</tr>\n",
       "<tr>\n",
       "  <th>Date:</th>             <td>Thu, 29 Sep 2022</td> <th>  Prob (F-statistic):</th>  <td>0.00317</td>\n",
       "</tr>\n",
       "<tr>\n",
       "  <th>Time:</th>                 <td>21:28:25</td>     <th>  Log-Likelihood:    </th> <td> -40.708</td>\n",
       "</tr>\n",
       "<tr>\n",
       "  <th>No. Observations:</th>      <td>    12</td>      <th>  AIC:               </th> <td>   89.42</td>\n",
       "</tr>\n",
       "<tr>\n",
       "  <th>Df Residuals:</th>          <td>     8</td>      <th>  BIC:               </th> <td>   91.36</td>\n",
       "</tr>\n",
       "<tr>\n",
       "  <th>Df Model:</th>              <td>     3</td>      <th>                     </th>     <td> </td>   \n",
       "</tr>\n",
       "<tr>\n",
       "  <th>Covariance Type:</th>      <td>nonrobust</td>    <th>                     </th>     <td> </td>   \n",
       "</tr>\n",
       "</table>\n",
       "<table class=\"simpletable\">\n",
       "<tr>\n",
       "           <td></td>             <th>coef</th>     <th>std err</th>      <th>t</th>      <th>P>|t|</th>  <th>[0.025</th>    <th>0.975]</th>  \n",
       "</tr>\n",
       "<tr>\n",
       "  <th>Intercept</th>          <td> -266.0312</td> <td>   92.674</td> <td>   -2.871</td> <td> 0.021</td> <td> -479.737</td> <td>  -52.325</td>\n",
       "</tr>\n",
       "<tr>\n",
       "  <th>rpm</th>                <td>    0.0107</td> <td>    0.004</td> <td>    2.390</td> <td> 0.044</td> <td>    0.000</td> <td>    0.021</td>\n",
       "</tr>\n",
       "<tr>\n",
       "  <th>Road_Octane_Number</th> <td>    3.1348</td> <td>    0.844</td> <td>    3.712</td> <td> 0.006</td> <td>    1.188</td> <td>    5.082</td>\n",
       "</tr>\n",
       "<tr>\n",
       "  <th>Compression</th>        <td>    1.8674</td> <td>    0.535</td> <td>    3.494</td> <td> 0.008</td> <td>    0.635</td> <td>    3.100</td>\n",
       "</tr>\n",
       "</table>\n",
       "<table class=\"simpletable\">\n",
       "<tr>\n",
       "  <th>Omnibus:</th>       <td> 0.392</td> <th>  Durbin-Watson:     </th> <td>   1.043</td>\n",
       "</tr>\n",
       "<tr>\n",
       "  <th>Prob(Omnibus):</th> <td> 0.822</td> <th>  Jarque-Bera (JB):  </th> <td>   0.230</td>\n",
       "</tr>\n",
       "<tr>\n",
       "  <th>Skew:</th>          <td>-0.282</td> <th>  Prob(JB):          </th> <td>   0.891</td>\n",
       "</tr>\n",
       "<tr>\n",
       "  <th>Kurtosis:</th>      <td> 2.625</td> <th>  Cond. No.          </th> <td>9.03e+04</td>\n",
       "</tr>\n",
       "</table><br/><br/>Notes:<br/>[1] Standard Errors assume that the covariance matrix of the errors is correctly specified.<br/>[2] The condition number is large, 9.03e+04. This might indicate that there are<br/>strong multicollinearity or other numerical problems."
      ],
      "text/plain": [
       "<class 'statsmodels.iolib.summary.Summary'>\n",
       "\"\"\"\n",
       "                            OLS Regression Results                            \n",
       "==============================================================================\n",
       "Dep. Variable:       Brake_Horsepower   R-squared:                       0.807\n",
       "Model:                            OLS   Adj. R-squared:                  0.734\n",
       "Method:                 Least Squares   F-statistic:                     11.12\n",
       "Date:                Thu, 29 Sep 2022   Prob (F-statistic):            0.00317\n",
       "Time:                        21:28:25   Log-Likelihood:                -40.708\n",
       "No. Observations:                  12   AIC:                             89.42\n",
       "Df Residuals:                       8   BIC:                             91.36\n",
       "Df Model:                           3                                         \n",
       "Covariance Type:            nonrobust                                         \n",
       "======================================================================================\n",
       "                         coef    std err          t      P>|t|      [0.025      0.975]\n",
       "--------------------------------------------------------------------------------------\n",
       "Intercept           -266.0312     92.674     -2.871      0.021    -479.737     -52.325\n",
       "rpm                    0.0107      0.004      2.390      0.044       0.000       0.021\n",
       "Road_Octane_Number     3.1348      0.844      3.712      0.006       1.188       5.082\n",
       "Compression            1.8674      0.535      3.494      0.008       0.635       3.100\n",
       "==============================================================================\n",
       "Omnibus:                        0.392   Durbin-Watson:                   1.043\n",
       "Prob(Omnibus):                  0.822   Jarque-Bera (JB):                0.230\n",
       "Skew:                          -0.282   Prob(JB):                        0.891\n",
       "Kurtosis:                       2.625   Cond. No.                     9.03e+04\n",
       "==============================================================================\n",
       "\n",
       "Notes:\n",
       "[1] Standard Errors assume that the covariance matrix of the errors is correctly specified.\n",
       "[2] The condition number is large, 9.03e+04. This might indicate that there are\n",
       "strong multicollinearity or other numerical problems.\n",
       "\"\"\""
      ]
     },
     "execution_count": 41,
     "metadata": {},
     "output_type": "execute_result"
    }
   ],
   "source": [
    "model4 = ols(\"Brake_Horsepower~rpm + Road_Octane_Number + Compression\",Data).fit()\n",
    "model4.summary()"
   ]
  },
  {
   "cell_type": "markdown",
   "id": "a1869810-0a85-4ec2-b6ee-0a077619035d",
   "metadata": {},
   "source": [
    "可见，$F$检验的$p$值为$0.00317$，小于给定的显著性水平$\\alpha=0.05$，所以我们拒绝原假设，认为这个线性回归模型是有意义的。而发动机转速、燃料的道路辛烷值和发动机压缩对应的$t$检验的$p$值分别为$0.044、0.006、0.008$,均小于该显著性水平。所以我们拒绝原假设，认为这三个自变量对响应变量（制动马力）的影响都是显著的。\n",
    "\n",
    "最后，我们再来验证这个模型的正态假设是否成立，即\n",
    "$$\\epsilon_i\\sim N(0,\\sigma^2),i\\in [1,12]\\bigcap Z$$\n",
    "且诸$\\epsilon_i$相互独立。我们还是使用第一周实验中使用的方法来分别检验残差的独立性、方差齐性和正态性。具体的原理不再赘述，我们只分析结果、得出结论。\n",
    "\n",
    "我们先计算出各组样本的残差："
   ]
  },
  {
   "cell_type": "code",
   "execution_count": 35,
   "id": "9ae1f0de-e555-4ec6-a7a5-49468d72451e",
   "metadata": {},
   "outputs": [
    {
     "name": "stdout",
     "output_type": "stream",
     "text": [
      "The residuals are as follows: \n",
      " 0     -0.731289\n",
      "1     13.328247\n",
      "2     11.958476\n",
      "3     -3.137442\n",
      "4    -11.555798\n",
      "5    -10.891754\n",
      "6     -2.213675\n",
      "7      0.124560\n",
      "8      2.906712\n",
      "9     -2.874252\n",
      "10    -0.873931\n",
      "11     3.960146\n",
      "Name: residuals, dtype: float64\n"
     ]
    }
   ],
   "source": [
    "Data_values = Data.values\n",
    "data_res = Data_values.astype(float)\n",
    "Data[\"residuals\"]=-Data[\"Brake_Horsepower\"]+beta_hat_1[0]+beta_hat_1[1]*Data[\"rpm\"]+beta_hat_1[2]*Data[\"Road_Octane_Number\"]+beta_hat_1[3]*Data[\"Compression\"]\n",
    "print(\"The residuals are as follows: \\n\", Data[\"residuals\"])"
   ]
  },
  {
   "cell_type": "markdown",
   "id": "eda0859e-94ef-413e-aef5-3132610ad93e",
   "metadata": {},
   "source": [
    "接着，我们用Durbin-Watson方法检验误差的独立性。"
   ]
  },
  {
   "cell_type": "code",
   "execution_count": 36,
   "id": "70a01334-0861-4d40-89b8-79aba6caf841",
   "metadata": {},
   "outputs": [
    {
     "name": "stdout",
     "output_type": "stream",
     "text": [
      "DW statistic is 1.0431\n"
     ]
    }
   ],
   "source": [
    "DW = durbin_watson(Data[\"residuals\"])\n",
    "print(\"DW statistic is\", round(DW,4))"
   ]
  },
  {
   "cell_type": "markdown",
   "id": "7c12553d-f770-4996-bd92-3162ec2078f9",
   "metadata": {},
   "source": [
    "$DW$值为$1.0431$，无法确定残差之间是否独立。\n",
    "\n",
    "接着，我们用Shapiro-Wilk方法检验误差的正态性。"
   ]
  },
  {
   "cell_type": "code",
   "execution_count": 39,
   "id": "13310b27-fb68-4ab6-8da6-03e794fa0cf5",
   "metadata": {},
   "outputs": [
    {
     "name": "stdout",
     "output_type": "stream",
     "text": [
      "Shapiro-Wilk test statistic is 0.9291\n",
      "The p value is 0.3706\n"
     ]
    }
   ],
   "source": [
    "SW_stat,SW_pVal = stats.shapiro(Data[\"residuals\"])\n",
    "print(\"Shapiro-Wilk test statistic is\", round(SW_stat,4))\n",
    "print(\"The p value is\", round(SW_pVal,4))"
   ]
  },
  {
   "cell_type": "markdown",
   "id": "4248cd23-1cfc-43e0-9e4c-bb0b7f65ad55",
   "metadata": {},
   "source": [
    "由于$p$值大于显著性水平$\\alpha=0.05$，我们接受原假设，认为残差是服从正态分布的。由于只有一组残差，我们不再验证方差齐性。只要这一组残差服从正态分布，它们就一定方差相等。\n",
    "\n",
    "所以，我们无法认为这个线性回归模型的残差符合正态性假设。\n",
    "\n",
    "综上所述，我们从模型显著性、参数显著性两个角度分析了这个多元线性回归模型是合理的，但无法确认残差是否符合独立正态假设。"
   ]
  },
  {
   "cell_type": "markdown",
   "id": "8e28b28e-61e6-42c3-98d5-157436ebff74",
   "metadata": {},
   "source": [
    "- 若取发动机转速为$3000r/min$，道路辛烷值为$90$，发动机压缩值为$100$时，分别给出制动马力值的置信区间和预测区间。\n",
    "\n",
    "在多元线性回归模型中，响应变量的点预测值就等于它在该点的估计值\n",
    "$$\\hat{y_0}=\\mathbf{x_0^T}(\\mathbf{X^TX})^{-1}\\mathbf{X^Ty}$$\n",
    "预测区间为\n",
    "$$\n",
    "\\hat{y}_0 \\pm t_{1-\\alpha/2}(n-p-1) \\hat{\\sigma} \\sqrt{1+\\mathbf{x}_0' (\\mathbf{X}'\\mathbf{X})^{-1} \\mathbf{x}_0}\n",
    "$$\n",
    "其中$$\\hat{\\sigma}^2 = (n-p-1) \\sum_{i=1}^n e_i^2$$\n",
    "我们来根据这个公式计算制动马力的点预测和区间预测："
   ]
  },
  {
   "cell_type": "code",
   "execution_count": 45,
   "id": "239eab27-54e9-496c-b663-d91e3f4b3f54",
   "metadata": {},
   "outputs": [
    {
     "name": "stdout",
     "output_type": "stream",
     "text": [
      "制动马力的点预测为 [234.9819]\n",
      "制动马力的区间预测为 [212.8622 257.1016]\n"
     ]
    }
   ],
   "source": [
    "def prediction_interval(x0,X,y):\n",
    "    # Add intercept to the new vector\n",
    "    x0 = np.append(1,x0)\n",
    "    # Parameter setting\n",
    "    n = X.shape[0]\n",
    "    p = X.shape[1]-1\n",
    "    # Modelling\n",
    "    beta_hat = np.linalg.inv(X.T @ X) @ (X.T @ y) # parameter estimation\n",
    "    y_fitted = X @ beta_hat # fitted value\n",
    "    e = y_fitted - y # residuals\n",
    "    sigma2 = sum(e**2)/(n - p - 1) # estimate of sigma2\n",
    "    # Interval Construction\n",
    "    tVal = t.ppf(1-alpha/2, n- p - 1) # quantile\n",
    "    delta = tVal*np.sqrt(sigma2)*np.sqrt(1 + x0.T @ np.linalg.inv(X.T @ X) @ x0)\n",
    "    y0_fitted = x0 @ beta_hat\n",
    "    output = [y0_fitted - delta, y0_fitted + delta] # prediction interval\n",
    "    return output\n",
    "print(\"制动马力的点预测为\", np.around(model2.predict(np.array([[3000,90,100]])),4))\n",
    "print(\"制动马力的区间预测为\", np.around(prediction_interval(np.array([[3000,90,100]]),X,y),4))"
   ]
  },
  {
   "cell_type": "markdown",
   "id": "20a507e3-dbee-4b25-a76a-ccc309636454",
   "metadata": {},
   "source": [
    "也就是说，在这个自变量条件下制动马力最有可能接近$234.9819$，落入区间$[212.8622,257.1016]$的概率至少为$1-\\alpha=0.95$。"
   ]
  }
 ],
 "metadata": {
  "kernelspec": {
   "display_name": "Python 3 (ipykernel)",
   "language": "python",
   "name": "python3"
  },
  "language_info": {
   "codemirror_mode": {
    "name": "ipython",
    "version": 3
   },
   "file_extension": ".py",
   "mimetype": "text/x-python",
   "name": "python",
   "nbconvert_exporter": "python",
   "pygments_lexer": "ipython3",
   "version": "3.9.12"
  }
 },
 "nbformat": 4,
 "nbformat_minor": 5
}
