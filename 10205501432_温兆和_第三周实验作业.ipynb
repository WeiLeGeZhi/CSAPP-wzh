{
 "cells": [
  {
   "cell_type": "markdown",
   "id": "f49b2e24-e4b8-4bfe-b41d-7b6b4aa58c43",
   "metadata": {},
   "source": [
    "# 统计方法与机器学习-实验报告3\n",
    "\n",
    "温兆和 10205501432\n",
    "\n",
    "## 背景描述\n",
    "\n",
    "实验研究了操作温度和三种面板玻璃材料对示波器管输出光的影响。\n",
    "\n",
    "这是一个压力（因子$A$）水平数$a=3$，温度（因子$B$）水平数$b=3$和重复次数$m=3$的双因子实验。\n",
    "\n",
    "## 数据描述\n",
    "|   变量名   |   变量含义   | 变量类型 |     变量取值范围     |\n",
    "| :---------------:|:------------------------:|:-------------------:|:-------------------:|\n",
    "|Glass_Type|玻璃材料类型|分类变量|{1,2,3}|\n",
    "|Temperature|操作温度|连续变量|{100,125,150}|\n",
    "|Light_Output|输出光|连续变量|$R$|\n",
    "\n",
    "显著性水平$α$取 0.05。\n",
    "\n",
    "## 实验过程\n",
    "\n",
    "- 判断面板玻璃类型和操作温度对该仪器的输出光是否有显著影响。面板玻璃类型和操作温度是否存在交互作用？\n",
    "\n",
    "我们先引入本次实验所要用到的Python库，并打开数据集："
   ]
  },
  {
   "cell_type": "code",
   "execution_count": 5,
   "id": "f9bf3502-f322-4883-8dd1-40e93707b516",
   "metadata": {},
   "outputs": [
    {
     "name": "stdout",
     "output_type": "stream",
     "text": [
      "ProjectData is shown as follows: \n",
      "     Glass_Type  Temperature  Light_Output\n",
      "0            1          100           580\n",
      "1            1          100           568\n",
      "2            1          100           570\n",
      "3            2          100           550\n",
      "4            2          100           530\n",
      "5            2          100           579\n",
      "6            3          100           546\n",
      "7            3          100           575\n",
      "8            3          100           599\n",
      "9            1          125          1090\n",
      "10           1          125          1087\n",
      "11           1          125          1085\n",
      "12           2          125          1070\n",
      "13           2          125          1035\n",
      "14           2          125          1000\n",
      "15           3          125          1045\n",
      "16           3          125          1053\n",
      "17           3          125          1066\n",
      "18           1          150          1392\n",
      "19           1          150          1380\n",
      "20           1          150          1386\n",
      "21           2          150          1328\n",
      "22           2          150          1312\n",
      "23           2          150          1299\n",
      "24           3          150           867\n",
      "25           3          150           904\n",
      "26           3          150           889\n"
     ]
    }
   ],
   "source": [
    "import os\n",
    "import numpy as np\n",
    "import pandas as pd\n",
    "import scipy.stats as stats\n",
    "import matplotlib.pyplot as plt\n",
    "import math\n",
    "from jupyterquiz import display_quiz \n",
    "from itertools import product\n",
    "\n",
    "import statsmodels.api\n",
    "from statsmodels.formula.api import ols\n",
    "from statsmodels.stats.anova import anova_lm\n",
    "from statsmodels.stats.stattools import durbin_watson\n",
    "print('ProjectData is shown as follows: \\n', pd.read_csv(\"./Project_2.csv\"))"
   ]
  },
  {
   "cell_type": "markdown",
   "id": "544c93b2-a726-446f-8460-d9be697271db",
   "metadata": {},
   "source": [
    "可以发现，这个数据集中响应变量为输出光，影响该响应变量的共有玻璃材料类型和操作温度两个因子，每个因子各有三个水平，每种因子组合下各有三次重复。由此，我们来设置该双因子方差分析问题的一些参数："
   ]
  },
  {
   "cell_type": "code",
   "execution_count": 6,
   "id": "4286a03d-4538-4a63-9e06-23dc94b013bf",
   "metadata": {},
   "outputs": [],
   "source": [
    "alpha = 0.05 #显著性水平\n",
    "a = 3        #玻璃材料类型因子数\n",
    "b = 3        #操作温度因子数\n",
    "m = 3        #每种因子组合下的重复次数"
   ]
  },
  {
   "cell_type": "markdown",
   "id": "e18c69d2-39b6-41a8-9f33-fba072381cef",
   "metadata": {},
   "source": [
    "在双因子方差分析问题中，我们假设$$y_{ijk} = \\mu + \\alpha_i + \\beta_j + (\\alpha\\beta)_{ij} + \\epsilon_{ijk}$$其中$$\\sum_{i=1}^a \\alpha_i=0,\\sum_{j=1}^b \\beta_j=0,\\sum_{i=1}^a (\\alpha\\beta)_{ij}=\\sum_{j=1}^b (\\alpha\\beta)_{ij}=0$$假设$$\\epsilon_{ijk} \\overset{i.i.d}{\\sim} N(0,\\sigma^2)$$\n",
    "于是，判断面板玻璃类型和操作温度对该仪器的输出光是否有显著影响以及面板玻璃类型和操作温度是否存在交互作用的问题就可以转化为下面的假设检验问题：\n",
    "\n",
    "判断面板玻璃类型对该仪器的输出光是否有显著影响：$$H_0:\\alpha_1=\\alpha_2=\\alpha_3=0 v.s. H_1:\\exists i\\in\\{1,2,3\\} s.t. \\alpha_i\\neq 0$$\n",
    "判断操作温度对该仪器的输出光是否有显著影响：$$H_0:\\beta_1=\\beta_2=\\beta_3=0 v.s. H_1:\\exists j\\in\\{1,2,3\\} s.t. \\beta_j\\neq 0$$\n",
    "判断面板玻璃类型和操作温度是否存在交互作用：$$H_0:对\\forall i\\in\\{1,2,3\\},j\\in\\{1,2,3\\},(\\alpha\\beta)_{ij}=0 v.s. H_1:\\exists (\\alpha\\beta)_{ij}\\neq 0$$\n",
    "我们用Python内置的函数对这三个问题进行检验："
   ]
  },
  {
   "cell_type": "code",
   "execution_count": 7,
   "id": "ed073a7e-e116-4a08-a7b3-2faa911bf09f",
   "metadata": {},
   "outputs": [
    {
     "name": "stdout",
     "output_type": "stream",
     "text": [
      "Two-way ANOVA Table is shown as follows: \n",
      "                                 df        sum_sq      mean_sq          F  \\\n",
      "C(Glass_Type)                  2.0  1.508645e+05   75432.2593   206.3706   \n",
      "C(Temperature)                 2.0  1.970335e+06  985167.2593  2695.2595   \n",
      "C(Glass_Type):C(Temperature)   4.0  2.905517e+05   72637.9259   198.7257   \n",
      "Residual                      18.0  6.579333e+03     365.5185        NaN   \n",
      "\n",
      "                              PR(>F)  \n",
      "C(Glass_Type)                    0.0  \n",
      "C(Temperature)                   0.0  \n",
      "C(Glass_Type):C(Temperature)     0.0  \n",
      "Residual                         NaN  \n"
     ]
    }
   ],
   "source": [
    "Data = pd.read_csv('./Project_2.csv')\n",
    "model = ols('Light_Output ~ C(Glass_Type) * C(Temperature)', Data).fit()\n",
    "anova_results = anova_lm(model)\n",
    "print(\"Two-way ANOVA Table is shown as follows: \\n\", round(anova_results,4))"
   ]
  },
  {
   "cell_type": "markdown",
   "id": "e4b41986-0d61-4c4c-8484-5f8b7a5f7dc0",
   "metadata": {},
   "source": [
    "可见，在显著性水平$α=0.05$下，三个检验的$p$值都为$0$.所以我们认为面板玻璃类型和操作温度对该仪器的输出光的影响以及面板玻璃类型和操作温度之间的交互作用都是显著的."
   ]
  },
  {
   "cell_type": "markdown",
   "id": "4919054d-6f38-484d-b22e-756e75fb3570",
   "metadata": {},
   "source": [
    "- 用适合的残差图，判断任务1中使用的模型是否恰当？\n",
    "\n",
    "为了验证模型的合理性，我们研究$$\\epsilon_{ijk}=y_{ijk} -\\mu -\\alpha_i-\\beta_j+(\\alpha\\beta)_{ij}$$的分布是否满足独立性、正态性、方差齐性。由于误差是难以观测的，所以我们用残差（即数据真实值与估计值之差）$$e_{ijk}=y_{ijk} -\\hat{ \\mu} -\\hat{ \\alpha_i }-\\hat{ \\beta_j }+\\hat{ (\\alpha\\beta)_{ij}}$$来代替误差。\n",
    "\n",
    "我们先计算出各因子水平组合下数据的残差："
   ]
  },
  {
   "cell_type": "code",
   "execution_count": 8,
   "id": "e5be7beb-1bd2-4fc2-88c8-0d38e0ab6145",
   "metadata": {},
   "outputs": [
    {
     "name": "stdout",
     "output_type": "stream",
     "text": [
      "The residuals are as follows: \n",
      " 0     7.333333e+00\n",
      "1    -4.666667e+00\n",
      "2    -2.666667e+00\n",
      "3    -3.000000e+00\n",
      "4    -2.300000e+01\n",
      "5     2.600000e+01\n",
      "6    -2.733333e+01\n",
      "7     1.666667e+00\n",
      "8     2.566667e+01\n",
      "9     2.666667e+00\n",
      "10   -3.333333e-01\n",
      "11   -2.333333e+00\n",
      "12    3.500000e+01\n",
      "13   -4.547474e-13\n",
      "14   -3.500000e+01\n",
      "15   -9.666667e+00\n",
      "16   -1.666667e+00\n",
      "17    1.133333e+01\n",
      "18    6.000000e+00\n",
      "19   -6.000000e+00\n",
      "20    0.000000e+00\n",
      "21    1.500000e+01\n",
      "22   -1.000000e+00\n",
      "23   -1.400000e+01\n",
      "24   -1.966667e+01\n",
      "25    1.733333e+01\n",
      "26    2.333333e+00\n",
      "Name: Residuals, dtype: float64\n"
     ]
    }
   ],
   "source": [
    "Data_values = Data.values\n",
    "data_res = Data_values.astype(float)\n",
    "Data[\"Fitted_Values\"] = model.predict()\n",
    "Data[\"Residuals\"] = Data[\"Light_Output\"] - model.predict()\n",
    "print(\"The residuals are as follows: \\n\", Data[\"Residuals\"])"
   ]
  },
  {
   "cell_type": "markdown",
   "id": "938e989f-2ffa-457d-a297-13b1021aa53d",
   "metadata": {},
   "source": [
    "接着，我们用Durbin-Watson方法检验误差的独立性。"
   ]
  },
  {
   "cell_type": "code",
   "execution_count": 9,
   "id": "764c81fc-46bf-4b8c-8bec-ab03a459370d",
   "metadata": {},
   "outputs": [
    {
     "name": "stdout",
     "output_type": "stream",
     "text": [
      "DW statistic is 2.2731\n"
     ]
    }
   ],
   "source": [
    "DW = durbin_watson(Data[\"Residuals\"])\n",
    "print(\"DW statistic is\", round(DW,4))"
   ]
  },
  {
   "cell_type": "markdown",
   "id": "ff092751-82fb-4e1f-9e07-47f70aa90453",
   "metadata": {},
   "source": [
    "可见，我们得到的数值比较接近于$2$，所以可以认为误差之间是相互独立的。\n",
    "\n",
    "接着，我们用Bartlett方法和修正后的Levene方法分别验证在不同因子影响下响应变量的误差方差相等。"
   ]
  },
  {
   "cell_type": "code",
   "execution_count": 10,
   "id": "dc7b1d46-f411-4995-aa2c-5f234e7df798",
   "metadata": {},
   "outputs": [
    {
     "name": "stdout",
     "output_type": "stream",
     "text": [
      "Bartlett's test statistic is 13.4386\n",
      "The p value is 0.0976\n"
     ]
    }
   ],
   "source": [
    "Bart_stat, Bart_pVal = stats.bartlett([580,568,570],[550,530,579],[546,575,599],[1090,1087,1085],[1070,1035,1000],[1045,1053,1066],[1392,1380,1386],[1328,1312,1299],[867,904,889])\n",
    "print(\"Bartlett's test statistic is\", round(Bart_stat,4))\n",
    "print(\"The p value is\", round(Bart_pVal,4))"
   ]
  },
  {
   "cell_type": "markdown",
   "id": "9467109a-0968-450c-b17c-4a9f0a4c6ceb",
   "metadata": {},
   "source": [
    "由于$p$值大于显著性水平$\\alpha=0.05$，我们接受原假设，认为这个数据集中不同因子水平影响下的数方差相等。\n",
    "\n",
    "用修正后的Levene检验也能得出同样的结论："
   ]
  },
  {
   "cell_type": "code",
   "execution_count": 11,
   "id": "ee92f64d-9b42-4d82-9b2e-31853be25537",
   "metadata": {},
   "outputs": [
    {
     "name": "stdout",
     "output_type": "stream",
     "text": [
      "Levene's test statistic is 1.2548\n",
      "The p value is 0.3253\n"
     ]
    }
   ],
   "source": [
    "Lev_stat, Lev_pVal = stats.levene([580,568,570],[550,530,579],[546,575,599],[1090,1087,1085],[1070,1035,1000],[1045,1053,1066],[1392,1380,1386],[1328,1312,1299],[867,904,889])\n",
    "print(\"Levene's test statistic is\", round(Lev_stat,4))\n",
    "print(\"The p value is\", round(Lev_pVal,4))"
   ]
  },
  {
   "cell_type": "markdown",
   "id": "5c475324-9e46-41b6-935f-9d7185277996",
   "metadata": {},
   "source": [
    "这里的$p$值也是大于显著性水平的，所以一样可以得到数据集中不同因子水平影响下的数方差相等的结论。\n",
    "\n",
    "最后，我们用Shapiro-Wilk方法检验误差的正态性。"
   ]
  },
  {
   "cell_type": "code",
   "execution_count": 12,
   "id": "9bd57c82-d1f9-4af6-ac37-6c744880ce8a",
   "metadata": {},
   "outputs": [
    {
     "name": "stdout",
     "output_type": "stream",
     "text": [
      "Shapiro-Wilk test statistic is 0.967\n",
      "The p value is 0.5237\n"
     ]
    }
   ],
   "source": [
    "SW_stat,SW_pVal = stats.shapiro(Data[\"Residuals\"])\n",
    "print(\"Shapiro-Wilk test statistic is\", round(SW_stat,4))\n",
    "print(\"The p value is\", round(SW_pVal,4))"
   ]
  },
  {
   "cell_type": "markdown",
   "id": "30c32a6d-732e-406e-973b-26cdfbb5ed28",
   "metadata": {},
   "source": [
    "由于$p$值大于显著性水平$\\alpha=0.05$，我们接受原假设，认为残差是服从正态分布的。"
   ]
  },
  {
   "cell_type": "markdown",
   "id": "4e81a842-168f-497b-8fd5-d646408105b9",
   "metadata": {},
   "source": [
    "- 选出一种合适的玻璃类型，并给出理由。"
   ]
  },
  {
   "cell_type": "markdown",
   "id": "1300bc43-8dcf-402c-a9f2-493bfb297db1",
   "metadata": {},
   "source": [
    "我们对数据进行进一步处理，并根据响应变量在不同因子水平组合下的预测值作图。"
   ]
  },
  {
   "cell_type": "code",
   "execution_count": 13,
   "id": "e335e473-5d50-44c4-8486-7d25059dcaf5",
   "metadata": {},
   "outputs": [
    {
     "name": "stdout",
     "output_type": "stream",
     "text": [
      "    Glass_Type  Temperature  Fitted_Values\n",
      "0            1          100     572.666667\n",
      "3            2          100     553.000000\n",
      "6            3          100     573.333333\n",
      "9            1          125    1087.333333\n",
      "12           2          125    1035.000000\n",
      "15           3          125    1054.666667\n",
      "18           1          150    1386.000000\n",
      "21           2          150    1313.000000\n",
      "24           3          150     886.666667\n"
     ]
    },
    {
     "data": {
      "text/plain": [
       "<matplotlib.legend.Legend at 0x7f131c36bf70>"
      ]
     },
     "execution_count": 13,
     "metadata": {},
     "output_type": "execute_result"
    },
    {
     "data": {
      "image/png": "[encoded data removed]",
      "text/plain": [
       "<Figure size 432x288 with 1 Axes>"
      ]
     },
     "metadata": {
      "needs_background": "light"
     },
     "output_type": "display_data"
    }
   ],
   "source": [
    "Data1 = Data.drop(labels = [\"Light_Output\",\"Residuals\"],axis = 1)\n",
    "Data2 = Data1.drop_duplicates(subset = None,keep = \"first\",inplace = False)\n",
    "print(Data2)\n",
    "MT = Data[\"Glass_Type\"].unique()\n",
    "for temp_MT in MT:\n",
    "    temp_data = Data2[Data2[\"Glass_Type\"].isin([temp_MT])]\n",
    "    exec(\"Data2_%s = temp_data\"%temp_MT)\n",
    "plt.plot(Data2_1[\"Temperature\"],Data2_1[\"Fitted_Values\"], color = 'red', marker = 'o', label = 'Glass Type 1')\n",
    "plt.plot(Data2_2[\"Temperature\"],Data2_2[\"Fitted_Values\"], color = 'green', marker = 'o', label = 'Glass Type 2')\n",
    "plt.plot(Data2_3[\"Temperature\"],Data2_3[\"Fitted_Values\"], color = 'blue', marker = 'o', label = 'Glass Type 3')\n",
    "plt.title(\"Glass Type - Temperature Plot\")\n",
    "plt.xlabel(\"Temperature (°F)\")\n",
    "plt.ylabel(\"Average of Light Output\")\n",
    "plt.legend(['Glass Type 1', 'Glass Type 2', 'Glass Type 3'])"
   ]
  },
  {
   "cell_type": "markdown",
   "id": "26ec52d6-9f02-4a69-99c7-3af59c291928",
   "metadata": {},
   "source": [
    "可见，第一种玻璃在不同的温度水平下都有较高的输出光，所以我们选择第一种玻璃。"
   ]
  },
  {
   "cell_type": "markdown",
   "id": "3576d30c-b31b-47bb-9de8-19b9ed78d003",
   "metadata": {},
   "source": [
    "- 绘制响应曲线，并预测在操作温度为$110$度时，三种不同面板玻璃类型制成的仪器的输出光分别为多少？\n",
    "\n",
    "现在，我们用线性回归的方法对刚刚处理得到的数据进行拟合，并画出更为光滑、更能反映响应变量在所有不同温度下的输出光的图表，从而预测不同种类玻璃在特定温度下输出光的取值。"
   ]
  },
  {
   "cell_type": "code",
   "execution_count": 36,
   "id": "e2ff6b92-08b0-47be-9404-ac7cbe07b8c4",
   "metadata": {},
   "outputs": [
    {
     "data": {
      "text/plain": [
       "<matplotlib.legend.Legend at 0x7f075bf487f0>"
      ]
     },
     "execution_count": 36,
     "metadata": {},
     "output_type": "execute_result"
    },
    {
     "data": {
      "image/png": "[encoded data removed]",
      "text/plain": [
       "<Figure size 432x288 with 1 Axes>"
      ]
     },
     "metadata": {
      "needs_background": "light"
     },
     "output_type": "display_data"
    }
   ],
   "source": [
    "A = (Data.values[:,1] - np.mean(Data[\"Temperature\"]))*2 / (np.max(Data[\"Temperature\"]) - np.min(Data[\"Temperature\"])) \n",
    "B1 = Data.values[:,0]\n",
    "B2 = Data.values[:,0]\n",
    "for i in range(Data.shape[0]):\n",
    "    if Data[\"Glass_Type\"][i] == 1:\n",
    "        B1[i] = 1\n",
    "        B2[i] = 0\n",
    "    if Data[\"Glass_Type\"][i] == 2:\n",
    "        B1[i] = 0\n",
    "        B2[i] = 1\n",
    "    if Data[\"Glass_Type\"][i] == 3:\n",
    "        B1[i] = -1\n",
    "        B2[i] = -1  \n",
    "AA = A**2\n",
    "AB1 = A * B1\n",
    "AB2 = A * B2\n",
    "AAB1 = AA * B1\n",
    "AAB2 = AA * B2\n",
    "\n",
    "Data3 = pd.DataFrame(A,columns=[\"A\"])\n",
    "Data3[\"B1\"] = B1\n",
    "Data3[\"B2\"] = B2\n",
    "Data3[\"AA\"] = AA\n",
    "Data3[\"AB1\"] = AB1\n",
    "Data3[\"AB2\"] = AB2\n",
    "Data3[\"AAB1\"] = AAB1\n",
    "Data3[\"AAB2\"] = AAB2\n",
    "Data3[\"Light_Output\"] = Data[\"Light_Output\"]\n",
    "model_new = ols('Light_Output ~ A+B1+B2+AA+AB1+AB2+AAB1+AAB2', Data3).fit()\n",
    "model_new.summary()\n",
    "A_new = list(np.linspace(start = -1,stop = 1, num = 100)) # num = 50 (default)\n",
    "B_new = [1,2,3]\n",
    "Data4 = pd.DataFrame(index = range(len(A_new)*len(B_new)),columns=[\"A\",\"B1\",\"B2\",\"AA\",\"AB1\",\"AB2\",\"AAB1\",\"AAB2\"])\n",
    "for i in range(len(A_new)):\n",
    "    for j in range(len(B_new)):\n",
    "        Data4[\"A\"][i*len(B_new)+j] = A_new[i]\n",
    "        if B_new[j] == 1:\n",
    "            Data4[\"B1\"][i*len(B_new)+j] = 1\n",
    "            Data4[\"B2\"][i*len(B_new)+j] = 0\n",
    "        if B_new[j] == 2:\n",
    "            Data4[\"B1\"][i*len(B_new)+j] = 0\n",
    "            Data4[\"B2\"][i*len(B_new)+j] = 1\n",
    "        if B_new[j] == 3:\n",
    "            Data4[\"B1\"][i*len(B_new)+j] = -1\n",
    "            Data4[\"B2\"][i*len(B_new)+j] = -1\n",
    "\n",
    "Data4[\"AA\"] = Data4[\"A\"] **2\n",
    "Data4[\"AB1\"] = Data4[\"A\"] * Data4[\"B1\"]\n",
    "Data4[\"AB2\"] = Data4[\"A\"] * Data4[\"B2\"]\n",
    "Data4[\"AAB1\"] = Data4[\"AA\"] * Data4[\"B1\"]\n",
    "Data4[\"AAB2\"] = Data4[\"AA\"] * Data4[\"B2\"]  \n",
    "Data4 = statsmodels.api.add_constant(Data4)\n",
    "Data4[\"Fitted_Values\"] = np.dot(Data4,model_new.params)\n",
    "list_B1 = Data4[\"B1\"].unique()\n",
    "index = 1\n",
    "for temp in list_B1:\n",
    "    temp_data = Data4[Data4[\"B1\"].isin([temp])]\n",
    "    exec(\"Data4_%s = temp_data\"%index)\n",
    "    index += 1\n",
    "\n",
    "\n",
    "plt.plot(Data4_1[\"A\"],Data4_1[\"Fitted_Values\"], color = 'red', label = 'Glass Type 1')\n",
    "plt.plot(Data4_2[\"A\"],Data4_2[\"Fitted_Values\"], color = 'green',  label = 'Glass Type 2')\n",
    "plt.plot(Data4_3[\"A\"],Data4_3[\"Fitted_Values\"], color = 'blue',  label = 'Glass Type 3')\n",
    "plt.title(\"Glass Type - Temperature Plot\")\n",
    "plt.xlabel(\"Temperature (°F)\")\n",
    "plt.ylabel(\"Average of Light Output\")\n",
    "plt.xticks([-1,0,1],[100,125,150])\n",
    "plt.legend(['Glass Type 1', 'Glass Type 2', 'Glass Type 3'])"
   ]
  },
  {
   "cell_type": "markdown",
   "id": "b834bbbd-9e8b-477e-8183-0dabe182b15b",
   "metadata": {},
   "source": [
    "可以预测，三种材料在$110$度温度下的输出光都在$800$左右。"
   ]
  }
 ],
 "metadata": {
  "kernelspec": {
   "display_name": "Python 3 (ipykernel)",
   "language": "python",
   "name": "python3"
  },
  "language_info": {
   "codemirror_mode": {
    "name": "ipython",
    "version": 3
   },
   "file_extension": ".py",
   "mimetype": "text/x-python",
   "name": "python",
   "nbconvert_exporter": "python",
   "pygments_lexer": "ipython3",
   "version": "3.9.12"
  }
 },
 "nbformat": 4,
 "nbformat_minor": 5
}
